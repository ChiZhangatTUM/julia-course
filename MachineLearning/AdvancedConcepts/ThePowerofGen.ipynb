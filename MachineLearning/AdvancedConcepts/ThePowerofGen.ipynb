{
 "cells": [
  {
   "cell_type": "markdown",
   "metadata": {
    "slideshow": {
     "slide_type": "slide"
    }
   },
   "source": [
    "# Probabilistic Programming - A Powerful Abstraction\n",
    "\n",
    "This notebook introduces the reader to the concept of probabilistic programming, an effort to construct programming systems in which Bayesian inference is at the core of the scientific endeavour. Integrations with machine learning frameworks are another core concept, when considering data-driven (amortized) inference routines. The amortized inference showcase of Gen's capabilities is based on Gen's excellent introduction to [Data-Driven Proposals in Gen](https://github.com/probcomp/gen-quickstart/blob/master/tutorials/Data-Driven%20Proposals%20in%20Gen.ipynb).\n",
    "\n",
    "\n",
    "## Outline:\n",
    "\n",
    "**Section 1.** [Introduction to Probabilistic Programming](#probprog)\n",
    "\n",
    "**Section 2.** [Architecture of Gen](#gen)\n",
    "\n",
    "**Section 3.** [Core-Abstractions of Gen](#abstractions)\n",
    "\n",
    "**Section 4.** [Data-Driven Proposals in Gen](#datadriven)"
   ]
  },
  {
   "cell_type": "markdown",
   "metadata": {
    "slideshow": {
     "slide_type": "slide"
    }
   },
   "source": [
    "<p align=\"center\"><img src=\"imgs/PPX.png\" width=\"700\" height=\"300\" /></p>\n",
    "\n",
    "(Source: Etalumis: Bringing Probabilistic Programming to Scientific Simulators at Scale)"
   ]
  },
  {
   "cell_type": "markdown",
   "metadata": {
    "slideshow": {
     "slide_type": "slide"
    }
   },
   "source": [
    "## 1: Introduction to Probabilistic Programming <a name=\"probprog\"></a>"
   ]
  },
  {
   "cell_type": "markdown",
   "metadata": {
    "slideshow": {
     "slide_type": "slide"
    }
   },
   "source": [
    "### What is Probabilistic Programming?\n",
    "\n",
    "- Emerging paradigm to express probabilistic models in a generic programming language\n",
    "- Native reasoning about probabilities and uncertainties in our models\n",
    "- Semantics of Bayesian inference\n",
    "- Most often acts as a compiler between the domain-specific probabilistic programming language and the generic programming language it is built on top of\n",
    "- Translate inference problems from the generic programming language or a DSL into mathematical object to which probabilistic inference can be applied via\n",
    "    - Language design\n",
    "    - Interpreters\n",
    "    - Compilers\n",
    "- The main applications are currently\n",
    "    - Machine learning, especially Bayesian deep learning, Computer vision, Robotics, Uncertainty quantification"
   ]
  },
  {
   "cell_type": "markdown",
   "metadata": {
    "slideshow": {
     "slide_type": "slide"
    }
   },
   "source": [
    "### What is the inherent Problem of Bayesian Inference?\n",
    "\n",
    "Recall Bayes rule:\n",
    "\n",
    "    \n",
    "$p(x|y) = \\frac{p(x, y)}{\\int p(x, y) dx}$\n",
    "\n",
    "e.g.\n",
    "\n",
    "$= \\frac{\\frac{\\Gamma(\\alpha + \\beta)}{\\Gamma(\\alpha)\\Gamma(\\beta)} x^{y + \\alpha - 1} \\left( 1 - x \\right)^{\\beta - y}}{\\int \\frac{\\Gamma(\\alpha + \\beta)}{\\Gamma(\\alpha) \\Gamma(\\beta)} x^{y + \\alpha - 1} \\left( 1 - x \\right)^{\\beta - y} dx} = \\frac{2}{2}$\n",
    "\n",
    "Leaving us with an integral, which is in nearly all applications intractable. We hence have to rely on a number of inference algorithms to approximate the denominator and arrive at the posterior."
   ]
  },
  {
   "cell_type": "markdown",
   "metadata": {
    "slideshow": {
     "slide_type": "slide"
    }
   },
   "source": [
    "### The Core of a Probabilistic Programming System: The Inference Library\n",
    "\n",
    "A core requirement for an inference algorithm to be considered worthwhile including in a probabilistic programming system is its applicability to a large class of models, without the need for the injection of custom code. The inference algorithms in use can largely be split up into two main categories; the sampling-based inference algorithms and the optimization-based algorithms.\n",
    "\n",
    "Based on optimization:\n",
    "- Variational inference\n",
    "- Black-Box Variational Inference (BBVI)\n",
    "- Automatic Differentiation Variational Inference (ADVI)\n",
    "- Stochastic Variational Inference (SVI)\n",
    "- ..."
   ]
  },
  {
   "cell_type": "markdown",
   "metadata": {
    "slideshow": {
     "slide_type": "slide"
    }
   },
   "source": [
    "Based on sampling:\n",
    "- Hamiltonian Monte-Carlo\n",
    "- Sequential Monte-Carlo\n",
    "- Gibbs Sampler\n",
    "- Importance Sampling\n",
    "- Metropolis-Hastings\n",
    "- Metropolis-Adjusted Langevin Algorithm\n",
    "- ..."
   ]
  },
  {
   "cell_type": "markdown",
   "metadata": {
    "slideshow": {
     "slide_type": "slide"
    }
   },
   "source": [
    "## 2: Architecture of Gen <a name=\"gen\"></a>"
   ]
  },
  {
   "cell_type": "markdown",
   "metadata": {
    "slideshow": {
     "slide_type": "slide"
    }
   },
   "source": [
    "An ability inherent to Gen, making it so useful for difficult problems from the natural/physical sciences is its flexible, extensible domain-specific language, which accepts Julia code to then construct the probabilistic programs. Gen's architecture plays a large part in driving these applications forward.\n",
    "\n",
    "<img src=\"imgs/GenArchitecture.png\" width=\"750\" height=\"350\" />\n",
    "\n",
    "(Source: Gen: A General-Purpose Probabilistic ProgrammingSystem with Programmable Inference)\n",
    "\n"
   ]
  },
  {
   "cell_type": "markdown",
   "metadata": {
    "slideshow": {
     "slide_type": "slide"
    }
   },
   "source": [
    "With Gen's architecture we are able to seamlessly integrate between neural networks, generative models written in Julia, and an extensive inference library. All, while at the same time still being lightweight and an extensible inference library. If latency is of importance Gen offers a static DSL, which compiles the probabilistic program and hence guarantees the best possible performance while reducing the available expressiveness at the same time. This can be compared to the layout of [Turing](https://github.com/TuringLang/Turing.jl), a second prominent example of probabilistic programming in Julia.\n",
    "\n",
    "<img src=\"imgs/TuringArchitecture.png\" width=\"280\" height=\"335\" />"
   ]
  },
  {
   "cell_type": "markdown",
   "metadata": {
    "slideshow": {
     "slide_type": "slide"
    }
   },
   "source": [
    "A probabilistic programming system in which the user has to write generative models conformal with the DSL is at the core of Turing. An advantage that Turing has though is that it seamlessly interfaces with the remaining Julia machine learning ecosystem, such as Flux etc. This allows for the ability to easily construct hierarchical Bayesian models, as could be seen in the 'regression workbook' in the morning.\n",
    "\n",
    "- Gen's syntactical abstraction of traces does not allow for a straightforward integration with the remaining Julia machine learning ecosystem"
   ]
  },
  {
   "cell_type": "markdown",
   "metadata": {
    "slideshow": {
     "slide_type": "slide"
    }
   },
   "source": [
    "## 3: Core-Abstractions of Gen <a name=\"abstractions\"></a>"
   ]
  },
  {
   "cell_type": "markdown",
   "metadata": {},
   "source": [
    "Gen, as is Turing for that matter, is built on a number of key abstractions:\n",
    "\n",
    "- **Generative models** allow the user to express their probabilistic models in the Julia syntax.\n",
    "- **Stochastic branching** generative models can either be hierarchically stacked, or used in parallel with the branching algorithm performing a model selection of the most suitable model.\n",
    "- **Bayesian Nonparametrics** is enabled by Gen's ability to handle unbounded numbers of parameters.\n",
    "- **Generative Function Combinators** allow the creation of new generative functions from 'old' generative functions.\n",
    "- **Choice Maps** can express observations and constraints on traces of generative functions."
   ]
  },
  {
   "cell_type": "markdown",
   "metadata": {
    "slideshow": {
     "slide_type": "slide"
    }
   },
   "source": [
    "## 4: Data-Driven Proposals in Gen <a name=\"datadriven\"></a>"
   ]
  },
  {
   "cell_type": "markdown",
   "metadata": {},
   "source": [
    "Here we introduce the concept of data-driven proposals to accelerate Monte Carlo inference. Using information from the observed data we choose a proposal distribution for the latent variables in the generative model. With trainable parameters which are trained with simulated data from the generative model. The training process is colloquially known as \"armorticed inference\" or \"inference compilation\".\n",
    "\n",
    "In here we constrain ourselves to importance sampling, but other approaches with Markov-chain Monte-Carlo and Sequential Monte-Carlo are possible.\n",
    "\n",
    "The example application presented here is the movement of an autonomous agent in a constrained environment."
   ]
  },
  {
   "cell_type": "markdown",
   "metadata": {
    "slideshow": {
     "slide_type": "slide"
    }
   },
   "source": [
    "Import the necessary dependencies and start the visualization server"
   ]
  },
  {
   "cell_type": "code",
   "execution_count": 1,
   "metadata": {},
   "outputs": [],
   "source": [
    "using Gen, PyPlot"
   ]
  },
  {
   "cell_type": "markdown",
   "metadata": {},
   "source": [
    "Import the source files of the autonomous agent"
   ]
  },
  {
   "cell_type": "code",
   "execution_count": 2,
   "metadata": {},
   "outputs": [],
   "source": [
    "include(\"inverse-planning/geometric_primitives.jl\");\n",
    "include(\"inverse-planning/scene.jl\");\n",
    "include(\"inverse-planning/planning.jl\");"
   ]
  },
  {
   "cell_type": "markdown",
   "metadata": {
    "slideshow": {
     "slide_type": "slide"
    }
   },
   "source": [
    "Define a generative model for the autonomous agent"
   ]
  },
  {
   "cell_type": "code",
   "execution_count": 3,
   "metadata": {
    "slideshow": {
     "slide_type": "slide"
    }
   },
   "outputs": [],
   "source": [
    "@gen function agent_model(scene::Scene, dt::Float64, num_ticks::Int, planner_params::PlannerParams)\n",
    "\n",
    "    # sample the start point of the agent from the prior\n",
    "    start_x = @trace(uniform(0, 1), :start_x)\n",
    "    start_y = @trace(uniform(0, 1), :start_y)\n",
    "    start = Point(start_x, start_y)\n",
    "    # sample the destination point of the agent from the prior\n",
    "    dest_x = @trace(uniform(0, 1), :dest_x)\n",
    "    dest_y = @trace(uniform(0, 1), :dest_y)\n",
    "    dest = Point(dest_x, dest_y)\n",
    "    # plan a path that avoids obstacles in the scene\n",
    "    maybe_path = plan_path(start, dest, scene, planner_params)\n",
    "    planning_failed = maybe_path == nothing\n",
    "    \n",
    "    # sample the speed from the prior\n",
    "    speed = @trace(uniform(0.3, 1), :speed)\n",
    "\n",
    "    if planning_failed\n",
    "        # path planning failed, assume the agent stays as the start location indefinitely\n",
    "        locations = fill(start, num_ticks)\n",
    "    else\n",
    "        # path planning succeeded, move along the path at constant speed\n",
    "        locations = walk_path(maybe_path, speed, dt, num_ticks)\n",
    "    end\n",
    "\n",
    "    # generate noisy measurements of the agent's location at each time point\n",
    "    noise = 0.01\n",
    "    for (i, point) in enumerate(locations)\n",
    "        x = @trace(normal(point.x, noise), :meas => (i, :x))\n",
    "        y = @trace(normal(point.y, noise), :meas => (i, :y))\n",
    "    end\n",
    "\n",
    "    return (planning_failed, maybe_path)\n",
    "end;"
   ]
  },
  {
   "cell_type": "markdown",
   "metadata": {
    "slideshow": {
     "slide_type": "slide"
    }
   },
   "source": [
    "Serialize the execution trace into JSON"
   ]
  },
  {
   "cell_type": "code",
   "execution_count": 4,
   "metadata": {
    "slideshow": {
     "slide_type": "slide"
    }
   },
   "outputs": [],
   "source": [
    "function trace_to_dict(trace)\n",
    "    args = Gen.get_args(trace)\n",
    "    (scene, dt, num_ticks, planner_params) = args\n",
    "    choices = Gen.get_choices(trace)\n",
    "    (planning_failed, maybe_path) = Gen.get_retval(trace)\n",
    "\n",
    "    d = Dict()\n",
    "\n",
    "    # scene (the obstacles)\n",
    "    d[\"scene\"] = scene\n",
    "\n",
    "    # the points along the planned path\n",
    "    if planning_failed\n",
    "        d[\"path\"] = []\n",
    "    else\n",
    "        d[\"path\"] = maybe_path.points\n",
    "    end\n",
    "\n",
    "    # start and destination location\n",
    "    d[\"start\"] = Point(choices[:start_x], choices[:start_y])\n",
    "    d[\"dest\"] = Point(choices[:dest_x], choices[:dest_y])\n",
    "\n",
    "    # the observed location of the agent over time\n",
    "    local measurements\n",
    "    measurements = Vector{Point}(undef, num_ticks)\n",
    "    for i=1:num_ticks\n",
    "        measurements[i] = Point(choices[:meas => (i, :x)], choices[:meas => (i, :y)])\n",
    "    end\n",
    "    d[\"measurements\"] = measurements\n",
    "\n",
    "    return d\n",
    "end;"
   ]
  },
  {
   "cell_type": "markdown",
   "metadata": {
    "slideshow": {
     "slide_type": "slide"
    }
   },
   "source": [
    "Define the scene by adding obstacles, horizontal- and vertical-walls"
   ]
  },
  {
   "cell_type": "code",
   "execution_count": 5,
   "metadata": {},
   "outputs": [],
   "source": [
    "scene = Scene(0, 1, 0, 1)\n",
    "add_obstacle!(scene, make_square(Point(0.30, 0.20), 0.1))\n",
    "add_obstacle!(scene, make_square(Point(0.83, 0.80), 0.1))\n",
    "add_obstacle!(scene, make_square(Point(0.80, 0.40), 0.1))\n",
    "horizontal = false\n",
    "vertical = true\n",
    "wall_thickness = 0.02\n",
    "add_obstacle!(scene, make_line(horizontal, Point(0.20, 0.40), 0.40, wall_thickness))\n",
    "add_obstacle!(scene, make_line(vertical, Point(0.60, 0.40), 0.40, wall_thickness))\n",
    "add_obstacle!(scene, make_line(horizontal, Point(0.60 - 0.15, 0.80), 0.15 + wall_thickness, wall_thickness))\n",
    "add_obstacle!(scene, make_line(horizontal, Point(0.20, 0.80), 0.15, wall_thickness))\n",
    "add_obstacle!(scene, make_line(vertical, Point(0.20, 0.40), 0.40, wall_thickness));"
   ]
  },
  {
   "cell_type": "markdown",
   "metadata": {},
   "source": [
    "Constraining the agent to 10 samples, starting from the left hand bottom corner"
   ]
  },
  {
   "cell_type": "code",
   "execution_count": 6,
   "metadata": {},
   "outputs": [],
   "source": [
    "start = Point(0.1, 0.1)\n",
    "dt = 0.1\n",
    "num_ticks = 10\n",
    "planner_params = PlannerParams(300, 3.0, 2000, 1.);"
   ]
  },
  {
   "cell_type": "markdown",
   "metadata": {
    "slideshow": {
     "slide_type": "slide"
    }
   },
   "source": [
    "Give 10 position measurements made of the agent"
   ]
  },
  {
   "cell_type": "code",
   "execution_count": 7,
   "metadata": {},
   "outputs": [],
   "source": [
    "measurements = [\n",
    "    Point(0.0980245, 0.104775),\n",
    "    Point(0.113734, 0.150773),\n",
    "    Point(0.100412, 0.195499),\n",
    "    Point(0.114794, 0.237386),\n",
    "    Point(0.0957668, 0.277711),\n",
    "    Point(0.140181, 0.31304),\n",
    "    Point(0.124384, 0.356242),\n",
    "    Point(0.122272, 0.414463),\n",
    "    Point(0.124597, 0.462056),\n",
    "    Point(0.126227, 0.498338)];"
   ]
  },
  {
   "cell_type": "markdown",
   "metadata": {
    "slideshow": {
     "slide_type": "slide"
    }
   },
   "source": [
    "We begin with a normal importance sampling algorithm"
   ]
  },
  {
   "cell_type": "code",
   "execution_count": 8,
   "metadata": {},
   "outputs": [],
   "source": [
    "function do_inference(scene::Scene, dt::Float64, num_ticks::Int, planner_params::PlannerParams, start::Point,\n",
    "                      measurements::Vector{Point}, amount_of_computation::Int)\n",
    "    \n",
    "    # Create a choice map that maps model addresses (:y, i) to observed values ys[i].\n",
    "    # :slope and :intercept are to be inferred.\n",
    "    observations = Gen.choicemap()\n",
    "    observations[:start_x] = start.x\n",
    "    observations[:start_y] = start.y\n",
    "    for (i, m) in enumerate(measurements)\n",
    "        observations[:meas => (i, :x)] = m.x\n",
    "        observations[:meas => (i, :y)] = m.y\n",
    "    end\n",
    "    \n",
    "    # Call importance_resampling to obtain a likely trace consistent with our observations\n",
    "    (trace, _) = Gen.importance_resampling(agent_model, (scene, dt, num_ticks, planner_params),\n",
    "        observations, amount_of_computation)\n",
    "    \n",
    "    return trace\n",
    "end;"
   ]
  },
  {
   "cell_type": "markdown",
   "metadata": {
    "slideshow": {
     "slide_type": "slide"
    }
   },
   "source": [
    "Run the algorithm 1000 times to generate a sizeable number of approximate samples for an expressive posterior distributions."
   ]
  },
  {
   "cell_type": "code",
   "execution_count": 9,
   "metadata": {},
   "outputs": [],
   "source": [
    "function do_inference(measurements, scene, start; computation_amt=50, samples=1000)\n",
    "    for i=1:samples\n",
    "        trace = do_inference(scene, dt, num_ticks, planner_params, start, measurements, computation_amt)\n",
    "    end\n",
    "end;"
   ]
  },
  {
   "cell_type": "markdown",
   "metadata": {},
   "source": [
    "Time the inference for later comparison with other approaches to amortized inference"
   ]
  },
  {
   "cell_type": "code",
   "execution_count": 10,
   "metadata": {},
   "outputs": [
    {
     "name": "stdout",
     "output_type": "stream",
     "text": [
      " 47.322621 seconds (24.01 M allocations: 1.612 GiB, 0.67% gc time)\n"
     ]
    }
   ],
   "source": [
    "@time do_inference(measurements, scene, start, computation_amt=50, samples=1000)"
   ]
  },
  {
   "cell_type": "markdown",
   "metadata": {
    "slideshow": {
     "slide_type": "slide"
    }
   },
   "source": [
    "### 4.2: A Data-Driven Proposal as a Generative Function"
   ]
  },
  {
   "cell_type": "markdown",
   "metadata": {},
   "source": [
    "To alter the course of the autonomous agent we now sample the x-coordinate from a piecewise uniform distribution. Hence imposing significant prior knowledge on the model. Splitting the possible positions up into different bins, we assign scores to each bin based on the probabilit of their occurence."
   ]
  },
  {
   "cell_type": "code",
   "execution_count": 11,
   "metadata": {},
   "outputs": [],
   "source": [
    "num_x_bins = 5\n",
    "num_y_bins = 5;"
   ]
  },
  {
   "cell_type": "code",
   "execution_count": 12,
   "metadata": {},
   "outputs": [],
   "source": [
    "function compute_bin_prob(first::Float64, last::Float64, bin::Int, last_bin::Int, score_high)\n",
    "    last >= first && bin >= last_bin && return score_high\n",
    "    last < first && bin <= last_bin && return score_high\n",
    "    return 1.\n",
    "end\n",
    "\n",
    "function compute_bin_probs(num_bins::Int, min::Float64, max::Float64, first::Float64, last::Float64, score_high)\n",
    "    bin_len = (max - min) / num_bins\n",
    "    last_bin = Int(floor(last / bin_len)) + 1\n",
    "    probs = [compute_bin_prob(first, last, bin, last_bin, score_high) for bin=1:num_bins]\n",
    "    total = sum(probs)\n",
    "    return [p / total for p in probs]\n",
    "end;"
   ]
  },
  {
   "cell_type": "markdown",
   "metadata": {
    "slideshow": {
     "slide_type": "slide"
    }
   },
   "source": [
    "Compute the scores for the current scene"
   ]
  },
  {
   "cell_type": "code",
   "execution_count": 13,
   "metadata": {},
   "outputs": [
    {
     "data": {
      "text/plain": [
       "5-element Array{Float64,1}:\n",
       " 0.058823529411764705\n",
       " 0.058823529411764705\n",
       " 0.29411764705882354 \n",
       " 0.29411764705882354 \n",
       " 0.29411764705882354 "
      ]
     },
     "execution_count": 13,
     "metadata": {},
     "output_type": "execute_result"
    }
   ],
   "source": [
    "compute_bin_probs(num_y_bins, scene.ymin, scene.ymax, measurements[1].y, measurements[end].y, 5.)"
   ]
  },
  {
   "cell_type": "markdown",
   "metadata": {
    "slideshow": {
     "slide_type": "slide"
    }
   },
   "source": [
    "Introduce a custom proposal distribution to make use of the gained insight into the distribution of 'x' and 'y'"
   ]
  },
  {
   "cell_type": "code",
   "execution_count": 14,
   "metadata": {},
   "outputs": [],
   "source": [
    "@gen function custom_dest_proposal(measurements::Vector{Point}, scene::Scene)\n",
    "\n",
    "    score_high = 5.\n",
    "    \n",
    "    x_first = measurements[1].x\n",
    "    x_last = measurements[end].x\n",
    "    y_first = measurements[1].y\n",
    "    y_last = measurements[end].y\n",
    "    \n",
    "    # sample dest_x\n",
    "    x_probs = compute_bin_probs(num_x_bins, scene.xmin, scene.xmax, x_first, x_last, score_high)\n",
    "    x_bounds = collect(range(scene.xmin, stop=scene.xmax, length=num_x_bins+1))\n",
    "    @trace(Gen.piecewise_uniform(x_bounds, x_probs), :dest_x)\n",
    "    \n",
    "    # sample dest_y\n",
    "    y_probs = compute_bin_probs(num_y_bins, scene.ymin, scene.ymax, y_first, y_last, score_high)\n",
    "    y_bounds = collect(range(scene.ymin, stop=scene.ymax, length=num_y_bins+1))\n",
    "    @trace(Gen.piecewise_uniform(y_bounds, y_probs), :dest_y)\n",
    "    \n",
    "    return nothing\n",
    "end;"
   ]
  },
  {
   "cell_type": "markdown",
   "metadata": {
    "slideshow": {
     "slide_type": "slide"
    }
   },
   "source": [
    "For the proposal of new random variables, unconstrained by eventual choicemaps, we resort to 'Gen.propose'. It refrains from creating a full execution traces but preserves the choices made in the process. For trial purposes we again sample 1000 times"
   ]
  },
  {
   "cell_type": "code",
   "execution_count": 15,
   "metadata": {},
   "outputs": [],
   "source": [
    "function perform_custom_destination_proposal(measurements, start, dest_proposal; num_samples=100)\n",
    "    for i=1:num_samples\n",
    "        (proposed_choices, _) = Gen.propose(dest_proposal, (measurements, scene))\n",
    "        (trace, _) = Gen.generate(agent_model, (scene, dt, num_ticks, planner_params), proposed_choices)\n",
    "    end\n",
    "end;"
   ]
  },
  {
   "cell_type": "markdown",
   "metadata": {},
   "source": [
    "Perform inference"
   ]
  },
  {
   "cell_type": "code",
   "execution_count": 16,
   "metadata": {},
   "outputs": [
    {
     "name": "stdout",
     "output_type": "stream",
     "text": [
      "  1.520215 seconds (1.59 M allocations: 89.373 MiB, 2.78% gc time)\n"
     ]
    }
   ],
   "source": [
    "@time perform_custom_destination_proposal(measurements, start, custom_dest_proposal, num_samples=1000)"
   ]
  },
  {
   "cell_type": "markdown",
   "metadata": {},
   "source": [
    "Which is already much faster than the initial proposal function, i.e. it is to be expected that prior knowledge about distributions of internal parameters results in a reduction in inference time."
   ]
  },
  {
   "cell_type": "markdown",
   "metadata": {
    "slideshow": {
     "slide_type": "slide"
    }
   },
   "source": [
    "### 4.3: Data-Driven Proposals within Importance Sampling"
   ]
  },
  {
   "cell_type": "markdown",
   "metadata": {},
   "source": [
    "Using Gen's ability to work with custom proposal function we now integrate above custom destination proposal generative funciton with importance-resampling. We hence abstract the whole routine here as an inference program."
   ]
  },
  {
   "cell_type": "code",
   "execution_count": 17,
   "metadata": {},
   "outputs": [],
   "source": [
    "function do_inference_data_driven(dest_proposal::GenerativeFunction,\n",
    "                                  scene::Scene, dt::Float64,\n",
    "                                  num_ticks::Int, planner_params::PlannerParams,\n",
    "                                  start::Point, measurements::Vector{Point}, \n",
    "                                  amount_of_computation::Int)\n",
    "    \n",
    "    observations = Gen.choicemap((:start_x, start.x), (:start_y, start.y))\n",
    "    for (i, m) in enumerate(measurements)\n",
    "        observations[:meas => (i, :x)] = m.x\n",
    "        observations[:meas => (i, :y)] = m.y\n",
    "    end\n",
    "    \n",
    "    # invoke the variant of importance_resampling that accepts a custom proposal (dest_proposal)\n",
    "    (trace, _) = Gen.importance_resampling(agent_model, (scene, dt, num_ticks, planner_params), observations, \n",
    "        dest_proposal, (measurements, scene), amount_of_computation)\n",
    "    \n",
    "    return trace\n",
    "end;"
   ]
  },
  {
   "cell_type": "markdown",
   "metadata": {
    "slideshow": {
     "slide_type": "slide"
    }
   },
   "source": [
    "We again write a custom inference routine to measure the speed of the approach"
   ]
  },
  {
   "cell_type": "code",
   "execution_count": 18,
   "metadata": {},
   "outputs": [],
   "source": [
    "function perform_data_driven_inference(measurements, scene, start, proposal; amt_computation=50, samples=1000)\n",
    "    for i=1:samples\n",
    "        trace = do_inference_data_driven(proposal, \n",
    "            scene, dt, num_ticks, planner_params, start, measurements, amt_computation)\n",
    "    end\n",
    "end;"
   ]
  },
  {
   "cell_type": "markdown",
   "metadata": {},
   "source": [
    "Perform the inference compilation"
   ]
  },
  {
   "cell_type": "code",
   "execution_count": 19,
   "metadata": {},
   "outputs": [
    {
     "name": "stdout",
     "output_type": "stream",
     "text": [
      "  5.603889 seconds (3.28 M allocations: 225.594 MiB, 0.92% gc time)\n"
     ]
    }
   ],
   "source": [
    "@time perform_data_driven_inference(measurements, scene, start, custom_dest_proposal,\n",
    "    amt_computation=5, samples=1000)"
   ]
  },
  {
   "cell_type": "markdown",
   "metadata": {
    "slideshow": {
     "slide_type": "slide"
    }
   },
   "source": [
    "### 4.4: Training the Parameters of a Data-Driven Proposal"
   ]
  },
  {
   "cell_type": "markdown",
   "metadata": {},
   "source": [
    "The logical next step is now to combine the power of machine learning and optimization with data-driven proposals, where we have to tell Gen with the '@param' macro to keep an eye on the respective variable for optimization through gradient descent. We 'trace'the latent probability distribution to have full insight into the execution history of our inference program."
   ]
  },
  {
   "cell_type": "code",
   "execution_count": 20,
   "metadata": {
    "slideshow": {
     "slide_type": "slide"
    }
   },
   "outputs": [],
   "source": [
    "@gen function custom_dest_proposal_trainable(measurements::Vector{Point}, scene::Scene)\n",
    "\n",
    "    @param log_score_high::Float64\n",
    "    \n",
    "    x_first = measurements[1].x\n",
    "    x_last = measurements[end].x\n",
    "    y_first = measurements[1].y\n",
    "    y_last = measurements[end].y\n",
    "    \n",
    "    # sample dest_x\n",
    "    x_probs = compute_bin_probs(num_x_bins, scene.xmin, scene.xmax, x_first, x_last, exp(log_score_high))\n",
    "    x_bounds = collect(range(scene.xmin, stop=scene.xmax, length=num_x_bins+1))\n",
    "    @trace(Gen.piecewise_uniform(x_bounds, x_probs), :dest_x)\n",
    "    \n",
    "    # sample dest_y\n",
    "    y_probs = compute_bin_probs(num_y_bins, scene.ymin, scene.ymax, y_first, y_last, exp(log_score_high))\n",
    "    y_bounds = collect(range(scene.ymin, stop=scene.ymax, length=num_y_bins+1))\n",
    "    @trace(Gen.piecewise_uniform(y_bounds, y_probs), :dest_y)\n",
    "    \n",
    "    return nothing\n",
    "end;"
   ]
  },
  {
   "cell_type": "markdown",
   "metadata": {},
   "source": [
    "Initialize the parameters. The ':variable' assigns a unique name to the execution of said variable when we seek to retrieve specific values from the execution trace."
   ]
  },
  {
   "cell_type": "code",
   "execution_count": 21,
   "metadata": {},
   "outputs": [],
   "source": [
    "Gen.init_param!(custom_dest_proposal_trainable, :log_score_high, 0.);"
   ]
  },
  {
   "cell_type": "markdown",
   "metadata": {
    "slideshow": {
     "slide_type": "slide"
    }
   },
   "source": [
    "For training we first need a data generator, which generates tuples of '(inputs, constraints)' on which we can then train"
   ]
  },
  {
   "cell_type": "code",
   "execution_count": 22,
   "metadata": {},
   "outputs": [],
   "source": [
    "function data_generator()\n",
    "    \n",
    "    # local to avoid overwriting the global variable\n",
    "    local measurements\n",
    "    local choices\n",
    "    \n",
    "    # obtain an execution of the model where planning succeeded\n",
    "    done = false\n",
    "    while !done\n",
    "        (choices, _, retval) = Gen.propose(agent_model, (scene, dt, num_ticks, planner_params))\n",
    "        (planning_failed, maybe_path) = retval       \n",
    "        done = !planning_failed\n",
    "    end\n",
    "\n",
    "    # construct arguments to the proposal function being trained\n",
    "    measurements = [Point(choices[:meas => (i, :x)], choices[:meas => (i, :y)]) for i=1:num_ticks]\n",
    "    inputs = (measurements, scene)\n",
    "    \n",
    "    # construct constraints for the proposal function being trained\n",
    "    constraints = Gen.choicemap()\n",
    "    constraints[:dest_x] = choices[:dest_x]\n",
    "    constraints[:dest_y] = choices[:dest_y]\n",
    "    \n",
    "    return (inputs, constraints)\n",
    "end;"
   ]
  },
  {
   "cell_type": "markdown",
   "metadata": {
    "slideshow": {
     "slide_type": "slide"
    }
   },
   "source": [
    "Initialize the gradient-based optimization algorithm"
   ]
  },
  {
   "cell_type": "code",
   "execution_count": 23,
   "metadata": {},
   "outputs": [],
   "source": [
    "update = Gen.ParamUpdate(Gen.FixedStepGradientDescent(0.001), custom_dest_proposal_trainable);"
   ]
  },
  {
   "cell_type": "markdown",
   "metadata": {},
   "source": [
    "'Gen.train!' then performs the training by generating batches of data from our data_generator, we perform 200 gradient-descent updates with each gradient estimate obtained form 100 training samples."
   ]
  },
  {
   "cell_type": "code",
   "execution_count": 24,
   "metadata": {},
   "outputs": [
    {
     "name": "stdout",
     "output_type": "stream",
     "text": [
      "epoch 1: generating 100 training examples...\n",
      "epoch 1: training using 1 minibatches of size 100...\n",
      "epoch 1: evaluating on 100 examples...\n",
      "epoch 1: est. objective value: 0.05276609096405071\n",
      "epoch 2: generating 100 training examples...\n",
      "epoch 2: training using 1 minibatches of size 100...\n",
      "epoch 2: evaluating on 100 examples...\n",
      "epoch 2: est. objective value: 0.11338211931184725\n",
      "epoch 3: generating 100 training examples...\n",
      "epoch 3: training using 1 minibatches of size 100...\n",
      "epoch 3: evaluating on 100 examples...\n",
      "epoch 3: est. objective value: 0.14956749186637178\n",
      "epoch 4: generating 100 training examples...\n",
      "epoch 4: training using 1 minibatches of size 100...\n",
      "epoch 4: evaluating on 100 examples...\n",
      "epoch 4: est. objective value: 0.1986529809724322\n",
      "epoch 5: generating 100 training examples...\n",
      "epoch 5: training using 1 minibatches of size 100...\n",
      "epoch 5: evaluating on 100 examples...\n",
      "epoch 5: est. objective value: 0.19519339583051606\n",
      "epoch 6: generating 100 training examples...\n",
      "epoch 6: training using 1 minibatches of size 100...\n",
      "epoch 6: evaluating on 100 examples...\n",
      "epoch 6: est. objective value: 0.27968106680075333\n",
      "epoch 7: generating 100 training examples...\n",
      "epoch 7: training using 1 minibatches of size 100...\n",
      "epoch 7: evaluating on 100 examples...\n",
      "epoch 7: est. objective value: 0.3189798519396418\n",
      "epoch 8: generating 100 training examples...\n",
      "epoch 8: training using 1 minibatches of size 100...\n",
      "epoch 8: evaluating on 100 examples...\n",
      "epoch 8: est. objective value: 0.3281376843924292\n",
      "epoch 9: generating 100 training examples...\n",
      "epoch 9: training using 1 minibatches of size 100...\n",
      "epoch 9: evaluating on 100 examples...\n",
      "epoch 9: est. objective value: 0.36084456825188793\n",
      "epoch 10: generating 100 training examples...\n",
      "epoch 10: training using 1 minibatches of size 100...\n",
      "epoch 10: evaluating on 100 examples...\n",
      "epoch 10: est. objective value: 0.3950935368928702\n",
      "epoch 11: generating 100 training examples...\n",
      "epoch 11: training using 1 minibatches of size 100...\n",
      "epoch 11: evaluating on 100 examples...\n",
      "epoch 11: est. objective value: 0.4608555285497915\n",
      "epoch 12: generating 100 training examples...\n",
      "epoch 12: training using 1 minibatches of size 100...\n",
      "epoch 12: evaluating on 100 examples...\n",
      "epoch 12: est. objective value: 0.3681257394509554\n",
      "epoch 13: generating 100 training examples...\n",
      "epoch 13: training using 1 minibatches of size 100...\n",
      "epoch 13: evaluating on 100 examples...\n",
      "epoch 13: est. objective value: 0.46732521276751904\n",
      "epoch 14: generating 100 training examples...\n",
      "epoch 14: training using 1 minibatches of size 100...\n",
      "epoch 14: evaluating on 100 examples...\n",
      "epoch 14: est. objective value: 0.5094825196056977\n",
      "epoch 15: generating 100 training examples...\n",
      "epoch 15: training using 1 minibatches of size 100...\n",
      "epoch 15: evaluating on 100 examples...\n",
      "epoch 15: est. objective value: 0.456294562675055\n",
      "epoch 16: generating 100 training examples...\n",
      "epoch 16: training using 1 minibatches of size 100...\n",
      "epoch 16: evaluating on 100 examples...\n",
      "epoch 16: est. objective value: 0.4285609007367872\n",
      "epoch 17: generating 100 training examples...\n",
      "epoch 17: training using 1 minibatches of size 100...\n",
      "epoch 17: evaluating on 100 examples...\n",
      "epoch 17: est. objective value: 0.4737249101752115\n",
      "epoch 18: generating 100 training examples...\n",
      "epoch 18: training using 1 minibatches of size 100...\n",
      "epoch 18: evaluating on 100 examples...\n",
      "epoch 18: est. objective value: 0.4495496073561271\n",
      "epoch 19: generating 100 training examples...\n",
      "epoch 19: training using 1 minibatches of size 100...\n",
      "epoch 19: evaluating on 100 examples...\n",
      "epoch 19: est. objective value: 0.5361099211160976\n",
      "epoch 20: generating 100 training examples...\n",
      "epoch 20: training using 1 minibatches of size 100...\n",
      "epoch 20: evaluating on 100 examples...\n",
      "epoch 20: est. objective value: 0.3842402860286095\n",
      "epoch 21: generating 100 training examples...\n",
      "epoch 21: training using 1 minibatches of size 100...\n",
      "epoch 21: evaluating on 100 examples...\n",
      "epoch 21: est. objective value: 0.6291141351395584\n",
      "epoch 22: generating 100 training examples...\n",
      "epoch 22: training using 1 minibatches of size 100...\n",
      "epoch 22: evaluating on 100 examples...\n",
      "epoch 22: est. objective value: 0.5637676415712198\n",
      "epoch 23: generating 100 training examples...\n",
      "epoch 23: training using 1 minibatches of size 100...\n",
      "epoch 23: evaluating on 100 examples...\n",
      "epoch 23: est. objective value: 0.5654326636936147\n",
      "epoch 24: generating 100 training examples...\n",
      "epoch 24: training using 1 minibatches of size 100...\n",
      "epoch 24: evaluating on 100 examples...\n",
      "epoch 24: est. objective value: 0.5138848701047238\n",
      "epoch 25: generating 100 training examples...\n",
      "epoch 25: training using 1 minibatches of size 100...\n",
      "epoch 25: evaluating on 100 examples...\n",
      "epoch 25: est. objective value: 0.6099696115620723\n",
      "epoch 26: generating 100 training examples...\n",
      "epoch 26: training using 1 minibatches of size 100...\n",
      "epoch 26: evaluating on 100 examples...\n",
      "epoch 26: est. objective value: 0.5696052860542857\n",
      "epoch 27: generating 100 training examples...\n",
      "epoch 27: training using 1 minibatches of size 100...\n",
      "epoch 27: evaluating on 100 examples...\n",
      "epoch 27: est. objective value: 0.5687055477189075\n",
      "epoch 28: generating 100 training examples...\n",
      "epoch 28: training using 1 minibatches of size 100...\n",
      "epoch 28: evaluating on 100 examples...\n",
      "epoch 28: est. objective value: 0.5995915280252875\n",
      "epoch 29: generating 100 training examples...\n",
      "epoch 29: training using 1 minibatches of size 100...\n",
      "epoch 29: evaluating on 100 examples...\n",
      "epoch 29: est. objective value: 0.5691236259288412\n",
      "epoch 30: generating 100 training examples...\n",
      "epoch 30: training using 1 minibatches of size 100...\n",
      "epoch 30: evaluating on 100 examples...\n",
      "epoch 30: est. objective value: 0.6388204607986272\n",
      "epoch 31: generating 100 training examples...\n",
      "epoch 31: training using 1 minibatches of size 100...\n",
      "epoch 31: evaluating on 100 examples...\n",
      "epoch 31: est. objective value: 0.6794073949147212\n",
      "epoch 32: generating 100 training examples...\n",
      "epoch 32: training using 1 minibatches of size 100...\n",
      "epoch 32: evaluating on 100 examples...\n",
      "epoch 32: est. objective value: 0.7093565826943684\n",
      "epoch 33: generating 100 training examples...\n",
      "epoch 33: training using 1 minibatches of size 100...\n",
      "epoch 33: evaluating on 100 examples...\n",
      "epoch 33: est. objective value: 0.6650202310744843\n",
      "epoch 34: generating 100 training examples...\n",
      "epoch 34: training using 1 minibatches of size 100...\n",
      "epoch 34: evaluating on 100 examples...\n",
      "epoch 34: est. objective value: 0.5746788478298004\n",
      "epoch 35: generating 100 training examples...\n",
      "epoch 35: training using 1 minibatches of size 100...\n",
      "epoch 35: evaluating on 100 examples...\n",
      "epoch 35: est. objective value: 0.5998505713671975\n",
      "epoch 36: generating 100 training examples...\n",
      "epoch 36: training using 1 minibatches of size 100...\n",
      "epoch 36: evaluating on 100 examples...\n",
      "epoch 36: est. objective value: 0.681592172636091\n",
      "epoch 37: generating 100 training examples...\n",
      "epoch 37: training using 1 minibatches of size 100...\n",
      "epoch 37: evaluating on 100 examples...\n",
      "epoch 37: est. objective value: 0.6145642802528198\n",
      "epoch 38: generating 100 training examples...\n",
      "epoch 38: training using 1 minibatches of size 100...\n",
      "epoch 38: evaluating on 100 examples...\n",
      "epoch 38: est. objective value: 0.6142571389984436\n",
      "epoch 39: generating 100 training examples...\n",
      "epoch 39: training using 1 minibatches of size 100...\n",
      "epoch 39: evaluating on 100 examples...\n",
      "epoch 39: est. objective value: 0.7811432119640375\n",
      "epoch 40: generating 100 training examples...\n",
      "epoch 40: training using 1 minibatches of size 100...\n",
      "epoch 40: evaluating on 100 examples...\n",
      "epoch 40: est. objective value: 0.5552821906607547\n",
      "epoch 41: generating 100 training examples...\n",
      "epoch 41: training using 1 minibatches of size 100...\n",
      "epoch 41: evaluating on 100 examples...\n",
      "epoch 41: est. objective value: 0.5261119504311756\n",
      "epoch 42: generating 100 training examples...\n",
      "epoch 42: training using 1 minibatches of size 100...\n",
      "epoch 42: evaluating on 100 examples...\n",
      "epoch 42: est. objective value: 0.6320182349327653\n",
      "epoch 43: generating 100 training examples...\n",
      "epoch 43: training using 1 minibatches of size 100...\n",
      "epoch 43: evaluating on 100 examples...\n",
      "epoch 43: est. objective value: 0.6241883587399909\n",
      "epoch 44: generating 100 training examples...\n",
      "epoch 44: training using 1 minibatches of size 100...\n",
      "epoch 44: evaluating on 100 examples...\n"
     ]
    },
    {
     "name": "stdout",
     "output_type": "stream",
     "text": [
      "epoch 44: est. objective value: 0.8514741521018943\n",
      "epoch 45: generating 100 training examples...\n",
      "epoch 45: training using 1 minibatches of size 100...\n",
      "epoch 45: evaluating on 100 examples...\n",
      "epoch 45: est. objective value: 0.5597160943612911\n",
      "epoch 46: generating 100 training examples...\n",
      "epoch 46: training using 1 minibatches of size 100...\n",
      "epoch 46: evaluating on 100 examples...\n",
      "epoch 46: est. objective value: 0.5221649644679897\n",
      "epoch 47: generating 100 training examples...\n",
      "epoch 47: training using 1 minibatches of size 100...\n",
      "epoch 47: evaluating on 100 examples...\n",
      "epoch 47: est. objective value: 0.5577724479660631\n",
      "epoch 48: generating 100 training examples...\n",
      "epoch 48: training using 1 minibatches of size 100...\n",
      "epoch 48: evaluating on 100 examples...\n",
      "epoch 48: est. objective value: 0.6504498117203081\n",
      "epoch 49: generating 100 training examples...\n",
      "epoch 49: training using 1 minibatches of size 100...\n",
      "epoch 49: evaluating on 100 examples...\n",
      "epoch 49: est. objective value: 0.7486934243050836\n",
      "epoch 50: generating 100 training examples...\n",
      "epoch 50: training using 1 minibatches of size 100...\n",
      "epoch 50: evaluating on 100 examples...\n",
      "epoch 50: est. objective value: 0.5574282427773337\n",
      "epoch 51: generating 100 training examples...\n",
      "epoch 51: training using 1 minibatches of size 100...\n",
      "epoch 51: evaluating on 100 examples...\n",
      "epoch 51: est. objective value: 0.8152482191526049\n",
      "epoch 52: generating 100 training examples...\n",
      "epoch 52: training using 1 minibatches of size 100...\n",
      "epoch 52: evaluating on 100 examples...\n",
      "epoch 52: est. objective value: 0.718185429126429\n",
      "epoch 53: generating 100 training examples...\n",
      "epoch 53: training using 1 minibatches of size 100...\n",
      "epoch 53: evaluating on 100 examples...\n",
      "epoch 53: est. objective value: 0.643238414184237\n",
      "epoch 54: generating 100 training examples...\n",
      "epoch 54: training using 1 minibatches of size 100...\n",
      "epoch 54: evaluating on 100 examples...\n",
      "epoch 54: est. objective value: 0.644705080013058\n",
      "epoch 55: generating 100 training examples...\n",
      "epoch 55: training using 1 minibatches of size 100...\n",
      "epoch 55: evaluating on 100 examples...\n",
      "epoch 55: est. objective value: 0.6712328066999163\n",
      "epoch 56: generating 100 training examples...\n",
      "epoch 56: training using 1 minibatches of size 100...\n",
      "epoch 56: evaluating on 100 examples...\n",
      "epoch 56: est. objective value: 0.632811265193723\n",
      "epoch 57: generating 100 training examples...\n",
      "epoch 57: training using 1 minibatches of size 100...\n",
      "epoch 57: evaluating on 100 examples...\n",
      "epoch 57: est. objective value: 0.7253666804252131\n",
      "epoch 58: generating 100 training examples...\n",
      "epoch 58: training using 1 minibatches of size 100...\n",
      "epoch 58: evaluating on 100 examples...\n",
      "epoch 58: est. objective value: 0.5729722522870153\n",
      "epoch 59: generating 100 training examples...\n",
      "epoch 59: training using 1 minibatches of size 100...\n",
      "epoch 59: evaluating on 100 examples...\n",
      "epoch 59: est. objective value: 0.7532876614204064\n",
      "epoch 60: generating 100 training examples...\n",
      "epoch 60: training using 1 minibatches of size 100...\n",
      "epoch 60: evaluating on 100 examples...\n",
      "epoch 60: est. objective value: 0.6419476889985702\n",
      "epoch 61: generating 100 training examples...\n",
      "epoch 61: training using 1 minibatches of size 100...\n",
      "epoch 61: evaluating on 100 examples...\n",
      "epoch 61: est. objective value: 0.5893597887081585\n",
      "epoch 62: generating 100 training examples...\n",
      "epoch 62: training using 1 minibatches of size 100...\n",
      "epoch 62: evaluating on 100 examples...\n",
      "epoch 62: est. objective value: 0.5443711713210762\n",
      "epoch 63: generating 100 training examples...\n",
      "epoch 63: training using 1 minibatches of size 100...\n",
      "epoch 63: evaluating on 100 examples...\n",
      "epoch 63: est. objective value: 0.631479512579109\n",
      "epoch 64: generating 100 training examples...\n",
      "epoch 64: training using 1 minibatches of size 100...\n",
      "epoch 64: evaluating on 100 examples...\n",
      "epoch 64: est. objective value: 0.7664657432666199\n",
      "epoch 65: generating 100 training examples...\n",
      "epoch 65: training using 1 minibatches of size 100...\n",
      "epoch 65: evaluating on 100 examples...\n",
      "epoch 65: est. objective value: 0.7387640758643635\n",
      "epoch 66: generating 100 training examples...\n",
      "epoch 66: training using 1 minibatches of size 100...\n",
      "epoch 66: evaluating on 100 examples...\n",
      "epoch 66: est. objective value: 0.9122807636005881\n",
      "epoch 67: generating 100 training examples...\n",
      "epoch 67: training using 1 minibatches of size 100...\n",
      "epoch 67: evaluating on 100 examples...\n",
      "epoch 67: est. objective value: 0.7401295394926483\n",
      "epoch 68: generating 100 training examples...\n",
      "epoch 68: training using 1 minibatches of size 100...\n",
      "epoch 68: evaluating on 100 examples...\n",
      "epoch 68: est. objective value: 0.6093949797582494\n",
      "epoch 69: generating 100 training examples...\n",
      "epoch 69: training using 1 minibatches of size 100...\n",
      "epoch 69: evaluating on 100 examples...\n",
      "epoch 69: est. objective value: 0.7047166128651496\n",
      "epoch 70: generating 100 training examples...\n",
      "epoch 70: training using 1 minibatches of size 100...\n",
      "epoch 70: evaluating on 100 examples...\n",
      "epoch 70: est. objective value: 0.8467589727571597\n",
      "epoch 71: generating 100 training examples...\n",
      "epoch 71: training using 1 minibatches of size 100...\n",
      "epoch 71: evaluating on 100 examples...\n",
      "epoch 71: est. objective value: 0.8058347094331321\n",
      "epoch 72: generating 100 training examples...\n",
      "epoch 72: training using 1 minibatches of size 100...\n",
      "epoch 72: evaluating on 100 examples...\n",
      "epoch 72: est. objective value: 0.4998711851829157\n",
      "epoch 73: generating 100 training examples...\n",
      "epoch 73: training using 1 minibatches of size 100...\n",
      "epoch 73: evaluating on 100 examples...\n",
      "epoch 73: est. objective value: 0.8763860425595089\n",
      "epoch 74: generating 100 training examples...\n",
      "epoch 74: training using 1 minibatches of size 100...\n",
      "epoch 74: evaluating on 100 examples...\n",
      "epoch 74: est. objective value: 0.590687300584955\n",
      "epoch 75: generating 100 training examples...\n",
      "epoch 75: training using 1 minibatches of size 100...\n",
      "epoch 75: evaluating on 100 examples...\n",
      "epoch 75: est. objective value: 0.6110981254848484\n",
      "epoch 76: generating 100 training examples...\n",
      "epoch 76: training using 1 minibatches of size 100...\n",
      "epoch 76: evaluating on 100 examples...\n",
      "epoch 76: est. objective value: 0.8058246723880543\n",
      "epoch 77: generating 100 training examples...\n",
      "epoch 77: training using 1 minibatches of size 100...\n",
      "epoch 77: evaluating on 100 examples...\n",
      "epoch 77: est. objective value: 0.7268870403400068\n",
      "epoch 78: generating 100 training examples...\n",
      "epoch 78: training using 1 minibatches of size 100...\n",
      "epoch 78: evaluating on 100 examples...\n",
      "epoch 78: est. objective value: 0.6404798431114719\n",
      "epoch 79: generating 100 training examples...\n",
      "epoch 79: training using 1 minibatches of size 100...\n",
      "epoch 79: evaluating on 100 examples...\n",
      "epoch 79: est. objective value: 0.7800763272744998\n",
      "epoch 80: generating 100 training examples...\n",
      "epoch 80: training using 1 minibatches of size 100...\n",
      "epoch 80: evaluating on 100 examples...\n",
      "epoch 80: est. objective value: 0.7643643779565447\n",
      "epoch 81: generating 100 training examples...\n",
      "epoch 81: training using 1 minibatches of size 100...\n",
      "epoch 81: evaluating on 100 examples...\n",
      "epoch 81: est. objective value: 0.7048279681737993\n",
      "epoch 82: generating 100 training examples...\n",
      "epoch 82: training using 1 minibatches of size 100...\n",
      "epoch 82: evaluating on 100 examples...\n",
      "epoch 82: est. objective value: 0.369650621764982\n",
      "epoch 83: generating 100 training examples...\n",
      "epoch 83: training using 1 minibatches of size 100...\n",
      "epoch 83: evaluating on 100 examples...\n",
      "epoch 83: est. objective value: 0.6638057507644359\n",
      "epoch 84: generating 100 training examples...\n",
      "epoch 84: training using 1 minibatches of size 100...\n",
      "epoch 84: evaluating on 100 examples...\n",
      "epoch 84: est. objective value: 0.8793547082570676\n",
      "epoch 85: generating 100 training examples...\n",
      "epoch 85: training using 1 minibatches of size 100...\n",
      "epoch 85: evaluating on 100 examples...\n",
      "epoch 85: est. objective value: 0.8758545491745343\n",
      "epoch 86: generating 100 training examples...\n",
      "epoch 86: training using 1 minibatches of size 100...\n",
      "epoch 86: evaluating on 100 examples...\n",
      "epoch 86: est. objective value: 0.6932599201234734\n",
      "epoch 87: generating 100 training examples...\n",
      "epoch 87: training using 1 minibatches of size 100...\n",
      "epoch 87: evaluating on 100 examples...\n"
     ]
    },
    {
     "name": "stdout",
     "output_type": "stream",
     "text": [
      "epoch 87: est. objective value: 0.8451347970167578\n",
      "epoch 88: generating 100 training examples...\n",
      "epoch 88: training using 1 minibatches of size 100...\n",
      "epoch 88: evaluating on 100 examples...\n",
      "epoch 88: est. objective value: 0.7600649687175772\n",
      "epoch 89: generating 100 training examples...\n",
      "epoch 89: training using 1 minibatches of size 100...\n",
      "epoch 89: evaluating on 100 examples...\n",
      "epoch 89: est. objective value: 0.9500891789230121\n",
      "epoch 90: generating 100 training examples...\n",
      "epoch 90: training using 1 minibatches of size 100...\n",
      "epoch 90: evaluating on 100 examples...\n",
      "epoch 90: est. objective value: 0.7609292395253509\n",
      "epoch 91: generating 100 training examples...\n",
      "epoch 91: training using 1 minibatches of size 100...\n",
      "epoch 91: evaluating on 100 examples...\n",
      "epoch 91: est. objective value: 0.7596863401731493\n",
      "epoch 92: generating 100 training examples...\n",
      "epoch 92: training using 1 minibatches of size 100...\n",
      "epoch 92: evaluating on 100 examples...\n",
      "epoch 92: est. objective value: 0.7916586910426924\n",
      "epoch 93: generating 100 training examples...\n",
      "epoch 93: training using 1 minibatches of size 100...\n",
      "epoch 93: evaluating on 100 examples...\n",
      "epoch 93: est. objective value: 0.8925521995475103\n",
      "epoch 94: generating 100 training examples...\n",
      "epoch 94: training using 1 minibatches of size 100...\n",
      "epoch 94: evaluating on 100 examples...\n",
      "epoch 94: est. objective value: 0.656705466125408\n",
      "epoch 95: generating 100 training examples...\n",
      "epoch 95: training using 1 minibatches of size 100...\n",
      "epoch 95: evaluating on 100 examples...\n",
      "epoch 95: est. objective value: 0.7077367257939691\n",
      "epoch 96: generating 100 training examples...\n",
      "epoch 96: training using 1 minibatches of size 100...\n",
      "epoch 96: evaluating on 100 examples...\n",
      "epoch 96: est. objective value: 0.8074273758051015\n",
      "epoch 97: generating 100 training examples...\n",
      "epoch 97: training using 1 minibatches of size 100...\n",
      "epoch 97: evaluating on 100 examples...\n",
      "epoch 97: est. objective value: 0.5210975416666935\n",
      "epoch 98: generating 100 training examples...\n",
      "epoch 98: training using 1 minibatches of size 100...\n",
      "epoch 98: evaluating on 100 examples...\n",
      "epoch 98: est. objective value: 0.6738603386963731\n",
      "epoch 99: generating 100 training examples...\n",
      "epoch 99: training using 1 minibatches of size 100...\n",
      "epoch 99: evaluating on 100 examples...\n",
      "epoch 99: est. objective value: 0.8132253359033019\n",
      "epoch 100: generating 100 training examples...\n",
      "epoch 100: training using 1 minibatches of size 100...\n",
      "epoch 100: evaluating on 100 examples...\n",
      "epoch 100: est. objective value: 0.7584910929694579\n",
      "epoch 101: generating 100 training examples...\n",
      "epoch 101: training using 1 minibatches of size 100...\n",
      "epoch 101: evaluating on 100 examples...\n",
      "epoch 101: est. objective value: 0.7383525958587525\n",
      "epoch 102: generating 100 training examples...\n",
      "epoch 102: training using 1 minibatches of size 100...\n",
      "epoch 102: evaluating on 100 examples...\n",
      "epoch 102: est. objective value: 0.9030271743136151\n",
      "epoch 103: generating 100 training examples...\n",
      "epoch 103: training using 1 minibatches of size 100...\n",
      "epoch 103: evaluating on 100 examples...\n",
      "epoch 103: est. objective value: 0.7930943775770498\n",
      "epoch 104: generating 100 training examples...\n",
      "epoch 104: training using 1 minibatches of size 100...\n",
      "epoch 104: evaluating on 100 examples...\n",
      "epoch 104: est. objective value: 0.8550979060752444\n",
      "epoch 105: generating 100 training examples...\n",
      "epoch 105: training using 1 minibatches of size 100...\n",
      "epoch 105: evaluating on 100 examples...\n",
      "epoch 105: est. objective value: 0.6540859094584018\n",
      "epoch 106: generating 100 training examples...\n",
      "epoch 106: training using 1 minibatches of size 100...\n",
      "epoch 106: evaluating on 100 examples...\n",
      "epoch 106: est. objective value: 0.9121592432663514\n",
      "epoch 107: generating 100 training examples...\n",
      "epoch 107: training using 1 minibatches of size 100...\n",
      "epoch 107: evaluating on 100 examples...\n",
      "epoch 107: est. objective value: 0.5729141727538702\n",
      "epoch 108: generating 100 training examples...\n",
      "epoch 108: training using 1 minibatches of size 100...\n",
      "epoch 108: evaluating on 100 examples...\n",
      "epoch 108: est. objective value: 0.6635000682562385\n",
      "epoch 109: generating 100 training examples...\n",
      "epoch 109: training using 1 minibatches of size 100...\n",
      "epoch 109: evaluating on 100 examples...\n",
      "epoch 109: est. objective value: 0.6177754889353547\n",
      "epoch 110: generating 100 training examples...\n",
      "epoch 110: training using 1 minibatches of size 100...\n",
      "epoch 110: evaluating on 100 examples...\n",
      "epoch 110: est. objective value: 0.6536606715135924\n",
      "epoch 111: generating 100 training examples...\n",
      "epoch 111: training using 1 minibatches of size 100...\n",
      "epoch 111: evaluating on 100 examples...\n",
      "epoch 111: est. objective value: 0.8361816660354385\n",
      "epoch 112: generating 100 training examples...\n",
      "epoch 112: training using 1 minibatches of size 100...\n",
      "epoch 112: evaluating on 100 examples...\n",
      "epoch 112: est. objective value: 0.7746276264235864\n",
      "epoch 113: generating 100 training examples...\n",
      "epoch 113: training using 1 minibatches of size 100...\n",
      "epoch 113: evaluating on 100 examples...\n",
      "epoch 113: est. objective value: 0.7939151941411005\n",
      "epoch 114: generating 100 training examples...\n",
      "epoch 114: training using 1 minibatches of size 100...\n",
      "epoch 114: evaluating on 100 examples...\n",
      "epoch 114: est. objective value: 0.8135391571106357\n",
      "epoch 115: generating 100 training examples...\n",
      "epoch 115: training using 1 minibatches of size 100...\n",
      "epoch 115: evaluating on 100 examples...\n",
      "epoch 115: est. objective value: 0.7791452124790175\n",
      "epoch 116: generating 100 training examples...\n",
      "epoch 116: training using 1 minibatches of size 100...\n",
      "epoch 116: evaluating on 100 examples...\n",
      "epoch 116: est. objective value: 0.9029686773491263\n",
      "epoch 117: generating 100 training examples...\n",
      "epoch 117: training using 1 minibatches of size 100...\n",
      "epoch 117: evaluating on 100 examples...\n",
      "epoch 117: est. objective value: 0.7833923775861494\n",
      "epoch 118: generating 100 training examples...\n",
      "epoch 118: training using 1 minibatches of size 100...\n",
      "epoch 118: evaluating on 100 examples...\n",
      "epoch 118: est. objective value: 0.7273496226651847\n",
      "epoch 119: generating 100 training examples...\n",
      "epoch 119: training using 1 minibatches of size 100...\n",
      "epoch 119: evaluating on 100 examples...\n",
      "epoch 119: est. objective value: 0.5479691368446911\n",
      "epoch 120: generating 100 training examples...\n",
      "epoch 120: training using 1 minibatches of size 100...\n",
      "epoch 120: evaluating on 100 examples...\n",
      "epoch 120: est. objective value: 0.8349568420352802\n",
      "epoch 121: generating 100 training examples...\n",
      "epoch 121: training using 1 minibatches of size 100...\n",
      "epoch 121: evaluating on 100 examples...\n",
      "epoch 121: est. objective value: 0.7058124842311156\n",
      "epoch 122: generating 100 training examples...\n",
      "epoch 122: training using 1 minibatches of size 100...\n",
      "epoch 122: evaluating on 100 examples...\n",
      "epoch 122: est. objective value: 0.7923186328294943\n",
      "epoch 123: generating 100 training examples...\n",
      "epoch 123: training using 1 minibatches of size 100...\n",
      "epoch 123: evaluating on 100 examples...\n",
      "epoch 123: est. objective value: 0.850313271656145\n",
      "epoch 124: generating 100 training examples...\n",
      "epoch 124: training using 1 minibatches of size 100...\n",
      "epoch 124: evaluating on 100 examples...\n",
      "epoch 124: est. objective value: 0.7001127418366793\n",
      "epoch 125: generating 100 training examples...\n",
      "epoch 125: training using 1 minibatches of size 100...\n",
      "epoch 125: evaluating on 100 examples...\n",
      "epoch 125: est. objective value: 0.7162634895922585\n",
      "epoch 126: generating 100 training examples...\n",
      "epoch 126: training using 1 minibatches of size 100...\n",
      "epoch 126: evaluating on 100 examples...\n",
      "epoch 126: est. objective value: 0.8784122459525614\n",
      "epoch 127: generating 100 training examples...\n",
      "epoch 127: training using 1 minibatches of size 100...\n",
      "epoch 127: evaluating on 100 examples...\n",
      "epoch 127: est. objective value: 0.791521699840868\n",
      "epoch 128: generating 100 training examples...\n",
      "epoch 128: training using 1 minibatches of size 100...\n",
      "epoch 128: evaluating on 100 examples...\n",
      "epoch 128: est. objective value: 0.6501403390320013\n",
      "epoch 129: generating 100 training examples...\n",
      "epoch 129: training using 1 minibatches of size 100...\n",
      "epoch 129: evaluating on 100 examples...\n",
      "epoch 129: est. objective value: 0.8612464576206104\n",
      "epoch 130: generating 100 training examples...\n"
     ]
    },
    {
     "name": "stdout",
     "output_type": "stream",
     "text": [
      "epoch 130: training using 1 minibatches of size 100...\n",
      "epoch 130: evaluating on 100 examples...\n",
      "epoch 130: est. objective value: 0.729163614308293\n",
      "epoch 131: generating 100 training examples...\n",
      "epoch 131: training using 1 minibatches of size 100...\n",
      "epoch 131: evaluating on 100 examples...\n",
      "epoch 131: est. objective value: 0.8538718348507038\n",
      "epoch 132: generating 100 training examples...\n",
      "epoch 132: training using 1 minibatches of size 100...\n",
      "epoch 132: evaluating on 100 examples...\n",
      "epoch 132: est. objective value: 0.823415296611075\n",
      "epoch 133: generating 100 training examples...\n",
      "epoch 133: training using 1 minibatches of size 100...\n",
      "epoch 133: evaluating on 100 examples...\n",
      "epoch 133: est. objective value: 0.6637023166278841\n",
      "epoch 134: generating 100 training examples...\n",
      "epoch 134: training using 1 minibatches of size 100...\n",
      "epoch 134: evaluating on 100 examples...\n",
      "epoch 134: est. objective value: 0.7771063538886375\n",
      "epoch 135: generating 100 training examples...\n",
      "epoch 135: training using 1 minibatches of size 100...\n",
      "epoch 135: evaluating on 100 examples...\n",
      "epoch 135: est. objective value: 0.7771844069705839\n",
      "epoch 136: generating 100 training examples...\n",
      "epoch 136: training using 1 minibatches of size 100...\n",
      "epoch 136: evaluating on 100 examples...\n",
      "epoch 136: est. objective value: 0.752650830258135\n",
      "epoch 137: generating 100 training examples...\n",
      "epoch 137: training using 1 minibatches of size 100...\n",
      "epoch 137: evaluating on 100 examples...\n",
      "epoch 137: est. objective value: 0.708905504618115\n",
      "epoch 138: generating 100 training examples...\n",
      "epoch 138: training using 1 minibatches of size 100...\n",
      "epoch 138: evaluating on 100 examples...\n",
      "epoch 138: est. objective value: 0.6976361914388768\n",
      "epoch 139: generating 100 training examples...\n",
      "epoch 139: training using 1 minibatches of size 100...\n",
      "epoch 139: evaluating on 100 examples...\n",
      "epoch 139: est. objective value: 0.7815831628900853\n",
      "epoch 140: generating 100 training examples...\n",
      "epoch 140: training using 1 minibatches of size 100...\n",
      "epoch 140: evaluating on 100 examples...\n",
      "epoch 140: est. objective value: 0.6990588784047924\n",
      "epoch 141: generating 100 training examples...\n",
      "epoch 141: training using 1 minibatches of size 100...\n",
      "epoch 141: evaluating on 100 examples...\n",
      "epoch 141: est. objective value: 0.7708945050639662\n",
      "epoch 142: generating 100 training examples...\n",
      "epoch 142: training using 1 minibatches of size 100...\n",
      "epoch 142: evaluating on 100 examples...\n",
      "epoch 142: est. objective value: 0.778238574641301\n",
      "epoch 143: generating 100 training examples...\n",
      "epoch 143: training using 1 minibatches of size 100...\n",
      "epoch 143: evaluating on 100 examples...\n",
      "epoch 143: est. objective value: 0.6762696425491805\n",
      "epoch 144: generating 100 training examples...\n",
      "epoch 144: training using 1 minibatches of size 100...\n",
      "epoch 144: evaluating on 100 examples...\n",
      "epoch 144: est. objective value: 0.8858525098100611\n",
      "epoch 145: generating 100 training examples...\n",
      "epoch 145: training using 1 minibatches of size 100...\n",
      "epoch 145: evaluating on 100 examples...\n",
      "epoch 145: est. objective value: 0.8033191700369329\n",
      "epoch 146: generating 100 training examples...\n",
      "epoch 146: training using 1 minibatches of size 100...\n",
      "epoch 146: evaluating on 100 examples...\n",
      "epoch 146: est. objective value: 0.7324583629193778\n",
      "epoch 147: generating 100 training examples...\n",
      "epoch 147: training using 1 minibatches of size 100...\n",
      "epoch 147: evaluating on 100 examples...\n",
      "epoch 147: est. objective value: 0.9001869646566385\n",
      "epoch 148: generating 100 training examples...\n",
      "epoch 148: training using 1 minibatches of size 100...\n",
      "epoch 148: evaluating on 100 examples...\n",
      "epoch 148: est. objective value: 0.5807801160227882\n",
      "epoch 149: generating 100 training examples...\n",
      "epoch 149: training using 1 minibatches of size 100...\n",
      "epoch 149: evaluating on 100 examples...\n",
      "epoch 149: est. objective value: 0.6803765252084553\n",
      "epoch 150: generating 100 training examples...\n",
      "epoch 150: training using 1 minibatches of size 100...\n",
      "epoch 150: evaluating on 100 examples...\n",
      "epoch 150: est. objective value: 0.6516021102987242\n",
      "epoch 151: generating 100 training examples...\n",
      "epoch 151: training using 1 minibatches of size 100...\n",
      "epoch 151: evaluating on 100 examples...\n",
      "epoch 151: est. objective value: 0.7329710554261237\n",
      "epoch 152: generating 100 training examples...\n",
      "epoch 152: training using 1 minibatches of size 100...\n",
      "epoch 152: evaluating on 100 examples...\n",
      "epoch 152: est. objective value: 0.6887422378728633\n",
      "epoch 153: generating 100 training examples...\n",
      "epoch 153: training using 1 minibatches of size 100...\n",
      "epoch 153: evaluating on 100 examples...\n",
      "epoch 153: est. objective value: 0.9159831645176749\n",
      "epoch 154: generating 100 training examples...\n",
      "epoch 154: training using 1 minibatches of size 100...\n",
      "epoch 154: evaluating on 100 examples...\n",
      "epoch 154: est. objective value: 0.6530623427410256\n",
      "epoch 155: generating 100 training examples...\n",
      "epoch 155: training using 1 minibatches of size 100...\n",
      "epoch 155: evaluating on 100 examples...\n",
      "epoch 155: est. objective value: 0.8330106273009812\n",
      "epoch 156: generating 100 training examples...\n",
      "epoch 156: training using 1 minibatches of size 100...\n",
      "epoch 156: evaluating on 100 examples...\n",
      "epoch 156: est. objective value: 0.7139768606997281\n",
      "epoch 157: generating 100 training examples...\n",
      "epoch 157: training using 1 minibatches of size 100...\n",
      "epoch 157: evaluating on 100 examples...\n",
      "epoch 157: est. objective value: 0.551659738130263\n",
      "epoch 158: generating 100 training examples...\n",
      "epoch 158: training using 1 minibatches of size 100...\n",
      "epoch 158: evaluating on 100 examples...\n",
      "epoch 158: est. objective value: 0.8285810471787614\n",
      "epoch 159: generating 100 training examples...\n",
      "epoch 159: training using 1 minibatches of size 100...\n",
      "epoch 159: evaluating on 100 examples...\n",
      "epoch 159: est. objective value: 0.5425099166003505\n",
      "epoch 160: generating 100 training examples...\n",
      "epoch 160: training using 1 minibatches of size 100...\n",
      "epoch 160: evaluating on 100 examples...\n",
      "epoch 160: est. objective value: 0.8277358957304558\n",
      "epoch 161: generating 100 training examples...\n",
      "epoch 161: training using 1 minibatches of size 100...\n",
      "epoch 161: evaluating on 100 examples...\n",
      "epoch 161: est. objective value: 0.7319065270539308\n",
      "epoch 162: generating 100 training examples...\n",
      "epoch 162: training using 1 minibatches of size 100...\n",
      "epoch 162: evaluating on 100 examples...\n",
      "epoch 162: est. objective value: 0.633613575303894\n",
      "epoch 163: generating 100 training examples...\n",
      "epoch 163: training using 1 minibatches of size 100...\n",
      "epoch 163: evaluating on 100 examples...\n",
      "epoch 163: est. objective value: 0.6162239343401315\n",
      "epoch 164: generating 100 training examples...\n",
      "epoch 164: training using 1 minibatches of size 100...\n",
      "epoch 164: evaluating on 100 examples...\n",
      "epoch 164: est. objective value: 0.822281385332765\n",
      "epoch 165: generating 100 training examples...\n",
      "epoch 165: training using 1 minibatches of size 100...\n",
      "epoch 165: evaluating on 100 examples...\n",
      "epoch 165: est. objective value: 0.762448492441687\n",
      "epoch 166: generating 100 training examples...\n",
      "epoch 166: training using 1 minibatches of size 100...\n",
      "epoch 166: evaluating on 100 examples...\n",
      "epoch 166: est. objective value: 0.6584027368239611\n",
      "epoch 167: generating 100 training examples...\n",
      "epoch 167: training using 1 minibatches of size 100...\n",
      "epoch 167: evaluating on 100 examples...\n",
      "epoch 167: est. objective value: 0.8091043695864798\n",
      "epoch 168: generating 100 training examples...\n",
      "epoch 168: training using 1 minibatches of size 100...\n",
      "epoch 168: evaluating on 100 examples...\n",
      "epoch 168: est. objective value: 0.7192639064577706\n",
      "epoch 169: generating 100 training examples...\n",
      "epoch 169: training using 1 minibatches of size 100...\n",
      "epoch 169: evaluating on 100 examples...\n",
      "epoch 169: est. objective value: 0.5532316877837414\n",
      "epoch 170: generating 100 training examples...\n",
      "epoch 170: training using 1 minibatches of size 100...\n",
      "epoch 170: evaluating on 100 examples...\n",
      "epoch 170: est. objective value: 0.6771530873039028\n",
      "epoch 171: generating 100 training examples...\n",
      "epoch 171: training using 1 minibatches of size 100...\n",
      "epoch 171: evaluating on 100 examples...\n",
      "epoch 171: est. objective value: 0.6373752765404807\n",
      "epoch 172: generating 100 training examples...\n",
      "epoch 172: training using 1 minibatches of size 100...\n",
      "epoch 172: evaluating on 100 examples...\n"
     ]
    },
    {
     "name": "stdout",
     "output_type": "stream",
     "text": [
      "epoch 172: est. objective value: 0.7127796530762\n",
      "epoch 173: generating 100 training examples...\n",
      "epoch 173: training using 1 minibatches of size 100...\n",
      "epoch 173: evaluating on 100 examples...\n",
      "epoch 173: est. objective value: 0.6286032060107614\n",
      "epoch 174: generating 100 training examples...\n",
      "epoch 174: training using 1 minibatches of size 100...\n",
      "epoch 174: evaluating on 100 examples...\n",
      "epoch 174: est. objective value: 0.7871241942968209\n",
      "epoch 175: generating 100 training examples...\n",
      "epoch 175: training using 1 minibatches of size 100...\n",
      "epoch 175: evaluating on 100 examples...\n",
      "epoch 175: est. objective value: 0.7314142809362919\n",
      "epoch 176: generating 100 training examples...\n",
      "epoch 176: training using 1 minibatches of size 100...\n",
      "epoch 176: evaluating on 100 examples...\n",
      "epoch 176: est. objective value: 0.6428835169796817\n",
      "epoch 177: generating 100 training examples...\n",
      "epoch 177: training using 1 minibatches of size 100...\n",
      "epoch 177: evaluating on 100 examples...\n",
      "epoch 177: est. objective value: 0.6059267371108839\n",
      "epoch 178: generating 100 training examples...\n",
      "epoch 178: training using 1 minibatches of size 100...\n",
      "epoch 178: evaluating on 100 examples...\n",
      "epoch 178: est. objective value: 0.7408189724278151\n",
      "epoch 179: generating 100 training examples...\n",
      "epoch 179: training using 1 minibatches of size 100...\n",
      "epoch 179: evaluating on 100 examples...\n",
      "epoch 179: est. objective value: 0.6428972030655951\n",
      "epoch 180: generating 100 training examples...\n",
      "epoch 180: training using 1 minibatches of size 100...\n",
      "epoch 180: evaluating on 100 examples...\n",
      "epoch 180: est. objective value: 0.6949069815555746\n",
      "epoch 181: generating 100 training examples...\n",
      "epoch 181: training using 1 minibatches of size 100...\n",
      "epoch 181: evaluating on 100 examples...\n",
      "epoch 181: est. objective value: 0.6401480139056471\n",
      "epoch 182: generating 100 training examples...\n",
      "epoch 182: training using 1 minibatches of size 100...\n",
      "epoch 182: evaluating on 100 examples...\n",
      "epoch 182: est. objective value: 0.8895889419702853\n",
      "epoch 183: generating 100 training examples...\n",
      "epoch 183: training using 1 minibatches of size 100...\n",
      "epoch 183: evaluating on 100 examples...\n",
      "epoch 183: est. objective value: 0.818057823381725\n",
      "epoch 184: generating 100 training examples...\n",
      "epoch 184: training using 1 minibatches of size 100...\n",
      "epoch 184: evaluating on 100 examples...\n",
      "epoch 184: est. objective value: 0.6287516034093728\n",
      "epoch 185: generating 100 training examples...\n",
      "epoch 185: training using 1 minibatches of size 100...\n",
      "epoch 185: evaluating on 100 examples...\n",
      "epoch 185: est. objective value: 0.876621606428261\n",
      "epoch 186: generating 100 training examples...\n",
      "epoch 186: training using 1 minibatches of size 100...\n",
      "epoch 186: evaluating on 100 examples...\n",
      "epoch 186: est. objective value: 0.7662782604981112\n",
      "epoch 187: generating 100 training examples...\n",
      "epoch 187: training using 1 minibatches of size 100...\n",
      "epoch 187: evaluating on 100 examples...\n",
      "epoch 187: est. objective value: 0.8599759598446414\n",
      "epoch 188: generating 100 training examples...\n",
      "epoch 188: training using 1 minibatches of size 100...\n",
      "epoch 188: evaluating on 100 examples...\n",
      "epoch 188: est. objective value: 0.7430603335654803\n",
      "epoch 189: generating 100 training examples...\n",
      "epoch 189: training using 1 minibatches of size 100...\n",
      "epoch 189: evaluating on 100 examples...\n",
      "epoch 189: est. objective value: 0.7347012115851392\n",
      "epoch 190: generating 100 training examples...\n",
      "epoch 190: training using 1 minibatches of size 100...\n",
      "epoch 190: evaluating on 100 examples...\n",
      "epoch 190: est. objective value: 0.7507647390840626\n",
      "epoch 191: generating 100 training examples...\n",
      "epoch 191: training using 1 minibatches of size 100...\n",
      "epoch 191: evaluating on 100 examples...\n",
      "epoch 191: est. objective value: 0.8274084386478795\n",
      "epoch 192: generating 100 training examples...\n",
      "epoch 192: training using 1 minibatches of size 100...\n",
      "epoch 192: evaluating on 100 examples...\n",
      "epoch 192: est. objective value: 0.8356045602881097\n",
      "epoch 193: generating 100 training examples...\n",
      "epoch 193: training using 1 minibatches of size 100...\n",
      "epoch 193: evaluating on 100 examples...\n",
      "epoch 193: est. objective value: 0.6925633924724653\n",
      "epoch 194: generating 100 training examples...\n",
      "epoch 194: training using 1 minibatches of size 100...\n",
      "epoch 194: evaluating on 100 examples...\n",
      "epoch 194: est. objective value: 0.67067168783361\n",
      "epoch 195: generating 100 training examples...\n",
      "epoch 195: training using 1 minibatches of size 100...\n",
      "epoch 195: evaluating on 100 examples...\n",
      "epoch 195: est. objective value: 0.7091283493320916\n",
      "epoch 196: generating 100 training examples...\n",
      "epoch 196: training using 1 minibatches of size 100...\n",
      "epoch 196: evaluating on 100 examples...\n",
      "epoch 196: est. objective value: 0.8313978727068487\n",
      "epoch 197: generating 100 training examples...\n",
      "epoch 197: training using 1 minibatches of size 100...\n",
      "epoch 197: evaluating on 100 examples...\n",
      "epoch 197: est. objective value: 0.8192962699983397\n",
      "epoch 198: generating 100 training examples...\n",
      "epoch 198: training using 1 minibatches of size 100...\n",
      "epoch 198: evaluating on 100 examples...\n",
      "epoch 198: est. objective value: 0.7865420246564439\n",
      "epoch 199: generating 100 training examples...\n",
      "epoch 199: training using 1 minibatches of size 100...\n",
      "epoch 199: evaluating on 100 examples...\n",
      "epoch 199: est. objective value: 0.6238569005751443\n",
      "epoch 200: generating 100 training examples...\n",
      "epoch 200: training using 1 minibatches of size 100...\n",
      "epoch 200: evaluating on 100 examples...\n",
      "epoch 200: est. objective value: 0.7007970841290114\n",
      " 44.723273 seconds (33.72 M allocations: 2.070 GiB, 1.27% gc time)\n"
     ]
    }
   ],
   "source": [
    "@time scores = Gen.train!(custom_dest_proposal_trainable, data_generator, update,\n",
    "    num_epoch=200, epoch_size=100, num_minibatch=1, minibatch_size=100, evaluation_size=100, verbose=true);"
   ]
  },
  {
   "cell_type": "markdown",
   "metadata": {
    "slideshow": {
     "slide_type": "slide"
    }
   },
   "source": [
    "Plot the score function to inspect the performance of the log probability density"
   ]
  },
  {
   "cell_type": "code",
   "execution_count": 25,
   "metadata": {},
   "outputs": [
    {
     "data": {
      "image/png": "[encoded data removed]",
      "text/plain": [
       "Figure(PyObject <Figure size 640x480 with 1 Axes>)"
      ]
     },
     "metadata": {},
     "output_type": "display_data"
    }
   ],
   "source": [
    "plot(scores)\n",
    "xlabel(\"Iterations of stochastic gradient descent\")\n",
    "ylabel(\"Estimate of expected conditional log probability density\");"
   ]
  },
  {
   "cell_type": "markdown",
   "metadata": {
    "slideshow": {
     "slide_type": "slide"
    }
   },
   "source": [
    "### 4.5: Deep Learning based Data-Driven Proposals"
   ]
  },
  {
   "cell_type": "markdown",
   "metadata": {},
   "source": [
    "Having previously relied on the power of gradient-based optimization we now seek to harness the representational capability of neural networks. To do so we have to parametrize the proposal with a deep neural network."
   ]
  },
  {
   "cell_type": "code",
   "execution_count": 26,
   "metadata": {},
   "outputs": [],
   "source": [
    "# sigmoid activation function for nonlinearity in the network\n",
    "nonlinearity(x) = 1.7159 * tanh.(x * 0.66666);"
   ]
  },
  {
   "cell_type": "markdown",
   "metadata": {
    "slideshow": {
     "slide_type": "slide"
    }
   },
   "source": [
    "Construct deep neural networks with two hidden layer for the x- and y-coordinates. Returns unnormalized probabilities."
   ]
  },
  {
   "cell_type": "code",
   "execution_count": 27,
   "metadata": {},
   "outputs": [],
   "source": [
    "# deep neural network for x\n",
    "function dest_x_neural_net(nn_params, x_first::Real, y_first::Real, x_last::Real, y_last::Real)\n",
    "    (W1, b1, W2, b2, W3, b3) = nn_params\n",
    "    input_layer = [x_first, y_first, x_last, y_last]\n",
    "    hidden_layer_1 = nonlinearity(W1 * input_layer .+ b1)\n",
    "    hidden_layer_2 = nonlinearity(W2 * hidden_layer_1 .+ b2)\n",
    "    output_layer = exp.(W3 * hidden_layer_2 .+ b3)\n",
    "    return output_layer\n",
    "end;\n",
    "\n",
    "# deep neural network for y\n",
    "function dest_y_neural_net(nn_params, x_first::Real, y_first::Real, x_last::Real, y_last::Real)\n",
    "    (W1, b1, W2, b2, W3, b3) = nn_params\n",
    "    input_layer = [x_first, y_first, x_last, y_last]#, dest_x]\n",
    "    hidden_layer_1 = nonlinearity(W1 * input_layer .+ b1)\n",
    "    hidden_layer_2 = nonlinearity(W2 * hidden_layer_1 .+ b2)\n",
    "    output_layer = exp.(W3 * hidden_layer_2 .+ b3)\n",
    "    return output_layer\n",
    "end;"
   ]
  },
  {
   "cell_type": "markdown",
   "metadata": {},
   "source": [
    "We are then able to define our new proposal distributions, which takes the two neural networks as priors on the x- and y-probabilities and then samples from the unaltered piecewise uniform distribution."
   ]
  },
  {
   "cell_type": "code",
   "execution_count": 28,
   "metadata": {
    "slideshow": {
     "slide_type": "slide"
    }
   },
   "outputs": [],
   "source": [
    "# scaling measure\n",
    "scale_coord(coord, min, max) = (coord / (max - min)) - 0.5\n",
    "\n",
    "# proposal distribution taking the neural networks as priors\n",
    "@gen function custom_dest_proposal_neural(measurements::Vector{Point}, scene::Scene)\n",
    "    @param x_W1::Matrix{Float64}\n",
    "    @param x_b1::Vector{Float64}\n",
    "    @param x_W2::Matrix{Float64}\n",
    "    @param x_b2::Vector{Float64}\n",
    "    @param x_W3::Matrix{Float64}\n",
    "    @param x_b3::Vector{Float64}\n",
    "    @param y_W1::Matrix{Float64}\n",
    "    @param y_b1::Vector{Float64}\n",
    "    @param y_W2::Matrix{Float64}\n",
    "    @param y_b2::Vector{Float64}\n",
    "    @param y_W3::Matrix{Float64}\n",
    "    @param y_b3::Vector{Float64}\n",
    "    \n",
    "    num_x_bins = length(x_b3)\n",
    "    num_y_bins = length(y_b3)\n",
    "    # scale inputs to be in the range [-0.5, 0.5]\n",
    "    x_first = scale_coord(measurements[1].x, scene.xmin, scene.xmax)\n",
    "    x_last = scale_coord(measurements[end].x, scene.xmin, scene.xmax)\n",
    "    y_first = scale_coord(measurements[1].y, scene.ymin, scene.ymax)\n",
    "    y_last = scale_coord(measurements[end].y, scene.ymin, scene.ymax)\n",
    "    # sample dest_x\n",
    "    x_bounds = collect(range(scene.xmin, stop=scene.xmax, length=num_x_bins+1))\n",
    "    x_probs = dest_x_neural_net((x_W1, x_b1, x_W2, x_b2, x_W3, x_b3), x_first, y_first, x_last, y_last)\n",
    "    @trace(Gen.piecewise_uniform(x_bounds, x_probs / sum(x_probs)), :dest_x)\n",
    "    # sample dest_y\n",
    "    y_bounds = collect(range(scene.xmin, stop=scene.xmax, length=num_y_bins+1))\n",
    "    y_probs = dest_y_neural_net((y_W1, y_b1, y_W2, y_b2, y_W3, y_b3), x_first, y_first, x_last, y_last)\n",
    "    @trace(Gen.piecewise_uniform(y_bounds, y_probs / sum(y_probs)), :dest_y)\n",
    "    \n",
    "    return nothing\n",
    "end;"
   ]
  },
  {
   "cell_type": "markdown",
   "metadata": {
    "slideshow": {
     "slide_type": "slide"
    }
   },
   "source": [
    "Set the hyperparameters governing the width of the neural networks"
   ]
  },
  {
   "cell_type": "code",
   "execution_count": 29,
   "metadata": {},
   "outputs": [],
   "source": [
    "num_hidden_1 = 50\n",
    "num_hidden_2 = 50;"
   ]
  },
  {
   "cell_type": "markdown",
   "metadata": {},
   "source": [
    "Initialize all parameters for both neural networks"
   ]
  },
  {
   "cell_type": "code",
   "execution_count": 30,
   "metadata": {
    "slideshow": {
     "slide_type": "slide"
    }
   },
   "outputs": [],
   "source": [
    "import Random\n",
    "Random.seed!(3)\n",
    "\n",
    "init_weight(shape...) = (1. / sqrt(shape[2])) * randn(shape...)\n",
    "\n",
    "init_x_W1 = init_weight(num_hidden_1, 4)\n",
    "init_x_W2 = init_weight(num_hidden_2, num_hidden_1)\n",
    "init_x_W3 = init_weight(num_x_bins, num_hidden_2)\n",
    "\n",
    "# set parameters for dest_x_neural_net predictor network\n",
    "init_param!(custom_dest_proposal_neural, :x_W1, init_x_W1)\n",
    "init_param!(custom_dest_proposal_neural, :x_b1, zeros(num_hidden_1))\n",
    "init_param!(custom_dest_proposal_neural, :x_W2, init_x_W2)\n",
    "init_param!(custom_dest_proposal_neural, :x_b2, zeros(num_hidden_2))\n",
    "init_param!(custom_dest_proposal_neural, :x_W3, init_x_W3)\n",
    "init_param!(custom_dest_proposal_neural, :x_b3, zeros(num_x_bins))\n",
    "\n",
    "init_y_W1 = init_weight(num_hidden_1, 4)\n",
    "init_y_W2 = init_weight(num_hidden_2, num_hidden_1)\n",
    "init_y_W3 = init_weight(num_x_bins, num_hidden_2)\n",
    "\n",
    "# set parameters for dest_y_neural_net predictor network\n",
    "init_param!(custom_dest_proposal_neural, :y_W1, init_y_W1)\n",
    "init_param!(custom_dest_proposal_neural, :y_b1, zeros(num_hidden_1))\n",
    "init_param!(custom_dest_proposal_neural, :y_W2, init_y_W2)\n",
    "init_param!(custom_dest_proposal_neural, :y_b2, zeros(num_hidden_2))\n",
    "init_param!(custom_dest_proposal_neural, :y_W3, init_y_W3)\n",
    "init_param!(custom_dest_proposal_neural, :y_b3, zeros(num_y_bins));"
   ]
  },
  {
   "cell_type": "markdown",
   "metadata": {
    "slideshow": {
     "slide_type": "slide"
    }
   },
   "source": [
    "Update the initial parameters with a stochastic gradient descent with a fixed step size of 0.001"
   ]
  },
  {
   "cell_type": "code",
   "execution_count": 31,
   "metadata": {},
   "outputs": [],
   "source": [
    "update = Gen.ParamUpdate(Gen.FixedStepGradientDescent(0.001), custom_dest_proposal_neural);"
   ]
  },
  {
   "cell_type": "markdown",
   "metadata": {},
   "source": [
    "100 epochs of training with each epoch needing about 1000 training examples and applying 100 gradient updates. At the end of each epoch we use 10000 samples to estimate the objective function. (This process takes some time)"
   ]
  },
  {
   "cell_type": "code",
   "execution_count": 32,
   "metadata": {},
   "outputs": [
    {
     "name": "stdout",
     "output_type": "stream",
     "text": [
      "epoch 1: generating 1000 training examples...\n",
      "epoch 1: training using 100 minibatches of size 100...\n",
      "epoch 1: evaluating on 1000 examples...\n",
      "epoch 1: est. objective value: 0.6741937255629533\n",
      "epoch 2: generating 1000 training examples...\n",
      "epoch 2: training using 100 minibatches of size 100...\n",
      "epoch 2: evaluating on 1000 examples...\n",
      "epoch 2: est. objective value: 0.7205646354435988\n",
      "epoch 3: generating 1000 training examples...\n",
      "epoch 3: training using 100 minibatches of size 100...\n",
      "epoch 3: evaluating on 1000 examples...\n",
      "epoch 3: est. objective value: 0.6478114755576162\n",
      "epoch 4: generating 1000 training examples...\n",
      "epoch 4: training using 100 minibatches of size 100...\n",
      "epoch 4: evaluating on 1000 examples...\n",
      "epoch 4: est. objective value: 0.6677485463966828\n",
      "epoch 5: generating 1000 training examples...\n",
      "epoch 5: training using 100 minibatches of size 100...\n",
      "epoch 5: evaluating on 1000 examples...\n",
      "epoch 5: est. objective value: 0.6620751833819108\n",
      "epoch 6: generating 1000 training examples...\n",
      "epoch 6: training using 100 minibatches of size 100...\n",
      "epoch 6: evaluating on 1000 examples...\n",
      "epoch 6: est. objective value: 0.6846079228405682\n",
      "epoch 7: generating 1000 training examples...\n",
      "epoch 7: training using 100 minibatches of size 100...\n",
      "epoch 7: evaluating on 1000 examples...\n",
      "epoch 7: est. objective value: 0.715119838243798\n",
      "epoch 8: generating 1000 training examples...\n",
      "epoch 8: training using 100 minibatches of size 100...\n",
      "epoch 8: evaluating on 1000 examples...\n",
      "epoch 8: est. objective value: 0.8112856682914752\n",
      "epoch 9: generating 1000 training examples...\n",
      "epoch 9: training using 100 minibatches of size 100...\n",
      "epoch 9: evaluating on 1000 examples...\n",
      "epoch 9: est. objective value: 0.7509833424246652\n",
      "epoch 10: generating 1000 training examples...\n",
      "epoch 10: training using 100 minibatches of size 100...\n",
      "epoch 10: evaluating on 1000 examples...\n",
      "epoch 10: est. objective value: 0.8393046459360394\n",
      "epoch 11: generating 1000 training examples...\n",
      "epoch 11: training using 100 minibatches of size 100...\n",
      "epoch 11: evaluating on 1000 examples...\n",
      "epoch 11: est. objective value: 0.8466177742474276\n",
      "epoch 12: generating 1000 training examples...\n",
      "epoch 12: training using 100 minibatches of size 100...\n",
      "epoch 12: evaluating on 1000 examples...\n",
      "epoch 12: est. objective value: 0.869604218651118\n",
      "epoch 13: generating 1000 training examples...\n",
      "epoch 13: training using 100 minibatches of size 100...\n",
      "epoch 13: evaluating on 1000 examples...\n",
      "epoch 13: est. objective value: 0.9323037892394315\n",
      "epoch 14: generating 1000 training examples...\n",
      "epoch 14: training using 100 minibatches of size 100...\n",
      "epoch 14: evaluating on 1000 examples...\n",
      "epoch 14: est. objective value: 0.887087454102373\n",
      "epoch 15: generating 1000 training examples...\n",
      "epoch 15: training using 100 minibatches of size 100...\n",
      "epoch 15: evaluating on 1000 examples...\n",
      "epoch 15: est. objective value: 0.9330614910693625\n",
      "epoch 16: generating 1000 training examples...\n",
      "epoch 16: training using 100 minibatches of size 100...\n",
      "epoch 16: evaluating on 1000 examples...\n",
      "epoch 16: est. objective value: 0.9455757728979166\n",
      "epoch 17: generating 1000 training examples...\n",
      "epoch 17: training using 100 minibatches of size 100...\n",
      "epoch 17: evaluating on 1000 examples...\n",
      "epoch 17: est. objective value: 0.9649127344431421\n",
      "epoch 18: generating 1000 training examples...\n",
      "epoch 18: training using 100 minibatches of size 100...\n",
      "epoch 18: evaluating on 1000 examples...\n",
      "epoch 18: est. objective value: 1.07645425998672\n",
      "epoch 19: generating 1000 training examples...\n",
      "epoch 19: training using 100 minibatches of size 100...\n",
      "epoch 19: evaluating on 1000 examples...\n",
      "epoch 19: est. objective value: 1.0361616988698674\n",
      "epoch 20: generating 1000 training examples...\n",
      "epoch 20: training using 100 minibatches of size 100...\n",
      "epoch 20: evaluating on 1000 examples...\n",
      "epoch 20: est. objective value: 1.0846928423456301\n",
      "epoch 21: generating 1000 training examples...\n",
      "epoch 21: training using 100 minibatches of size 100...\n",
      "epoch 21: evaluating on 1000 examples...\n",
      "epoch 21: est. objective value: 0.9693211631358041\n",
      "epoch 22: generating 1000 training examples...\n",
      "epoch 22: training using 100 minibatches of size 100...\n",
      "epoch 22: evaluating on 1000 examples...\n",
      "epoch 22: est. objective value: 0.9987797369720391\n",
      "epoch 23: generating 1000 training examples...\n",
      "epoch 23: training using 100 minibatches of size 100...\n",
      "epoch 23: evaluating on 1000 examples...\n",
      "epoch 23: est. objective value: 0.974034507291837\n",
      "epoch 24: generating 1000 training examples...\n",
      "epoch 24: training using 100 minibatches of size 100...\n",
      "epoch 24: evaluating on 1000 examples...\n",
      "epoch 24: est. objective value: 1.108730536488398\n",
      "epoch 25: generating 1000 training examples...\n",
      "epoch 25: training using 100 minibatches of size 100...\n",
      "epoch 25: evaluating on 1000 examples...\n",
      "epoch 25: est. objective value: 0.9804638940532244\n",
      "epoch 26: generating 1000 training examples...\n",
      "epoch 26: training using 100 minibatches of size 100...\n",
      "epoch 26: evaluating on 1000 examples...\n",
      "epoch 26: est. objective value: 1.0564514949248272\n",
      "epoch 27: generating 1000 training examples...\n",
      "epoch 27: training using 100 minibatches of size 100...\n",
      "epoch 27: evaluating on 1000 examples...\n",
      "epoch 27: est. objective value: 0.9812136615949713\n",
      "epoch 28: generating 1000 training examples...\n",
      "epoch 28: training using 100 minibatches of size 100...\n",
      "epoch 28: evaluating on 1000 examples...\n",
      "epoch 28: est. objective value: 1.0125110314977188\n",
      "epoch 29: generating 1000 training examples...\n",
      "epoch 29: training using 100 minibatches of size 100...\n",
      "epoch 29: evaluating on 1000 examples...\n",
      "epoch 29: est. objective value: 1.068249889520191\n",
      "epoch 30: generating 1000 training examples...\n",
      "epoch 30: training using 100 minibatches of size 100...\n",
      "epoch 30: evaluating on 1000 examples...\n",
      "epoch 30: est. objective value: 0.9976469242229049\n",
      "epoch 31: generating 1000 training examples...\n",
      "epoch 31: training using 100 minibatches of size 100...\n",
      "epoch 31: evaluating on 1000 examples...\n",
      "epoch 31: est. objective value: 1.0453071131733385\n",
      "epoch 32: generating 1000 training examples...\n",
      "epoch 32: training using 100 minibatches of size 100...\n",
      "epoch 32: evaluating on 1000 examples...\n",
      "epoch 32: est. objective value: 0.9751167983733764\n",
      "epoch 33: generating 1000 training examples...\n",
      "epoch 33: training using 100 minibatches of size 100...\n",
      "epoch 33: evaluating on 1000 examples...\n",
      "epoch 33: est. objective value: 1.0805180351501158\n",
      "epoch 34: generating 1000 training examples...\n",
      "epoch 34: training using 100 minibatches of size 100...\n",
      "epoch 34: evaluating on 1000 examples...\n",
      "epoch 34: est. objective value: 1.127742217764526\n",
      "epoch 35: generating 1000 training examples...\n",
      "epoch 35: training using 100 minibatches of size 100...\n",
      "epoch 35: evaluating on 1000 examples...\n",
      "epoch 35: est. objective value: 1.0701666130684155\n",
      "epoch 36: generating 1000 training examples...\n",
      "epoch 36: training using 100 minibatches of size 100...\n",
      "epoch 36: evaluating on 1000 examples...\n",
      "epoch 36: est. objective value: 1.0741702539116949\n",
      "epoch 37: generating 1000 training examples...\n",
      "epoch 37: training using 100 minibatches of size 100...\n",
      "epoch 37: evaluating on 1000 examples...\n",
      "epoch 37: est. objective value: 1.0367600821707919\n",
      "epoch 38: generating 1000 training examples...\n",
      "epoch 38: training using 100 minibatches of size 100...\n",
      "epoch 38: evaluating on 1000 examples...\n",
      "epoch 38: est. objective value: 1.0777413908121856\n",
      "epoch 39: generating 1000 training examples...\n",
      "epoch 39: training using 100 minibatches of size 100...\n",
      "epoch 39: evaluating on 1000 examples...\n",
      "epoch 39: est. objective value: 1.2003157770574935\n",
      "epoch 40: generating 1000 training examples...\n",
      "epoch 40: training using 100 minibatches of size 100...\n",
      "epoch 40: evaluating on 1000 examples...\n",
      "epoch 40: est. objective value: 1.072055294168206\n",
      "epoch 41: generating 1000 training examples...\n",
      "epoch 41: training using 100 minibatches of size 100...\n",
      "epoch 41: evaluating on 1000 examples...\n",
      "epoch 41: est. objective value: 1.09932750022648\n",
      "epoch 42: generating 1000 training examples...\n",
      "epoch 42: training using 100 minibatches of size 100...\n",
      "epoch 42: evaluating on 1000 examples...\n",
      "epoch 42: est. objective value: 1.0906768734546977\n",
      "epoch 43: generating 1000 training examples...\n",
      "epoch 43: training using 100 minibatches of size 100...\n"
     ]
    },
    {
     "name": "stdout",
     "output_type": "stream",
     "text": [
      "epoch 43: evaluating on 1000 examples...\n",
      "epoch 43: est. objective value: 1.1113200582524976\n",
      "epoch 44: generating 1000 training examples...\n",
      "epoch 44: training using 100 minibatches of size 100...\n",
      "epoch 44: evaluating on 1000 examples...\n",
      "epoch 44: est. objective value: 1.0857792684136827\n",
      "epoch 45: generating 1000 training examples...\n",
      "epoch 45: training using 100 minibatches of size 100...\n",
      "epoch 45: evaluating on 1000 examples...\n",
      "epoch 45: est. objective value: 1.1892236987088787\n",
      "epoch 46: generating 1000 training examples...\n",
      "epoch 46: training using 100 minibatches of size 100...\n",
      "epoch 46: evaluating on 1000 examples...\n",
      "epoch 46: est. objective value: 1.0907858961069514\n",
      "epoch 47: generating 1000 training examples...\n",
      "epoch 47: training using 100 minibatches of size 100...\n",
      "epoch 47: evaluating on 1000 examples...\n",
      "epoch 47: est. objective value: 1.08178600283883\n",
      "epoch 48: generating 1000 training examples...\n",
      "epoch 48: training using 100 minibatches of size 100...\n",
      "epoch 48: evaluating on 1000 examples...\n",
      "epoch 48: est. objective value: 1.1572386678312878\n",
      "epoch 49: generating 1000 training examples...\n",
      "epoch 49: training using 100 minibatches of size 100...\n",
      "epoch 49: evaluating on 1000 examples...\n",
      "epoch 49: est. objective value: 1.0917768367115628\n",
      "epoch 50: generating 1000 training examples...\n",
      "epoch 50: training using 100 minibatches of size 100...\n",
      "epoch 50: evaluating on 1000 examples...\n",
      "epoch 50: est. objective value: 1.1137818871182235\n",
      "epoch 51: generating 1000 training examples...\n",
      "epoch 51: training using 100 minibatches of size 100...\n",
      "epoch 51: evaluating on 1000 examples...\n",
      "epoch 51: est. objective value: 1.1739407257880108\n",
      "epoch 52: generating 1000 training examples...\n",
      "epoch 52: training using 100 minibatches of size 100...\n",
      "epoch 52: evaluating on 1000 examples...\n",
      "epoch 52: est. objective value: 1.1855785231598994\n",
      "epoch 53: generating 1000 training examples...\n",
      "epoch 53: training using 100 minibatches of size 100...\n",
      "epoch 53: evaluating on 1000 examples...\n",
      "epoch 53: est. objective value: 1.143694187287041\n",
      "epoch 54: generating 1000 training examples...\n",
      "epoch 54: training using 100 minibatches of size 100...\n",
      "epoch 54: evaluating on 1000 examples...\n",
      "epoch 54: est. objective value: 1.0792206088822263\n",
      "epoch 55: generating 1000 training examples...\n",
      "epoch 55: training using 100 minibatches of size 100...\n",
      "epoch 55: evaluating on 1000 examples...\n",
      "epoch 55: est. objective value: 1.2004366181804995\n",
      "epoch 56: generating 1000 training examples...\n",
      "epoch 56: training using 100 minibatches of size 100...\n",
      "epoch 56: evaluating on 1000 examples...\n",
      "epoch 56: est. objective value: 1.1483874793716273\n",
      "epoch 57: generating 1000 training examples...\n",
      "epoch 57: training using 100 minibatches of size 100...\n",
      "epoch 57: evaluating on 1000 examples...\n",
      "epoch 57: est. objective value: 1.2066321382667293\n",
      "epoch 58: generating 1000 training examples...\n",
      "epoch 58: training using 100 minibatches of size 100...\n",
      "epoch 58: evaluating on 1000 examples...\n",
      "epoch 58: est. objective value: 1.19234252985021\n",
      "epoch 59: generating 1000 training examples...\n",
      "epoch 59: training using 100 minibatches of size 100...\n",
      "epoch 59: evaluating on 1000 examples...\n",
      "epoch 59: est. objective value: 1.1248396573364843\n",
      "epoch 60: generating 1000 training examples...\n",
      "epoch 60: training using 100 minibatches of size 100...\n",
      "epoch 60: evaluating on 1000 examples...\n",
      "epoch 60: est. objective value: 1.1483824715236923\n",
      "epoch 61: generating 1000 training examples...\n",
      "epoch 61: training using 100 minibatches of size 100...\n",
      "epoch 61: evaluating on 1000 examples...\n",
      "epoch 61: est. objective value: 1.173397095299807\n",
      "epoch 62: generating 1000 training examples...\n",
      "epoch 62: training using 100 minibatches of size 100...\n",
      "epoch 62: evaluating on 1000 examples...\n",
      "epoch 62: est. objective value: 1.2153854218977325\n",
      "epoch 63: generating 1000 training examples...\n",
      "epoch 63: training using 100 minibatches of size 100...\n",
      "epoch 63: evaluating on 1000 examples...\n",
      "epoch 63: est. objective value: 1.1635677446766304\n",
      "epoch 64: generating 1000 training examples...\n",
      "epoch 64: training using 100 minibatches of size 100...\n",
      "epoch 64: evaluating on 1000 examples...\n",
      "epoch 64: est. objective value: 1.09979485678994\n",
      "epoch 65: generating 1000 training examples...\n",
      "epoch 65: training using 100 minibatches of size 100...\n",
      "epoch 65: evaluating on 1000 examples...\n",
      "epoch 65: est. objective value: 1.1706766497418637\n",
      "epoch 66: generating 1000 training examples...\n",
      "epoch 66: training using 100 minibatches of size 100...\n",
      "epoch 66: evaluating on 1000 examples...\n",
      "epoch 66: est. objective value: 1.0761754363303344\n",
      "epoch 67: generating 1000 training examples...\n",
      "epoch 67: training using 100 minibatches of size 100...\n",
      "epoch 67: evaluating on 1000 examples...\n",
      "epoch 67: est. objective value: 1.040581239389457\n",
      "epoch 68: generating 1000 training examples...\n",
      "epoch 68: training using 100 minibatches of size 100...\n",
      "epoch 68: evaluating on 1000 examples...\n",
      "epoch 68: est. objective value: 1.1703176666215624\n",
      "epoch 69: generating 1000 training examples...\n",
      "epoch 69: training using 100 minibatches of size 100...\n",
      "epoch 69: evaluating on 1000 examples...\n",
      "epoch 69: est. objective value: 1.1474063912495478\n",
      "epoch 70: generating 1000 training examples...\n",
      "epoch 70: training using 100 minibatches of size 100...\n",
      "epoch 70: evaluating on 1000 examples...\n",
      "epoch 70: est. objective value: 1.159053052211898\n",
      "epoch 71: generating 1000 training examples...\n",
      "epoch 71: training using 100 minibatches of size 100...\n",
      "epoch 71: evaluating on 1000 examples...\n",
      "epoch 71: est. objective value: 1.1521924848186262\n",
      "epoch 72: generating 1000 training examples...\n",
      "epoch 72: training using 100 minibatches of size 100...\n",
      "epoch 72: evaluating on 1000 examples...\n",
      "epoch 72: est. objective value: 1.181670712065735\n",
      "epoch 73: generating 1000 training examples...\n",
      "epoch 73: training using 100 minibatches of size 100...\n",
      "epoch 73: evaluating on 1000 examples...\n",
      "epoch 73: est. objective value: 1.1553521487851024\n",
      "epoch 74: generating 1000 training examples...\n",
      "epoch 74: training using 100 minibatches of size 100...\n",
      "epoch 74: evaluating on 1000 examples...\n",
      "epoch 74: est. objective value: 1.14088841165023\n",
      "epoch 75: generating 1000 training examples...\n",
      "epoch 75: training using 100 minibatches of size 100...\n",
      "epoch 75: evaluating on 1000 examples...\n",
      "epoch 75: est. objective value: 1.1384836557933518\n",
      "epoch 76: generating 1000 training examples...\n",
      "epoch 76: training using 100 minibatches of size 100...\n",
      "epoch 76: evaluating on 1000 examples...\n",
      "epoch 76: est. objective value: 1.207909457163123\n",
      "epoch 77: generating 1000 training examples...\n",
      "epoch 77: training using 100 minibatches of size 100...\n",
      "epoch 77: evaluating on 1000 examples...\n",
      "epoch 77: est. objective value: 1.1648991725385291\n",
      "epoch 78: generating 1000 training examples...\n",
      "epoch 78: training using 100 minibatches of size 100...\n",
      "epoch 78: evaluating on 1000 examples...\n",
      "epoch 78: est. objective value: 1.003664455603957\n",
      "epoch 79: generating 1000 training examples...\n",
      "epoch 79: training using 100 minibatches of size 100...\n",
      "epoch 79: evaluating on 1000 examples...\n",
      "epoch 79: est. objective value: 1.17562246915774\n",
      "epoch 80: generating 1000 training examples...\n",
      "epoch 80: training using 100 minibatches of size 100...\n",
      "epoch 80: evaluating on 1000 examples...\n",
      "epoch 80: est. objective value: 1.1778645564779797\n",
      "epoch 81: generating 1000 training examples...\n",
      "epoch 81: training using 100 minibatches of size 100...\n",
      "epoch 81: evaluating on 1000 examples...\n",
      "epoch 81: est. objective value: 1.1503233944278828\n",
      "epoch 82: generating 1000 training examples...\n",
      "epoch 82: training using 100 minibatches of size 100...\n",
      "epoch 82: evaluating on 1000 examples...\n",
      "epoch 82: est. objective value: 1.1653045767916312\n",
      "epoch 83: generating 1000 training examples...\n",
      "epoch 83: training using 100 minibatches of size 100...\n",
      "epoch 83: evaluating on 1000 examples...\n",
      "epoch 83: est. objective value: 1.1377693621851397\n",
      "epoch 84: generating 1000 training examples...\n",
      "epoch 84: training using 100 minibatches of size 100...\n",
      "epoch 84: evaluating on 1000 examples...\n",
      "epoch 84: est. objective value: 1.218034384577836\n",
      "epoch 85: generating 1000 training examples...\n",
      "epoch 85: training using 100 minibatches of size 100...\n",
      "epoch 85: evaluating on 1000 examples...\n"
     ]
    },
    {
     "name": "stdout",
     "output_type": "stream",
     "text": [
      "epoch 85: est. objective value: 1.1588874686473185\n",
      "epoch 86: generating 1000 training examples...\n",
      "epoch 86: training using 100 minibatches of size 100...\n",
      "epoch 86: evaluating on 1000 examples...\n",
      "epoch 86: est. objective value: 1.1619015961052062\n",
      "epoch 87: generating 1000 training examples...\n",
      "epoch 87: training using 100 minibatches of size 100...\n",
      "epoch 87: evaluating on 1000 examples...\n",
      "epoch 87: est. objective value: 1.1713208101960513\n",
      "epoch 88: generating 1000 training examples...\n",
      "epoch 88: training using 100 minibatches of size 100...\n",
      "epoch 88: evaluating on 1000 examples...\n",
      "epoch 88: est. objective value: 1.1093044249487525\n",
      "epoch 89: generating 1000 training examples...\n",
      "epoch 89: training using 100 minibatches of size 100...\n",
      "epoch 89: evaluating on 1000 examples...\n",
      "epoch 89: est. objective value: 1.2383245378252423\n",
      "epoch 90: generating 1000 training examples...\n",
      "epoch 90: training using 100 minibatches of size 100...\n",
      "epoch 90: evaluating on 1000 examples...\n",
      "epoch 90: est. objective value: 1.17704834575359\n",
      "epoch 91: generating 1000 training examples...\n",
      "epoch 91: training using 100 minibatches of size 100...\n",
      "epoch 91: evaluating on 1000 examples...\n",
      "epoch 91: est. objective value: 1.2066126472134115\n",
      "epoch 92: generating 1000 training examples...\n",
      "epoch 92: training using 100 minibatches of size 100...\n",
      "epoch 92: evaluating on 1000 examples...\n",
      "epoch 92: est. objective value: 1.1023493489775817\n",
      "epoch 93: generating 1000 training examples...\n",
      "epoch 93: training using 100 minibatches of size 100...\n",
      "epoch 93: evaluating on 1000 examples...\n",
      "epoch 93: est. objective value: 1.131613039563411\n",
      "epoch 94: generating 1000 training examples...\n",
      "epoch 94: training using 100 minibatches of size 100...\n",
      "epoch 94: evaluating on 1000 examples...\n",
      "epoch 94: est. objective value: 1.1710183744875287\n",
      "epoch 95: generating 1000 training examples...\n",
      "epoch 95: training using 100 minibatches of size 100...\n",
      "epoch 95: evaluating on 1000 examples...\n",
      "epoch 95: est. objective value: 1.251478663231012\n",
      "epoch 96: generating 1000 training examples...\n",
      "epoch 96: training using 100 minibatches of size 100...\n",
      "epoch 96: evaluating on 1000 examples...\n",
      "epoch 96: est. objective value: 1.174591788618143\n",
      "epoch 97: generating 1000 training examples...\n",
      "epoch 97: training using 100 minibatches of size 100...\n",
      "epoch 97: evaluating on 1000 examples...\n",
      "epoch 97: est. objective value: 1.142799558131437\n",
      "epoch 98: generating 1000 training examples...\n",
      "epoch 98: training using 100 minibatches of size 100...\n",
      "epoch 98: evaluating on 1000 examples...\n",
      "epoch 98: est. objective value: 1.2187309209495942\n",
      "epoch 99: generating 1000 training examples...\n",
      "epoch 99: training using 100 minibatches of size 100...\n",
      "epoch 99: evaluating on 1000 examples...\n",
      "epoch 99: est. objective value: 1.1497484711402712\n",
      "epoch 100: generating 1000 training examples...\n",
      "epoch 100: training using 100 minibatches of size 100...\n",
      "epoch 100: evaluating on 1000 examples...\n",
      "epoch 100: est. objective value: 1.1448635180325566\n",
      "502.578532 seconds (5.29 G allocations: 406.747 GiB, 11.35% gc time)\n"
     ]
    }
   ],
   "source": [
    "@time scores = Gen.train!(custom_dest_proposal_neural, data_generator, update,\n",
    "    num_epoch=100, epoch_size=1000, num_minibatch=100, minibatch_size=100,\n",
    "    evaluation_size=1000, verbose=true);"
   ]
  },
  {
   "cell_type": "markdown",
   "metadata": {
    "slideshow": {
     "slide_type": "slide"
    }
   },
   "source": [
    "Assess the development of the log probability density"
   ]
  },
  {
   "cell_type": "code",
   "execution_count": 33,
   "metadata": {},
   "outputs": [
    {
     "data": {
      "image/png": "[encoded data removed]",
      "text/plain": [
       "Figure(PyObject <Figure size 640x480 with 1 Axes>)"
      ]
     },
     "metadata": {},
     "output_type": "display_data"
    }
   ],
   "source": [
    "plot(scores)\n",
    "xlabel(\"Epochs\")\n",
    "ylabel(\"Estimate of the expected conditional log probability density\");"
   ]
  },
  {
   "cell_type": "markdown",
   "metadata": {
    "slideshow": {
     "slide_type": "slide"
    }
   },
   "source": [
    "Which in its final throes achieves a better performance than a data-driven proposal, where only gradient-based optimization was deployed. What is quite apparent though is the stark constrast between the computational demands of the two approaches, i.e. 40 seconds vs 540 seconds. Which leads us to the trade-off at the core of a lot of inverse problems, uncertainty quantification, etc.; we have to decide how to best use our computational resources be it in a variational inference routine, where a variational family of distributions is optimized to approximate the \"true\" posterior distribution, but where the variational family can limit the representational capability or sampling-based routines, which require more computing power to arrive at an expressive posterior."
   ]
  },
  {
   "cell_type": "markdown",
   "metadata": {
    "slideshow": {
     "slide_type": "slide"
    }
   },
   "source": [
    "### List of References:\n",
    "\n",
    "**Reference 1.** [An Introduction to Probabilistic Programming](https://arxiv.org/abs/1809.10756)\n",
    "\n",
    "**Reference 2.** [Gen: A General-Purpose Probabilistic Programming System with Programmable Inference](https://dspace.mit.edu/bitstream/handle/1721.1/119255/MIT-CSAIL-TR-2018-020.pdf)\n",
    "\n",
    "**Reference 3.** [Turing: A Language for Flexible Probabilistic Inference](https://dspace.mit.edu/bitstream/handle/1721.1/119255/MIT-CSAIL-TR-2018-020.pdf)\n",
    "\n",
    "**Reference 4.** [Inference Compilation and Universal Probabilistic Programming](https://arxiv.org/abs/1610.09900)\n",
    "\n",
    "**Reference 5.** [Etalumis: Bringing Probabilistic Programming to Scientific Simulators at Scale](https://arxiv.org/abs/1907.03382)"
   ]
  }
 ],
 "metadata": {
  "celltoolbar": "Slideshow",
  "kernelspec": {
   "display_name": "Julia 1.1.0",
   "language": "julia",
   "name": "julia-1.1"
  },
  "language_info": {
   "file_extension": ".jl",
   "mimetype": "application/julia",
   "name": "julia",
   "version": "1.2.0"
  }
 },
 "nbformat": 4,
 "nbformat_minor": 2
}
