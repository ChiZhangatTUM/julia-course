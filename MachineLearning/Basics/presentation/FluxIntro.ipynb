{
 "cells": [
  {
   "cell_type": "markdown",
   "metadata": {
    "slideshow": {
     "slide_type": "slide"
    }
   },
   "source": [
    "# Tutorial: Introduction to Machine Learning with Flux"
   ]
  },
  {
   "cell_type": "markdown",
   "metadata": {
    "slideshow": {
     "slide_type": "slide"
    }
   },
   "source": [
    "This tutorial introduces the reader to [Flux](https://github.com/fluxml/flux.jl) as a machine learning framework and its stylistic features and syntactical quirks. It is a condensed version of the 60 minute tutorial, which can be found in the [Flux model-zoo](https://github.com/FluxML/model-zoo/blob/master/tutorials/60-minute-blitz.jl) and lecture content created for the scientific machine learning course at TUM.\n",
    "\n",
    "## Outline\n",
    "\n",
    "**Section 1.** [Machine Learning Frameworks](#frameworks)\n",
    "\n",
    "**Section 2.** [Reminder - Arrays in Flux](#arrays)\n",
    "\n",
    "**Section 3.** [Sending Arrays to GPUs](#gpu)\n",
    "\n",
    "**Section 4.** [Automatic Differentiation](#autodiff)\n",
    "\n",
    "**Section 5.** [Example - Training a Classifier](#example)"
   ]
  },
  {
   "cell_type": "code",
   "execution_count": null,
   "metadata": {
    "slideshow": {
     "slide_type": "slide"
    }
   },
   "outputs": [],
   "source": [
    "using Pkg\n",
    "Pkg.add(\"Metalhead\")\n",
    "Pkg.add(\"Images\")\n",
    "Pkg.add(\"Tracker\")"
   ]
  },
  {
   "cell_type": "markdown",
   "metadata": {
    "slideshow": {
     "slide_type": "slide"
    }
   },
   "source": [
    "## Agenda:\n",
    "\n",
    "- Quick overview over Machine learning frameworks in Julia\n",
    "- Introduction to Flux with an example\n",
    "    - Arrays\n",
    "    - Autodifferentiation\n",
    "    - Example: Let's build a classifier\n",
    "- Self-guided Tutorials\n",
    "    - Regression in Flux\n",
    "    - Classification in Flux\n",
    "    - Gaussian Processes using STheno"
   ]
  },
  {
   "cell_type": "markdown",
   "metadata": {
    "slideshow": {
     "slide_type": "slide"
    }
   },
   "source": [
    "## 1: Machine Learning Frameworks <a name=\"frameworks\"></a>"
   ]
  },
  {
   "cell_type": "markdown",
   "metadata": {},
   "source": [
    "### What is the logic behind Julia's Machine learning ecosystem?\n",
    "\n",
    "- PyTorch and Tensorflow are both coping with the constraints of Python, while being their own constrained DSLs which are missing customization abilities, such as custom gradients\n",
    "- Explosion in the necessary computational power to achieve state-of-the-art results opens the door for high-performance\n",
    "- Julia is one of the languages, which is in a position to offer solutions to problems in expressiveness as well as being able to satisfy the needs for high-performance calculations of cutting edge research\n",
    "- View it inherently as a language-level problem\n",
    "- Computing AD-estimates in Julia allows gradients over all other Julia models, where others have to handle C++ models"
   ]
  },
  {
   "cell_type": "markdown",
   "metadata": {
    "slideshow": {
     "slide_type": "slide"
    }
   },
   "source": [
    "### The Julia Ecosystem:\n",
    "\n",
    "- Flux (in tutorials throughout the day)\n",
    "- ONNX\n",
    "- Probabilistic Programming\n",
    "    - Gen (in tutorials later today)\n",
    "    - Turing (in tutorials later today)\n",
    "    - Stheno (in tutorials this morning)\n",
    "- Automatic Differentiation\n",
    "    - Zygote (used in some tutorials)\n",
    "    - Cassette"
   ]
  },
  {
   "cell_type": "markdown",
   "metadata": {
    "slideshow": {
     "slide_type": "slide"
    }
   },
   "source": [
    "### Reinforcement Learning:\n",
    "\n",
    "- Underdeveloped as of now\n",
    "- If you want the absolute best performance\n",
    "    - PyTorch natively written in C++\n",
    "    - Interface with Julia using CXX.jl"
   ]
  },
  {
   "cell_type": "markdown",
   "metadata": {
    "slideshow": {
     "slide_type": "slide"
    }
   },
   "source": [
    "## 2: Reminder - Arrays in Flux <a name=\"arrays\"></a>"
   ]
  },
  {
   "cell_type": "markdown",
   "metadata": {},
   "source": [
    "The core of Flux is comprised of its `arrays`, which in square form become matrices"
   ]
  },
  {
   "cell_type": "code",
   "execution_count": null,
   "metadata": {},
   "outputs": [],
   "source": [
    "x_matrix = [1 2; 3 4]"
   ]
  },
  {
   "cell_type": "markdown",
   "metadata": {},
   "source": [
    "For automatic generation of large arrays one relies on `rand`, which generates an array with random numbers between 0 and 1 in the shape $5 \\times 3$"
   ]
  },
  {
   "cell_type": "code",
   "execution_count": null,
   "metadata": {},
   "outputs": [],
   "source": [
    "x = rand(5, 3)"
   ]
  },
  {
   "cell_type": "markdown",
   "metadata": {},
   "source": [
    "Matrix multiplication works with a Matlab-like syntax"
   ]
  },
  {
   "cell_type": "code",
   "execution_count": null,
   "metadata": {},
   "outputs": [],
   "source": [
    "W = randn(5, 10)\n",
    "x = rand(10)\n",
    "W * x"
   ]
  },
  {
   "cell_type": "markdown",
   "metadata": {
    "slideshow": {
     "slide_type": "slide"
    }
   },
   "source": [
    "## 3: Sending Arrays to GPUs <a name=\"gpu\"></a>"
   ]
  },
  {
   "cell_type": "markdown",
   "metadata": {},
   "source": [
    "Julia can be fully integrated with NVIDIA GPUs with the `CUDAdrv`, `CUDAnative`, and `CuArrays` packages"
   ]
  },
  {
   "cell_type": "markdown",
   "metadata": {
    "slideshow": {
     "slide_type": "slide"
    }
   },
   "source": [
    "For example,"
   ]
  },
  {
   "cell_type": "code",
   "execution_count": null,
   "metadata": {},
   "outputs": [],
   "source": [
    "using CuArrays\n",
    "\n",
    "N = 2^5\n",
    "\n",
    "x_d = CuArrays.fill(1.0f0, N)\n",
    "y_d = CuArrays.fill(2.0f0, N)"
   ]
  },
  {
   "cell_type": "markdown",
   "metadata": {},
   "source": [
    "Benchmarking the performance on addition"
   ]
  },
  {
   "cell_type": "code",
   "execution_count": null,
   "metadata": {},
   "outputs": [],
   "source": [
    "@btime y_d .+= x_d"
   ]
  },
  {
   "cell_type": "markdown",
   "metadata": {
    "slideshow": {
     "slide_type": "slide"
    }
   },
   "source": [
    "While CuArrays and the other CUDA-integrations produce fast code, we seek to stay on a higher abstraction level and do hence send our to the GPUs with the `cu` command, which can be as easy as"
   ]
  },
  {
   "cell_type": "code",
   "execution_count": null,
   "metadata": {},
   "outputs": [],
   "source": [
    "x = cu(rand(5, 3))"
   ]
  },
  {
   "cell_type": "markdown",
   "metadata": {},
   "source": [
    "It is possible to write your own GPU-kernels using `CUDAnative`, but the normal user will fare better by staying at a high abstraction level. But, as with the rest of Julia, the option is always available to dive deep into the code of the individual functions and write your own operations, e.g."
   ]
  },
  {
   "cell_type": "markdown",
   "metadata": {
    "slideshow": {
     "slide_type": "slide"
    }
   },
   "source": [
    "Define your own custom addition operation in CUDA"
   ]
  },
  {
   "cell_type": "code",
   "execution_count": null,
   "metadata": {},
   "outputs": [],
   "source": [
    "using CUDAnative\n",
    "\n",
    "function gpu_add1!(y, x)\n",
    "    for i = 1:length(y)\n",
    "        @inbounds y[i] += x[i]\n",
    "    end\n",
    "    return nothing\n",
    "end\n",
    "\n",
    "@cuda gpu_add1!(y_d, x_d)"
   ]
  },
  {
   "cell_type": "markdown",
   "metadata": {
    "slideshow": {
     "slide_type": "slide"
    }
   },
   "source": [
    "## 4: Automatic Differentiation <a name=\"autodiff\"></a>"
   ]
  },
  {
   "cell_type": "markdown",
   "metadata": {},
   "source": [
    "The second cornerstone of Flux is its automatic differentation ability, which seamlessly interfaces with the rest of the Julia ecosystem:"
   ]
  },
  {
   "cell_type": "markdown",
   "metadata": {},
   "source": [
    "*\"Automatic Differentiation (AD) is a set of techniques based on the mechanical application of the chain rule to obtain derivatives of a function given as a computer program. AD exploits the fact that every computer program, no matter how complicated, executes a sequence of elementary arithmetic operations such as additions or elementary functions such as exp(). By applying the chain rule of derivative calculus repeatedly to these operations, derivatives of arbitrary order can be computed automatically, and accurate to working precision.\"*\n",
    "\n",
    "*Conceptually, AD is different from symbolic differentiation and approximations by divided differences.*\n",
    "\n",
    "(Source: [www.autodiff.org/?module=Introduction](http://www.autodiff.org/?module=Introduction))"
   ]
  },
  {
   "cell_type": "markdown",
   "metadata": {
    "slideshow": {
     "slide_type": "slide"
    }
   },
   "source": [
    "Let's start with a polynomial"
   ]
  },
  {
   "cell_type": "code",
   "execution_count": null,
   "metadata": {},
   "outputs": [],
   "source": [
    "f(x) = 3x^2 + 2x + 1"
   ]
  },
  {
   "cell_type": "markdown",
   "metadata": {},
   "source": [
    "Let Flux take the derivative for us"
   ]
  },
  {
   "cell_type": "code",
   "execution_count": null,
   "metadata": {},
   "outputs": [],
   "source": [
    "using Tracker: gradient\n",
    "\n",
    "df(x) = gradient(f, x; nest=true)[1]"
   ]
  },
  {
   "cell_type": "markdown",
   "metadata": {},
   "source": [
    "Breaking the derivative command down into its bits we see that we have to feed the AD-engine the function `f`, the variable we want to take the derivative against `x`, whether the function is nested, and which derivative we seek to take. Any generic Julia code we write, can be taken the derivative of as long as the used mathematical functions are differentiable. Taking a Taylor approximation to the `sin` function for example:"
   ]
  },
  {
   "cell_type": "code",
   "execution_count": null,
   "metadata": {},
   "outputs": [],
   "source": [
    "mysin(x) = sum((-1)^k * x^(1 + 2k)/factorial(1 + 2k) for k in 0:5)"
   ]
  },
  {
   "cell_type": "markdown",
   "metadata": {
    "slideshow": {
     "slide_type": "slide"
    }
   },
   "source": [
    "Testing the AD-engine"
   ]
  },
  {
   "cell_type": "code",
   "execution_count": null,
   "metadata": {},
   "outputs": [],
   "source": [
    "x = 0.5\n",
    "\n",
    "val = gradient(mysin, x)"
   ]
  },
  {
   "cell_type": "markdown",
   "metadata": {},
   "source": [
    "This machinery can also be applied to `arrays`; testing with a custom loss function we obtain gradients for each of the three inputs `W`, `b`, and `x`. Gradients, which can be utilized in classical optimization, as well as in machine learning models."
   ]
  },
  {
   "cell_type": "code",
   "execution_count": null,
   "metadata": {},
   "outputs": [],
   "source": [
    "myloss(W, b, x) = sum(W * x .+ b)\n",
    "\n",
    "W = randn(3, 5)\n",
    "b = zeros(3)\n",
    "x = rand(5)\n",
    "\n",
    "gradient(myloss, W, b, x)"
   ]
  },
  {
   "cell_type": "markdown",
   "metadata": {
    "slideshow": {
     "slide_type": "slide"
    }
   },
   "source": [
    "A second way to obtain gradients in Flux is by marking arrays with `param`, hence telling Flux to trace the execution of these arrays for later derivation. This branch has sadly been deprecated."
   ]
  },
  {
   "cell_type": "code",
   "execution_count": null,
   "metadata": {},
   "outputs": [],
   "source": [
    "using Tracker: param, back!, grad\n",
    "\n",
    "W = param(randn(3, 5))\n",
    "b = param(zeros(3))\n",
    "x = rand(5)\n",
    "\n",
    "y = sum(W * x .+ b)"
   ]
  },
  {
   "cell_type": "markdown",
   "metadata": {},
   "source": [
    "While this branch is deprecated it still serves as a good illustration of gradient descent's approach. Update the weights and perform optimisation of the weights using gradient descent, the formula for which is\n",
    "\n",
    "<p align=\"center\">\n",
    "    $weights = weights - learning\\_rate * gradient$\n",
    "</p>"
   ]
  },
  {
   "cell_type": "code",
   "execution_count": null,
   "metadata": {},
   "outputs": [],
   "source": [
    "using Tracker: update!\n",
    "\n",
    "η = 0.1\n",
    "for p in params(m)\n",
    "    update!(p, -η * grad(p))\n",
    "end"
   ]
  },
  {
   "cell_type": "markdown",
   "metadata": {
    "slideshow": {
     "slide_type": "slide"
    }
   },
   "source": [
    "Working with optimisers inherent to Flux we only have to define the learning for gradient descent"
   ]
  },
  {
   "cell_type": "code",
   "execution_count": null,
   "metadata": {},
   "outputs": [],
   "source": [
    "opt = Descent(0.01)"
   ]
  },
  {
   "cell_type": "markdown",
   "metadata": {},
   "source": [
    "We now only need to construct a data iterator, which includes the number of epochs and is then feed to Flux's `train!` function for the actual training process. An alternative to this approach is to loop over our dataset and update our parameters in the process."
   ]
  },
  {
   "cell_type": "code",
   "execution_count": null,
   "metadata": {},
   "outputs": [],
   "source": [
    "data, labels = rand(10, 100), fill(0.5, 2, 100)\n",
    "loss(x, y) = sum(Flux.crossentropy(m(x), y))\n",
    "Flux.train!(loss, params(m), [(data, labels)], opt)"
   ]
  },
  {
   "cell_type": "markdown",
   "metadata": {
    "slideshow": {
     "slide_type": "slide"
    }
   },
   "source": [
    "## 5: Example - Training a Classifier <a name=\"example\"></a>"
   ]
  },
  {
   "cell_type": "markdown",
   "metadata": {},
   "source": [
    "Import `Metalhead.jl` as a framework for computer vision models packaged with predefined & pretrained models and dataloaders."
   ]
  },
  {
   "cell_type": "code",
   "execution_count": 2,
   "metadata": {},
   "outputs": [
    {
     "name": "stderr",
     "output_type": "stream",
     "text": [
      "┌ Info: CUDAdrv.jl failed to initialize, GPU functionality unavailable (set JULIA_CUDA_SILENT or JULIA_CUDA_VERBOSE to silence or expand this message)\n",
      "└ @ CUDAdrv /home/lpaehler/.julia/packages/CUDAdrv/mCr0O/src/CUDAdrv.jl:69\n"
     ]
    }
   ],
   "source": [
    "using Statistics\n",
    "using Flux, Flux.Optimise\n",
    "using Metalhead, Images\n",
    "using Metalhead: trainimgs\n",
    "using Images.ImageCore\n",
    "using Flux: onehotbatch, onecold\n",
    "using Base.Iterators: partition"
   ]
  },
  {
   "cell_type": "markdown",
   "metadata": {
    "slideshow": {
     "slide_type": "slide"
    }
   },
   "source": [
    "Working with the CIFAR10 dataset we are faced with the following classification task:\n",
    "\n",
    "<p align=\"center\"><img src=\"imgs/cifar10.png\" width=\"600\" height=\"300\" /></p>\n",
    "\n",
    "\n",
    "We begin by one-hot encoding the different classes, i.e. split up the association with certain classes in different categories to achieves binary labels, which are easier for the model to digest. "
   ]
  },
  {
   "cell_type": "code",
   "execution_count": 3,
   "metadata": {},
   "outputs": [],
   "source": [
    "Metalhead.download(CIFAR10)\n",
    "X = trainimgs(CIFAR10)\n",
    "labels = onehotbatch([X[i].ground_truth.class for i in 1:50000], 1:10);"
   ]
  },
  {
   "cell_type": "markdown",
   "metadata": {
    "slideshow": {
     "slide_type": "slide"
    }
   },
   "source": [
    "Functions to access images from the data set and assess the ground truth"
   ]
  },
  {
   "cell_type": "code",
   "execution_count": 4,
   "metadata": {},
   "outputs": [
    {
     "data": {
      "text/plain": [
       "ground_truth (generic function with 1 method)"
      ]
     },
     "execution_count": 4,
     "metadata": {},
     "output_type": "execute_result"
    }
   ],
   "source": [
    "image(x) = x.img\n",
    "ground_truth(x) = x.ground_truth"
   ]
  },
  {
   "cell_type": "markdown",
   "metadata": {},
   "source": [
    "The images of the cifar10 dataset can be viewed as $32 \\times 32$ matrices with 3 color-channels. The images are then to rearranged into batches and a validation set in preparation for the minibatch learning. Minibatch learning is supposed to prevent us from getting stuck in saddle points."
   ]
  },
  {
   "cell_type": "code",
   "execution_count": 5,
   "metadata": {},
   "outputs": [],
   "source": [
    "getarray(X) = float.(permutedims(channelview(X), (2, 3, 1)))\n",
    "imgs = [getarray(X[i].img) for i in 1:50000];"
   ]
  },
  {
   "cell_type": "markdown",
   "metadata": {},
   "source": [
    "Split into a training and validation dataset with $98\\%$ reserved for training and $2\\%$ left for validation"
   ]
  },
  {
   "cell_type": "code",
   "execution_count": 6,
   "metadata": {},
   "outputs": [
    {
     "data": {
      "text/plain": [
       "10×1000 Flux.OneHotMatrix{Array{Flux.OneHotVector,1}}:\n",
       " 0  0  0  0  1  0  1  0  0  0  0  0  0  …  0  0  0  0  1  0  1  0  0  0  0  0\n",
       " 0  0  0  0  0  0  0  0  0  0  0  0  0     0  1  0  0  0  1  0  0  0  0  1  1\n",
       " 0  0  0  0  0  0  0  0  1  0  0  0  0     0  0  0  1  0  0  0  1  0  0  0  0\n",
       " 0  0  0  0  0  0  0  0  0  1  0  0  0     0  0  0  0  0  0  0  0  0  0  0  0\n",
       " 0  0  1  0  0  0  0  0  0  0  0  0  0     0  0  1  0  0  0  0  0  0  0  0  0\n",
       " 0  0  0  0  0  1  0  0  0  0  0  0  0  …  1  0  0  0  0  0  0  0  0  0  0  0\n",
       " 0  0  0  0  0  0  0  0  0  0  0  0  0     0  0  0  0  0  0  0  0  1  0  0  0\n",
       " 0  0  0  0  0  0  0  0  0  0  1  0  0     0  0  0  0  0  0  0  0  0  0  0  0\n",
       " 1  0  0  0  0  0  0  1  0  0  0  1  0     0  0  0  0  0  0  0  0  0  0  0  0\n",
       " 0  1  0  1  0  0  0  0  0  0  0  0  1     0  0  0  0  0  0  0  0  0  1  0  0"
      ]
     },
     "execution_count": 6,
     "metadata": {},
     "output_type": "execute_result"
    }
   ],
   "source": [
    "train = gpu.([(cat(imgs[i]..., dims=4), labels[:, i]) for i in partition(1:49000, 1000)])\n",
    "valset = 49001:50000\n",
    "valX = cat(imgs[valset]..., dims=4) |> gpu\n",
    "valY = labels[:, valset] |> gpu;"
   ]
  },
  {
   "cell_type": "markdown",
   "metadata": {
    "slideshow": {
     "slide_type": "slide"
    }
   },
   "source": [
    "A convolutional neural network is able to digest features of images; it analyzes by sliding its convolution kernel over the matrix to then return an intermediate representation, which unearth successively higher-order features."
   ]
  },
  {
   "cell_type": "code",
   "execution_count": 7,
   "metadata": {},
   "outputs": [
    {
     "data": {
      "text/plain": [
       "Chain(Conv((5, 5), 3=>16, relu), MaxPool((2, 2), pad = (0, 0, 0, 0), stride = (2, 2)), Conv((5, 5), 16=>8, relu), MaxPool((2, 2), pad = (0, 0, 0, 0), stride = (2, 2)), #9, Dense(200, 120), Dense(120, 84), Dense(84, 10), softmax)"
      ]
     },
     "execution_count": 7,
     "metadata": {},
     "output_type": "execute_result"
    }
   ],
   "source": [
    "m = Chain(\n",
    "    Conv((5, 5), 3=>16, relu),\n",
    "    MaxPool((2, 2)),\n",
    "    Conv((5, 5), 16=>8, relu),\n",
    "    MaxPool((2, 2)),\n",
    "    x -> reshape(x, :, size(x, 4)),\n",
    "    Dense(200, 120),\n",
    "    Dense(120, 84),\n",
    "    Dense(84, 10),\n",
    "    softmax) |> gpu"
   ]
  },
  {
   "cell_type": "markdown",
   "metadata": {
    "slideshow": {
     "slide_type": "slide"
    }
   },
   "source": [
    "We rely on the cross-entropy loss to adequately penalize for misclassifications with its log-skewing of the loss:\n",
    "\n",
    "<p align=\"center\"><img src=\"imgs/cross_entropy.png\" width=\"450\" height=\"450\" /></p>\n",
    "\n",
    "This is used in conjunction with the ADAM optimiser."
   ]
  },
  {
   "cell_type": "code",
   "execution_count": 8,
   "metadata": {},
   "outputs": [],
   "source": [
    "using Flux: crossentropy, Momentum\n",
    "\n",
    "loss(x, y) = sum(crossentropy(m(x), y))\n",
    "opt = ADAM(0.001);"
   ]
  },
  {
   "cell_type": "markdown",
   "metadata": {
    "slideshow": {
     "slide_type": "slide"
    }
   },
   "source": [
    "Keep tab of the model's accuracy"
   ]
  },
  {
   "cell_type": "code",
   "execution_count": 9,
   "metadata": {},
   "outputs": [],
   "source": [
    "accuracy(x, y) = mean(onecold(m(x), 1:10) .== onecold(y, 1:10));"
   ]
  },
  {
   "cell_type": "markdown",
   "metadata": {
    "slideshow": {
     "slide_type": "-"
    }
   },
   "source": [
    "Loop over the network for 10 epochs of optimisation"
   ]
  },
  {
   "cell_type": "code",
   "execution_count": 10,
   "metadata": {},
   "outputs": [
    {
     "name": "stdout",
     "output_type": "stream",
     "text": [
      "accuracy(valX, valY) = 0.085\n",
      "accuracy(valX, valY) = 0.094\n",
      "accuracy(valX, valY) = 0.13\n",
      "accuracy(valX, valY) = 0.149\n",
      "accuracy(valX, valY) = 0.155\n",
      "accuracy(valX, valY) = 0.162\n",
      "accuracy(valX, valY) = 0.183\n",
      "accuracy(valX, valY) = 0.209\n",
      "accuracy(valX, valY) = 0.194\n",
      "accuracy(valX, valY) = 0.191\n",
      "accuracy(valX, valY) = 0.207\n",
      "accuracy(valX, valY) = 0.216\n",
      "accuracy(valX, valY) = 0.206\n",
      "accuracy(valX, valY) = 0.217\n",
      "accuracy(valX, valY) = 0.226\n",
      "accuracy(valX, valY) = 0.248\n",
      "accuracy(valX, valY) = 0.255\n",
      "accuracy(valX, valY) = 0.267\n",
      "accuracy(valX, valY) = 0.282\n",
      "accuracy(valX, valY) = 0.257\n",
      "accuracy(valX, valY) = 0.252\n",
      "accuracy(valX, valY) = 0.268\n",
      "accuracy(valX, valY) = 0.285\n",
      "accuracy(valX, valY) = 0.289\n",
      "accuracy(valX, valY) = 0.32\n",
      "accuracy(valX, valY) = 0.299\n",
      "accuracy(valX, valY) = 0.315\n",
      "accuracy(valX, valY) = 0.309\n",
      "accuracy(valX, valY) = 0.308\n",
      "accuracy(valX, valY) = 0.312\n",
      "accuracy(valX, valY) = 0.314\n",
      "accuracy(valX, valY) = 0.321\n",
      "accuracy(valX, valY) = 0.328\n",
      "accuracy(valX, valY) = 0.328\n",
      "accuracy(valX, valY) = 0.334\n",
      "accuracy(valX, valY) = 0.355\n",
      "accuracy(valX, valY) = 0.352\n",
      "accuracy(valX, valY) = 0.332\n",
      "accuracy(valX, valY) = 0.325\n",
      "accuracy(valX, valY) = 0.337\n",
      "accuracy(valX, valY) = 0.356\n",
      "accuracy(valX, valY) = 0.358\n",
      "accuracy(valX, valY) = 0.37\n",
      "accuracy(valX, valY) = 0.361\n",
      "accuracy(valX, valY) = 0.349\n",
      "accuracy(valX, valY) = 0.362\n",
      "accuracy(valX, valY) = 0.362\n",
      "accuracy(valX, valY) = 0.354\n",
      "accuracy(valX, valY) = 0.349\n",
      "accuracy(valX, valY) = 0.375\n",
      "accuracy(valX, valY) = 0.387\n",
      "accuracy(valX, valY) = 0.38\n",
      "accuracy(valX, valY) = 0.372\n",
      "accuracy(valX, valY) = 0.379\n",
      "accuracy(valX, valY) = 0.399\n",
      "accuracy(valX, valY) = 0.385\n",
      "accuracy(valX, valY) = 0.375\n",
      "accuracy(valX, valY) = 0.389\n",
      "accuracy(valX, valY) = 0.414\n",
      "accuracy(valX, valY) = 0.395\n",
      "accuracy(valX, valY) = 0.383\n",
      "accuracy(valX, valY) = 0.403\n",
      "accuracy(valX, valY) = 0.395\n",
      "accuracy(valX, valY) = 0.392\n",
      "accuracy(valX, valY) = 0.381\n",
      "accuracy(valX, valY) = 0.396\n",
      "accuracy(valX, valY) = 0.405\n",
      "accuracy(valX, valY) = 0.388\n",
      "accuracy(valX, valY) = 0.375\n",
      "accuracy(valX, valY) = 0.426\n",
      "accuracy(valX, valY) = 0.416\n",
      "accuracy(valX, valY) = 0.424\n",
      "accuracy(valX, valY) = 0.392\n",
      "accuracy(valX, valY) = 0.411\n",
      "accuracy(valX, valY) = 0.422\n",
      "accuracy(valX, valY) = 0.418\n",
      "accuracy(valX, valY) = 0.422\n",
      "accuracy(valX, valY) = 0.421\n",
      "accuracy(valX, valY) = 0.431\n",
      "accuracy(valX, valY) = 0.423\n",
      "accuracy(valX, valY) = 0.43\n",
      "accuracy(valX, valY) = 0.429\n",
      "accuracy(valX, valY) = 0.424\n",
      "accuracy(valX, valY) = 0.431\n",
      "accuracy(valX, valY) = 0.422\n",
      "accuracy(valX, valY) = 0.429\n",
      "accuracy(valX, valY) = 0.423\n",
      "accuracy(valX, valY) = 0.424\n",
      "accuracy(valX, valY) = 0.428\n",
      "accuracy(valX, valY) = 0.438\n",
      "accuracy(valX, valY) = 0.447\n",
      "accuracy(valX, valY) = 0.449\n",
      "accuracy(valX, valY) = 0.457\n",
      "accuracy(valX, valY) = 0.45\n",
      "accuracy(valX, valY) = 0.444\n",
      "accuracy(valX, valY) = 0.428\n",
      "accuracy(valX, valY) = 0.433\n",
      "accuracy(valX, valY) = 0.442\n",
      "accuracy(valX, valY) = 0.445\n",
      "accuracy(valX, valY) = 0.434\n",
      "accuracy(valX, valY) = 0.438\n",
      "accuracy(valX, valY) = 0.445\n",
      "accuracy(valX, valY) = 0.454\n",
      "accuracy(valX, valY) = 0.449\n",
      "accuracy(valX, valY) = 0.461\n",
      "accuracy(valX, valY) = 0.458\n",
      "accuracy(valX, valY) = 0.439\n",
      "accuracy(valX, valY) = 0.448\n",
      "accuracy(valX, valY) = 0.465\n",
      "accuracy(valX, valY) = 0.435\n",
      "accuracy(valX, valY) = 0.451\n",
      "accuracy(valX, valY) = 0.419\n",
      "accuracy(valX, valY) = 0.423\n",
      "accuracy(valX, valY) = 0.463\n",
      "accuracy(valX, valY) = 0.47\n",
      "accuracy(valX, valY) = 0.441\n",
      "accuracy(valX, valY) = 0.434\n",
      "accuracy(valX, valY) = 0.436\n",
      "accuracy(valX, valY) = 0.444\n",
      "accuracy(valX, valY) = 0.471\n",
      "accuracy(valX, valY) = 0.42\n",
      "accuracy(valX, valY) = 0.464\n",
      "accuracy(valX, valY) = 0.45\n",
      "accuracy(valX, valY) = 0.437\n",
      "accuracy(valX, valY) = 0.43\n",
      "accuracy(valX, valY) = 0.469\n",
      "accuracy(valX, valY) = 0.462\n",
      "accuracy(valX, valY) = 0.469\n",
      "accuracy(valX, valY) = 0.439\n",
      "accuracy(valX, valY) = 0.435\n",
      "accuracy(valX, valY) = 0.433\n",
      "accuracy(valX, valY) = 0.454\n",
      "accuracy(valX, valY) = 0.452\n",
      "accuracy(valX, valY) = 0.449\n",
      "accuracy(valX, valY) = 0.466\n",
      "accuracy(valX, valY) = 0.459\n",
      "accuracy(valX, valY) = 0.444\n",
      "accuracy(valX, valY) = 0.456\n",
      "accuracy(valX, valY) = 0.475\n",
      "accuracy(valX, valY) = 0.467\n",
      "accuracy(valX, valY) = 0.473\n",
      "accuracy(valX, valY) = 0.473\n",
      "accuracy(valX, valY) = 0.471\n",
      "accuracy(valX, valY) = 0.458\n",
      "accuracy(valX, valY) = 0.464\n",
      "accuracy(valX, valY) = 0.48\n",
      "accuracy(valX, valY) = 0.459\n",
      "accuracy(valX, valY) = 0.462\n",
      "accuracy(valX, valY) = 0.467\n",
      "accuracy(valX, valY) = 0.484\n",
      "accuracy(valX, valY) = 0.465\n",
      "accuracy(valX, valY) = 0.473\n",
      "accuracy(valX, valY) = 0.483\n",
      "accuracy(valX, valY) = 0.486\n",
      "accuracy(valX, valY) = 0.481\n",
      "accuracy(valX, valY) = 0.47\n",
      "accuracy(valX, valY) = 0.47\n",
      "accuracy(valX, valY) = 0.468\n",
      "accuracy(valX, valY) = 0.46\n",
      "accuracy(valX, valY) = 0.471\n",
      "accuracy(valX, valY) = 0.476\n",
      "accuracy(valX, valY) = 0.431\n",
      "accuracy(valX, valY) = 0.46\n",
      "accuracy(valX, valY) = 0.466\n",
      "accuracy(valX, valY) = 0.483\n",
      "accuracy(valX, valY) = 0.427\n",
      "accuracy(valX, valY) = 0.477\n",
      "accuracy(valX, valY) = 0.449\n",
      "accuracy(valX, valY) = 0.45\n",
      "accuracy(valX, valY) = 0.44\n",
      "accuracy(valX, valY) = 0.428\n",
      "accuracy(valX, valY) = 0.465\n",
      "accuracy(valX, valY) = 0.465\n",
      "accuracy(valX, valY) = 0.477\n",
      "accuracy(valX, valY) = 0.448\n",
      "accuracy(valX, valY) = 0.463\n",
      "accuracy(valX, valY) = 0.47\n",
      "accuracy(valX, valY) = 0.463\n",
      "accuracy(valX, valY) = 0.474\n",
      "accuracy(valX, valY) = 0.459\n",
      "accuracy(valX, valY) = 0.45\n",
      "accuracy(valX, valY) = 0.474\n",
      "accuracy(valX, valY) = 0.479\n",
      "accuracy(valX, valY) = 0.465\n",
      "accuracy(valX, valY) = 0.462\n",
      "accuracy(valX, valY) = 0.466\n",
      "accuracy(valX, valY) = 0.473\n",
      "accuracy(valX, valY) = 0.474\n",
      "accuracy(valX, valY) = 0.484\n",
      "accuracy(valX, valY) = 0.481\n",
      "accuracy(valX, valY) = 0.485\n",
      "accuracy(valX, valY) = 0.483\n",
      "accuracy(valX, valY) = 0.479\n",
      "accuracy(valX, valY) = 0.478\n",
      "accuracy(valX, valY) = 0.48\n",
      "accuracy(valX, valY) = 0.482\n",
      "accuracy(valX, valY) = 0.478\n",
      "accuracy(valX, valY) = 0.479\n",
      "accuracy(valX, valY) = 0.479\n",
      "accuracy(valX, valY) = 0.471\n",
      "accuracy(valX, valY) = 0.479\n",
      "accuracy(valX, valY) = 0.485\n",
      "accuracy(valX, valY) = 0.485\n",
      "accuracy(valX, valY) = 0.491\n",
      "accuracy(valX, valY) = 0.488\n",
      "accuracy(valX, valY) = 0.474\n",
      "accuracy(valX, valY) = 0.48\n",
      "accuracy(valX, valY) = 0.485\n",
      "accuracy(valX, valY) = 0.482\n",
      "accuracy(valX, valY) = 0.498\n",
      "accuracy(valX, valY) = 0.475\n",
      "accuracy(valX, valY) = 0.468\n",
      "accuracy(valX, valY) = 0.476\n",
      "accuracy(valX, valY) = 0.503\n",
      "accuracy(valX, valY) = 0.465\n",
      "accuracy(valX, valY) = 0.49\n",
      "accuracy(valX, valY) = 0.476\n",
      "accuracy(valX, valY) = 0.47\n",
      "accuracy(valX, valY) = 0.466\n",
      "accuracy(valX, valY) = 0.462\n",
      "accuracy(valX, valY) = 0.481\n",
      "accuracy(valX, valY) = 0.468\n",
      "accuracy(valX, valY) = 0.491\n",
      "accuracy(valX, valY) = 0.486\n",
      "accuracy(valX, valY) = 0.486\n",
      "accuracy(valX, valY) = 0.487\n",
      "accuracy(valX, valY) = 0.474\n",
      "accuracy(valX, valY) = 0.48\n",
      "accuracy(valX, valY) = 0.488\n",
      "accuracy(valX, valY) = 0.49\n",
      "accuracy(valX, valY) = 0.495\n",
      "accuracy(valX, valY) = 0.492\n",
      "accuracy(valX, valY) = 0.485\n",
      "accuracy(valX, valY) = 0.481\n",
      "accuracy(valX, valY) = 0.475\n",
      "accuracy(valX, valY) = 0.479\n",
      "accuracy(valX, valY) = 0.483\n",
      "accuracy(valX, valY) = 0.503\n",
      "accuracy(valX, valY) = 0.504\n",
      "accuracy(valX, valY) = 0.504\n",
      "accuracy(valX, valY) = 0.5\n",
      "accuracy(valX, valY) = 0.496\n",
      "accuracy(valX, valY) = 0.488\n",
      "accuracy(valX, valY) = 0.484\n",
      "accuracy(valX, valY) = 0.496\n",
      "accuracy(valX, valY) = 0.485\n",
      "accuracy(valX, valY) = 0.489\n",
      "accuracy(valX, valY) = 0.493\n",
      "accuracy(valX, valY) = 0.488\n",
      "accuracy(valX, valY) = 0.495\n",
      "accuracy(valX, valY) = 0.504\n",
      "accuracy(valX, valY) = 0.503\n",
      "accuracy(valX, valY) = 0.509\n",
      "accuracy(valX, valY) = 0.493\n",
      "accuracy(valX, valY) = 0.487\n",
      "accuracy(valX, valY) = 0.493\n",
      "accuracy(valX, valY) = 0.498\n",
      "accuracy(valX, valY) = 0.485\n",
      "accuracy(valX, valY) = 0.5\n",
      "accuracy(valX, valY) = 0.487\n",
      "accuracy(valX, valY) = 0.475\n",
      "accuracy(valX, valY) = 0.489\n",
      "accuracy(valX, valY) = 0.501\n",
      "accuracy(valX, valY) = 0.48\n",
      "accuracy(valX, valY) = 0.502\n",
      "accuracy(valX, valY) = 0.485\n",
      "accuracy(valX, valY) = 0.484\n",
      "accuracy(valX, valY) = 0.472\n",
      "accuracy(valX, valY) = 0.489\n",
      "accuracy(valX, valY) = 0.464\n",
      "accuracy(valX, valY) = 0.495\n",
      "accuracy(valX, valY) = 0.493\n",
      "accuracy(valX, valY) = 0.488\n",
      "accuracy(valX, valY) = 0.499\n",
      "accuracy(valX, valY) = 0.492\n",
      "accuracy(valX, valY) = 0.492\n",
      "accuracy(valX, valY) = 0.495\n",
      "accuracy(valX, valY) = 0.51\n",
      "accuracy(valX, valY) = 0.498\n",
      "accuracy(valX, valY) = 0.516\n",
      "accuracy(valX, valY) = 0.504\n",
      "accuracy(valX, valY) = 0.494\n",
      "accuracy(valX, valY) = 0.498\n",
      "accuracy(valX, valY) = 0.492\n"
     ]
    },
    {
     "name": "stdout",
     "output_type": "stream",
     "text": [
      "accuracy(valX, valY) = 0.503\n",
      "accuracy(valX, valY) = 0.492\n",
      "accuracy(valX, valY) = 0.517\n",
      "accuracy(valX, valY) = 0.521\n",
      "accuracy(valX, valY) = 0.515\n",
      "accuracy(valX, valY) = 0.514\n",
      "accuracy(valX, valY) = 0.513\n",
      "accuracy(valX, valY) = 0.503\n",
      "accuracy(valX, valY) = 0.508\n",
      "accuracy(valX, valY) = 0.503\n",
      "accuracy(valX, valY) = 0.504\n",
      "accuracy(valX, valY) = 0.506\n",
      "accuracy(valX, valY) = 0.501\n",
      "accuracy(valX, valY) = 0.498\n",
      "accuracy(valX, valY) = 0.502\n",
      "accuracy(valX, valY) = 0.51\n",
      "accuracy(valX, valY) = 0.517\n",
      "accuracy(valX, valY) = 0.51\n",
      "accuracy(valX, valY) = 0.513\n",
      "accuracy(valX, valY) = 0.496\n",
      "accuracy(valX, valY) = 0.501\n",
      "accuracy(valX, valY) = 0.499\n",
      "accuracy(valX, valY) = 0.497\n",
      "accuracy(valX, valY) = 0.51\n",
      "accuracy(valX, valY) = 0.493\n",
      "accuracy(valX, valY) = 0.496\n",
      "accuracy(valX, valY) = 0.512\n",
      "accuracy(valX, valY) = 0.502\n",
      "accuracy(valX, valY) = 0.48\n",
      "accuracy(valX, valY) = 0.511\n",
      "accuracy(valX, valY) = 0.489\n",
      "accuracy(valX, valY) = 0.502\n",
      "accuracy(valX, valY) = 0.495\n",
      "accuracy(valX, valY) = 0.496\n",
      "accuracy(valX, valY) = 0.489\n",
      "accuracy(valX, valY) = 0.506\n",
      "accuracy(valX, valY) = 0.499\n",
      "accuracy(valX, valY) = 0.492\n",
      "accuracy(valX, valY) = 0.511\n",
      "accuracy(valX, valY) = 0.511\n",
      "accuracy(valX, valY) = 0.499\n",
      "accuracy(valX, valY) = 0.499\n",
      "accuracy(valX, valY) = 0.517\n",
      "accuracy(valX, valY) = 0.511\n",
      "accuracy(valX, valY) = 0.52\n",
      "accuracy(valX, valY) = 0.514\n",
      "accuracy(valX, valY) = 0.502\n",
      "accuracy(valX, valY) = 0.511\n",
      "accuracy(valX, valY) = 0.51\n",
      "accuracy(valX, valY) = 0.512\n",
      "accuracy(valX, valY) = 0.517\n",
      "accuracy(valX, valY) = 0.523\n",
      "accuracy(valX, valY) = 0.524\n",
      "accuracy(valX, valY) = 0.522\n",
      "accuracy(valX, valY) = 0.522\n",
      "accuracy(valX, valY) = 0.52\n",
      "accuracy(valX, valY) = 0.513\n",
      "accuracy(valX, valY) = 0.519\n",
      "accuracy(valX, valY) = 0.517\n",
      "accuracy(valX, valY) = 0.508\n",
      "accuracy(valX, valY) = 0.515\n",
      "accuracy(valX, valY) = 0.514\n",
      "accuracy(valX, valY) = 0.515\n",
      "accuracy(valX, valY) = 0.515\n",
      "accuracy(valX, valY) = 0.522\n",
      "accuracy(valX, valY) = 0.514\n",
      "accuracy(valX, valY) = 0.519\n",
      "accuracy(valX, valY) = 0.521\n",
      "accuracy(valX, valY) = 0.499\n",
      "accuracy(valX, valY) = 0.51\n",
      "accuracy(valX, valY) = 0.508\n",
      "accuracy(valX, valY) = 0.498\n",
      "accuracy(valX, valY) = 0.519\n",
      "accuracy(valX, valY) = 0.513\n",
      "accuracy(valX, valY) = 0.506\n",
      "accuracy(valX, valY) = 0.514\n",
      "accuracy(valX, valY) = 0.521\n",
      "accuracy(valX, valY) = 0.472\n",
      "accuracy(valX, valY) = 0.518\n",
      "accuracy(valX, valY) = 0.493\n",
      "accuracy(valX, valY) = 0.502\n",
      "accuracy(valX, valY) = 0.496\n",
      "accuracy(valX, valY) = 0.511\n",
      "accuracy(valX, valY) = 0.492\n",
      "accuracy(valX, valY) = 0.513\n",
      "accuracy(valX, valY) = 0.506\n",
      "accuracy(valX, valY) = 0.495\n",
      "accuracy(valX, valY) = 0.52\n",
      "accuracy(valX, valY) = 0.518\n",
      "accuracy(valX, valY) = 0.507\n",
      "accuracy(valX, valY) = 0.517\n",
      "accuracy(valX, valY) = 0.526\n",
      "accuracy(valX, valY) = 0.511\n",
      "accuracy(valX, valY) = 0.527\n",
      "accuracy(valX, valY) = 0.526\n",
      "accuracy(valX, valY) = 0.517\n",
      "accuracy(valX, valY) = 0.523\n",
      "accuracy(valX, valY) = 0.514\n",
      "accuracy(valX, valY) = 0.515\n",
      "accuracy(valX, valY) = 0.534\n",
      "accuracy(valX, valY) = 0.539\n",
      "accuracy(valX, valY) = 0.522\n",
      "accuracy(valX, valY) = 0.532\n",
      "accuracy(valX, valY) = 0.526\n",
      "accuracy(valX, valY) = 0.522\n",
      "accuracy(valX, valY) = 0.521\n",
      "accuracy(valX, valY) = 0.529\n",
      "accuracy(valX, valY) = 0.521\n",
      "accuracy(valX, valY) = 0.515\n",
      "accuracy(valX, valY) = 0.527\n",
      "accuracy(valX, valY) = 0.52\n",
      "accuracy(valX, valY) = 0.518\n",
      "accuracy(valX, valY) = 0.522\n",
      "accuracy(valX, valY) = 0.526\n",
      "accuracy(valX, valY) = 0.525\n",
      "accuracy(valX, valY) = 0.526\n",
      "accuracy(valX, valY) = 0.523\n",
      "accuracy(valX, valY) = 0.517\n",
      "accuracy(valX, valY) = 0.523\n",
      "accuracy(valX, valY) = 0.513\n",
      "accuracy(valX, valY) = 0.51\n",
      "accuracy(valX, valY) = 0.533\n",
      "accuracy(valX, valY) = 0.52\n",
      "accuracy(valX, valY) = 0.516\n",
      "accuracy(valX, valY) = 0.518\n",
      "accuracy(valX, valY) = 0.526\n",
      "accuracy(valX, valY) = 0.49\n",
      "accuracy(valX, valY) = 0.529\n",
      "accuracy(valX, valY) = 0.5\n",
      "accuracy(valX, valY) = 0.509\n",
      "accuracy(valX, valY) = 0.514\n",
      "accuracy(valX, valY) = 0.509\n",
      "accuracy(valX, valY) = 0.509\n",
      "accuracy(valX, valY) = 0.509\n",
      "accuracy(valX, valY) = 0.517\n",
      "accuracy(valX, valY) = 0.495\n",
      "accuracy(valX, valY) = 0.512\n",
      "accuracy(valX, valY) = 0.525\n",
      "accuracy(valX, valY) = 0.524\n",
      "accuracy(valX, valY) = 0.518\n",
      "accuracy(valX, valY) = 0.527\n",
      "accuracy(valX, valY) = 0.521\n",
      "accuracy(valX, valY) = 0.534\n",
      "accuracy(valX, valY) = 0.528\n",
      "accuracy(valX, valY) = 0.522\n",
      "accuracy(valX, valY) = 0.526\n",
      "accuracy(valX, valY) = 0.525\n",
      "accuracy(valX, valY) = 0.52\n",
      "accuracy(valX, valY) = 0.542\n",
      "accuracy(valX, valY) = 0.541\n",
      "accuracy(valX, valY) = 0.532\n",
      "accuracy(valX, valY) = 0.534\n",
      "accuracy(valX, valY) = 0.535\n",
      "accuracy(valX, valY) = 0.532\n",
      "accuracy(valX, valY) = 0.533\n",
      "accuracy(valX, valY) = 0.539\n",
      "accuracy(valX, valY) = 0.53\n",
      "accuracy(valX, valY) = 0.522\n",
      "accuracy(valX, valY) = 0.534\n",
      "accuracy(valX, valY) = 0.532\n",
      "accuracy(valX, valY) = 0.533\n",
      "accuracy(valX, valY) = 0.529\n",
      "accuracy(valX, valY) = 0.529\n",
      "accuracy(valX, valY) = 0.536\n",
      "accuracy(valX, valY) = 0.534\n",
      "accuracy(valX, valY) = 0.537\n",
      "accuracy(valX, valY) = 0.528\n",
      "accuracy(valX, valY) = 0.531\n",
      "accuracy(valX, valY) = 0.525\n",
      "accuracy(valX, valY) = 0.528\n",
      "accuracy(valX, valY) = 0.536\n",
      "accuracy(valX, valY) = 0.521\n",
      "accuracy(valX, valY) = 0.521\n",
      "accuracy(valX, valY) = 0.533\n",
      "accuracy(valX, valY) = 0.535\n",
      "accuracy(valX, valY) = 0.498\n",
      "accuracy(valX, valY) = 0.538\n",
      "accuracy(valX, valY) = 0.509\n",
      "accuracy(valX, valY) = 0.51\n",
      "accuracy(valX, valY) = 0.52\n",
      "accuracy(valX, valY) = 0.503\n",
      "accuracy(valX, valY) = 0.517\n",
      "accuracy(valX, valY) = 0.52\n",
      "accuracy(valX, valY) = 0.524\n",
      "accuracy(valX, valY) = 0.509\n",
      "accuracy(valX, valY) = 0.526\n",
      "accuracy(valX, valY) = 0.533\n",
      "accuracy(valX, valY) = 0.526\n",
      "accuracy(valX, valY) = 0.527\n",
      "accuracy(valX, valY) = 0.518\n",
      "accuracy(valX, valY) = 0.518\n",
      "accuracy(valX, valY) = 0.538\n",
      "accuracy(valX, valY) = 0.527\n",
      "accuracy(valX, valY) = 0.533\n",
      "accuracy(valX, valY) = 0.532\n",
      "accuracy(valX, valY) = 0.529\n",
      "accuracy(valX, valY) = 0.532\n",
      "accuracy(valX, valY) = 0.547\n",
      "accuracy(valX, valY) = 0.536\n",
      "accuracy(valX, valY) = 0.531\n",
      "accuracy(valX, valY) = 0.539\n",
      "accuracy(valX, valY) = 0.546\n",
      "accuracy(valX, valY) = 0.536\n",
      "accuracy(valX, valY) = 0.539\n",
      "accuracy(valX, valY) = 0.543\n",
      "accuracy(valX, valY) = 0.53\n"
     ]
    }
   ],
   "source": [
    "epochs = 10\n",
    "\n",
    "# Callback function\n",
    "evalcb = () -> @show(accuracy(valX, valY))\n",
    "\n",
    "for epich = 1:epochs\n",
    "    Flux.train!(loss, params(m), train, opt, cb=evalcb)\n",
    "end;"
   ]
  },
  {
   "cell_type": "markdown",
   "metadata": {
    "slideshow": {
     "slide_type": "slide"
    }
   },
   "source": [
    "Predict the class labels of the neural network's outputs, and compare it to the groud-truth"
   ]
  },
  {
   "cell_type": "code",
   "execution_count": 11,
   "metadata": {
    "slideshow": {
     "slide_type": "-"
    }
   },
   "outputs": [
    {
     "data": {
      "text/plain": [
       "0.527"
      ]
     },
     "execution_count": 11,
     "metadata": {},
     "output_type": "execute_result"
    }
   ],
   "source": [
    "# Preprocessing of the validation data set\n",
    "valset = valimgs(CIFAR10)\n",
    "valimg = [getarray(valset[i].img) for i in 1:10000]\n",
    "labels = onehotbatch([valset[i].ground_truth.class for i in 1:10000],1:10)\n",
    "test = gpu.([(cat(valimg[i]..., dims = 4), labels[:,i]) for i in partition(1:10000, 1000)])\n",
    "\n",
    "ids = rand(1:10000, 10)\n",
    "image.(valset[ids])\n",
    "\n",
    "# Assess the model's performance\n",
    "rand_test = getarray.(image.(valset[ids]))\n",
    "rand_test = cat(rand_test..., dims = 4) |> gpu\n",
    "rand_truth = ground_truth.(valset[ids])\n",
    "m(rand_test)\n",
    "\n",
    "# Check the model's performance on test data\n",
    "accuracy(test[1]...)"
   ]
  },
  {
   "cell_type": "markdown",
   "metadata": {
    "slideshow": {
     "slide_type": "slide"
    }
   },
   "source": [
    "Examine the classifier's performance on all classes on their own"
   ]
  },
  {
   "cell_type": "code",
   "execution_count": 12,
   "metadata": {},
   "outputs": [
    {
     "data": {
      "text/plain": [
       "10-element Array{Float64,1}:\n",
       " 0.523\n",
       " 0.583\n",
       " 0.321\n",
       " 0.32 \n",
       " 0.298\n",
       " 0.47 \n",
       " 0.809\n",
       " 0.506\n",
       " 0.697\n",
       " 0.631"
      ]
     },
     "execution_count": 12,
     "metadata": {},
     "output_type": "execute_result"
    }
   ],
   "source": [
    "class_correct = zeros(10)\n",
    "class_total = zeros(10)\n",
    "for i in 1:10\n",
    "    preds = m(test[i][1])\n",
    "    lab = test[i][2]\n",
    "    for j = 1:1000\n",
    "        pred_class = findmax(preds[:, j])[2]\n",
    "        actual_class = findmax(lab[:, j])[2]\n",
    "        if pred_class == actual_class\n",
    "            class_correct[pred_class] += 1\n",
    "        end\n",
    "        class_total[actual_class] += 1\n",
    "    end\n",
    "end\n",
    "\n",
    "class_correct ./ class_total"
   ]
  }
 ],
 "metadata": {
  "celltoolbar": "Slideshow",
  "kernelspec": {
   "display_name": "Julia 1.1.0",
   "language": "julia",
   "name": "julia-1.1"
  },
  "language_info": {
   "file_extension": ".jl",
   "mimetype": "application/julia",
   "name": "julia",
   "version": "1.2.0"
  }
 },
 "nbformat": 4,
 "nbformat_minor": 2
}
