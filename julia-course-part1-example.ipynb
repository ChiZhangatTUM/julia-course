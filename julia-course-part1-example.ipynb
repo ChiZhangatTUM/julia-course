{
 "cells": [
  {
   "cell_type": "code",
   "execution_count": null,
   "metadata": {
    "slideshow": {
     "slide_type": "skip"
    }
   },
   "outputs": [],
   "source": [
    "# Check multithreading config:\n",
    "Base.Threads.nthreads()"
   ]
  },
  {
   "cell_type": "code",
   "execution_count": null,
   "metadata": {
    "slideshow": {
     "slide_type": "skip"
    }
   },
   "outputs": [],
   "source": [
    "# Check active package versions:\n",
    "using Pkg; pkg\"status\""
   ]
  },
  {
   "cell_type": "markdown",
   "metadata": {
    "collapsed": true,
    "nbpresent": {
     "id": "7b7b849a-81ae-4985-92ec-78b66da75f5f"
    },
    "slideshow": {
     "slide_type": "slide"
    }
   },
   "source": [
    "<h1 style=\"text-align: center;\">\n",
    "    <span style=\"display: block; text-align: center;\">\n",
    "        Introduction to\n",
    "    </span>\n",
    "    <span style=\"display: block; text-align: center;\">\n",
    "        <img alt=\"Julia\" src=\"images/logos/julia-logo.svg\" style=\"height: 2em; display: inline-block; margin: 1em;\"/>\n",
    "    </span>\n",
    "    <span style=\"display: block; text-align: center;\">\n",
    "        Part 1, Example\n",
    "    </span>\n",
    "</h1>\n",
    "\n",
    "<div style=\"text-align: center;\">\n",
    "    <div style=\"text-align: center; display: inline-block; vertical-align: middle;\">\n",
    "        Ludger Pähler <br/>\n",
    "        <small>\n",
    "        TUM, Chair of Aerodynamics and Fluid mechanics <br/>\n",
    "            <a href=\"mailto:ludger.paehler@tum.de\" target=\"_blank\">ludger.paehler@tum.de</a>\n",
    "        </small>\n",
    "    </div>\n",
    "    <div style=\"text-align: center; display: inline-block;\">\n",
    "        <img src=\"images/logos/tum-logo.svg\" style=\"height: 8em; display: inline-block;  vertical-align: middle; margin: 1em;\"/>\n",
    "    </div>\n",
    "</div>\n",
    "\n",
    "<div style=\"text-align: center;\">\n",
    "    <p style=\"text-align: center; display: inline-block; vertical-align: middle;\">\n",
    "        Oliver Schulz<br>\n",
    "        <small>\n",
    "            Max Planck Institute for Physics <br/>\n",
    "            <a href=\"mailto:oschulz@mpp.mpg.de\" target=\"_blank\">oschulz@mpp.mpg.de</a>\n",
    "        </small>\n",
    "    </p>\n",
    "    <p style=\"text-align: center; display: inline-block; vertical-align: middle;\">\n",
    "        <img src=\"images/logos/mpg-logo.svg\" style=\"height: 5em; display: inline-block; vertical-align: middle; margin: 1em;\"/>\n",
    "        <img src=\"images/logos/mpp-logo.svg\" style=\"height: 5em; display: inline-block; vertical-align: middle; margin: 1em;\"/>\n",
    "    </p>\n",
    "</div>\n",
    "\n",
    "<p style=\"text-align: center;\">\n",
    "    Leibniz Supercomputing Centre - LRZ, Jan. 27th 2019\n",
    "</p>"
   ]
  },
  {
   "cell_type": "markdown",
   "metadata": {},
   "source": [
    "## Example: Local Gravity"
   ]
  },
  {
   "cell_type": "code",
   "execution_count": null,
   "metadata": {},
   "outputs": [],
   "source": [
    "using VideoIO, Images, Colors, FileIO\n",
    "using Statistics\n",
    "using ArraysOfArrays\n",
    "using Unitful, Measurements\n",
    "using ArraysOfArrays, StaticArrays, StructArrays\n",
    "using BenchmarkTools\n",
    "using TypedTables\n",
    "using Printf"
   ]
  },
  {
   "cell_type": "code",
   "execution_count": null,
   "metadata": {
    "scrolled": true
   },
   "outputs": [],
   "source": [
    "using Plots; gr(format = :png)\n",
    "using Interact"
   ]
  },
  {
   "cell_type": "code",
   "execution_count": null,
   "metadata": {},
   "outputs": [],
   "source": [
    "function read_video(filename::AbstractString)\n",
    "    duration_in_s = VideoIO.get_duration(filename)\n",
    "    input = VideoIO.openvideo(filename)\n",
    "    try\n",
    "        frames_per_ms = input.framerate\n",
    "        nframes = floor(Int, duration_in_s * frames_per_ms / 1000) - 1\n",
    "        @info \"Reading \\\"$filename\\\" with $nframes frames\"\n",
    "        read_video(input, nframes)\n",
    "    finally\n",
    "        close(input)\n",
    "    end\n",
    "end\n",
    "\n",
    "\n",
    "function read_video(input::VideoIO.VideoReader, nframes)\n",
    "    frame = read(input)\n",
    "    video = Array{eltype(frame)}(undef, size(frame)..., nframes)\n",
    "    \n",
    "    for i in axes(video, 3)\n",
    "        read!(input, frame)\n",
    "        view(video, :, :, i) .= frame\n",
    "    end\n",
    "\n",
    "    video\n",
    "end"
   ]
  },
  {
   "cell_type": "code",
   "execution_count": null,
   "metadata": {},
   "outputs": [],
   "source": [
    "video = read_video(\"ball_throw.mp4\")\n",
    "typeof(video); Base.format_bytes(sizeof(video))"
   ]
  },
  {
   "cell_type": "code",
   "execution_count": null,
   "metadata": {},
   "outputs": [],
   "source": [
    "nestedview(video[1:5:end,1:5:end,1:20:end], Val(2))"
   ]
  },
  {
   "cell_type": "code",
   "execution_count": null,
   "metadata": {},
   "outputs": [],
   "source": [
    "frames = nestedview(video, Val(2));"
   ]
  },
  {
   "cell_type": "code",
   "execution_count": null,
   "metadata": {},
   "outputs": [],
   "source": [
    "plot(frames[50][85:115,300:335], ratio = 1)"
   ]
  },
  {
   "cell_type": "code",
   "execution_count": null,
   "metadata": {},
   "outputs": [],
   "source": [
    "ball_color = HSV(mean(frames[50][85:115,300:335]))"
   ]
  },
  {
   "cell_type": "code",
   "execution_count": null,
   "metadata": {},
   "outputs": [],
   "source": [
    "# correllate(a::RGB, b::RGB) = @fastmath sqrt(a.r * b.r + a.g * b.g + a.b * b.b)\n",
    "correllate(a::RGB, b::HSL) = @fastmath (ca = HSL(a); sqrt((ca.h - b.h)^2 + (ca.s - b.s)^2))"
   ]
  },
  {
   "cell_type": "code",
   "execution_count": null,
   "metadata": {},
   "outputs": [],
   "source": [
    "background = copy(frames[1]);"
   ]
  },
  {
   "cell_type": "code",
   "execution_count": null,
   "metadata": {},
   "outputs": [],
   "source": [
    "framediff(f::Function, frame::AbstractArray, ref_frame::AbstractArray, ref_color::Color) =\n",
    "    f.(correllate.(frame, ball_color) .- correllate.(ref_frame, ball_color))\n",
    "\n",
    "framediff(frame::AbstractArray, ref_frame::AbstractArray, ref_color::Color) =\n",
    "    framediff(identity, frame, ref_frame, ref_color)"
   ]
  },
  {
   "cell_type": "code",
   "execution_count": null,
   "metadata": {},
   "outputs": [],
   "source": [
    "correllate(a::RGB, b::HSV) = @fastmath (ca = HSV(a); sqrt((Float32(ca.h - b.h)/360)^2 + Float32(ca.s - b.s)^2))\n",
    "heatmap(framediff(frames[50], background, ball_color))"
   ]
  },
  {
   "cell_type": "code",
   "execution_count": null,
   "metadata": {},
   "outputs": [],
   "source": [
    "heatmap(framediff(x -> x < -0.4, frames[50], background, ball_color))"
   ]
  },
  {
   "cell_type": "code",
   "execution_count": null,
   "metadata": {},
   "outputs": [],
   "source": [
    "@time diffvideo = framediff(x -> x < -0.4, video, background, ball_color)\n",
    "typeof(diffvideo), Base.format_bytes(sizeof(diffvideo))"
   ]
  },
  {
   "cell_type": "code",
   "execution_count": null,
   "metadata": {},
   "outputs": [],
   "source": [
    "dframes = nestedview(diffvideo, Val(2));"
   ]
  },
  {
   "cell_type": "code",
   "execution_count": null,
   "metadata": {},
   "outputs": [],
   "source": [
    "@time sum(((idx, w) -> SVector(Tuple(idx)) * w).(CartesianIndices(A), A)) / sum(A)"
   ]
  },
  {
   "cell_type": "code",
   "execution_count": null,
   "metadata": {},
   "outputs": [],
   "source": [
    "function mean_pos(W::AbstractArray{T,N}) where {T,N}\n",
    "    U = float(T)\n",
    "    R = SVector{N,U}\n",
    "    sum_pos::R = zero(R)\n",
    "    sum_w::U = zero(U)\n",
    "    @inbounds for idx in CartesianIndices(W)\n",
    "        w = W[idx]\n",
    "        sum_pos += SVector(Tuple(idx)) * w\n",
    "        sum_w += w\n",
    "    end\n",
    "    sum_pos / sum_w\n",
    "end"
   ]
  },
  {
   "cell_type": "code",
   "execution_count": null,
   "metadata": {},
   "outputs": [],
   "source": [
    "@info mean_pos(A)\n",
    "@benchmark mean_pos($A)"
   ]
  },
  {
   "cell_type": "code",
   "execution_count": null,
   "metadata": {},
   "outputs": [],
   "source": [
    "struct Vec2D{T} <: FieldVector{2,T}\n",
    "    x::T\n",
    "    y::T\n",
    "end"
   ]
  },
  {
   "cell_type": "code",
   "execution_count": null,
   "metadata": {},
   "outputs": [],
   "source": [
    "PV = StructArray(Vec2D.(mean_pos.(dframes)))"
   ]
  },
  {
   "cell_type": "code",
   "execution_count": null,
   "metadata": {},
   "outputs": [],
   "source": [
    "plot(PV.x, PV.y, yflip = true)"
   ]
  },
  {
   "cell_type": "code",
   "execution_count": null,
   "metadata": {},
   "outputs": [],
   "source": [
    "framerate = 240\n",
    "raw_data = Table(u = PV, t = (eachindex(PV) .- firstindex(PV)) / framerate)"
   ]
  },
  {
   "cell_type": "code",
   "execution_count": null,
   "metadata": {},
   "outputs": [],
   "source": [
    "@manipulate for i in eachindex(dframes)\n",
    "    white = eltype(background)(colorant\"springgreen4\")\n",
    "    plot(((w,c) -> w ? white : c).(dframes[i], background)', ratio = 1)\n",
    "    plot!(raw_data.u.x, raw_data.u.y, yflip = true, color = :blue, label = \"trajectory\")\n",
    "    scatter!([raw_data.u.x[i]], [raw_data.u.y[i]], marker = (:xcross, :red), label = (@sprintf \"%.2f s\" raw_data.t[i]))\n",
    "end"
   ]
  },
  {
   "cell_type": "code",
   "execution_count": null,
   "metadata": {},
   "outputs": [],
   "source": [
    "sel_idxs = 27:244"
   ]
  },
  {
   "cell_type": "code",
   "execution_count": null,
   "metadata": {},
   "outputs": [],
   "source": [
    "FileIO.save(\"background.png\", background)"
   ]
  },
  {
   "cell_type": "code",
   "execution_count": null,
   "metadata": {},
   "outputs": [],
   "source": [
    "raw_xy_shift = Vec2D(0, lastindex(axes(background,2)))\n",
    "\n",
    "xy_cal_factor = 1.83 / 1559 * 1.72/1.82\n",
    "\n",
    "xy_cal = SMatrix{2,2}(\n",
    "    xy_cal_factor,             0,\n",
    "                0, -xy_cal_factor\n",
    ")\n",
    "\n",
    "cal_data = Table(\n",
    "    u = StructArray(Vec2D.(Ref(xy_cal) .* (raw_data.u .- Ref(raw_xy_shift)))),\n",
    "    t = copy(collect(raw_data.t)),\n",
    ")\n",
    "\n",
    "# Fix missing frame:\n",
    "view(cal_data.t, 169:lastindex(cal_data.t)) .+= 1 / framerate\n",
    "\n",
    "sel_data = cal_data[sel_idxs]\n",
    "\n",
    "scatter(\n",
    "    sel_data.u.x, sel_data.u.y,\n",
    "    marker = (:circle, 2, :black, stroke(0)),\n",
    "    xlabel = \"x [m]\", ylabel = \"y [m]\"\n",
    ")"
   ]
  },
  {
   "cell_type": "code",
   "execution_count": null,
   "metadata": {},
   "outputs": [],
   "source": [
    "using CurveFit"
   ]
  },
  {
   "cell_type": "code",
   "execution_count": null,
   "metadata": {},
   "outputs": [],
   "source": [
    "f = curve_fit(Poly, sel_data.t, sel_data.u.y, 2)"
   ]
  },
  {
   "cell_type": "code",
   "execution_count": null,
   "metadata": {},
   "outputs": [],
   "source": [
    "plot(sel_data.t, f.(sel_data.t), label = \"fit\")\n",
    "scatter!(\n",
    "    sel_data.t, sel_data.u.y,\n",
    "    marker = (:circle, 2, :black, stroke(0)),\n",
    "    xlabel = \"t [s]\", ylabel = \"y [m]\",\n",
    "    label = \"data\"\n",
    ")"
   ]
  },
  {
   "cell_type": "code",
   "execution_count": null,
   "metadata": {},
   "outputs": [],
   "source": [
    "g_curvefit = -2 * f.a[3] * u\"m/s\""
   ]
  },
  {
   "cell_type": "code",
   "execution_count": null,
   "metadata": {},
   "outputs": [],
   "source": [
    "using LinearAlgebra # For norm, etc.\n",
    "using DifferentialEquations"
   ]
  },
  {
   "cell_type": "code",
   "execution_count": null,
   "metadata": {},
   "outputs": [],
   "source": [
    "function motion_eq!(ddu, du, u, params, t)\n",
    "    a = Vec2D(ddu)\n",
    "    v = Vec2D(du)\n",
    "\n",
    "    g, C_w = params\n",
    "    \n",
    "    rho_air = 1.209 # in kg/m^3, at 22°C and 1024 mbar\n",
    "    d_ball = 60e-3 # m\n",
    "    m_ball = 7.1e-3 # kg\n",
    "\n",
    "    m = m_ball\n",
    "    A = pi * (d_ball/2)^2 # cross section area\n",
    "\n",
    "    f_drag = - rho_air * A * C_w * norm(v) * v / 2\n",
    "    f_grav = m * Vec2D(zero(g), -g)\n",
    "\n",
    "    a = (f_drag + f_grav) / m\n",
    "   \n",
    "    ddu[:] = a\n",
    "end\n",
    "\n",
    "#g_local = 9.81 # m/s^2\n",
    "g_local = 9.83 # m/s^2\n",
    "\n",
    "#C_w = 0.47 # unitless, typical value for sphere\n",
    "C_w = 0.65\n",
    "\n",
    "params = [g_local, C_w]\n",
    "\n",
    "u0 = Array(sel_data.u[1])\n",
    "du0 = Array((sel_data.u[2] - u0) / (sel_data.t[2] - sel_data.t[1]) + Vec2D(0.0, 0.38))\n",
    "\n",
    "timespan = (first(sel_data.t), last(sel_data.t))\n",
    "\n",
    "# r = solve(SecondOrderODEProblem{true}(motion_eq!, du0, u0, timespan, params), Tsit5(), saveat = sel_data.t)\n",
    "r = solve(SecondOrderODEProblem{true}(motion_eq!, du0, u0, timespan, params), Tsit5())\n",
    "\n",
    "sim_data = Table(\n",
    "    # u = StructArray((u -> Vec2D(u.x[2])).(r.u)),\n",
    "    # t = r.t,\n",
    "    u = StructArray((x -> Vec2D(x.x[2])).(r.(sel_data.t))),\n",
    "    t = sel_data.t,\n",
    ")\n",
    "\n",
    "plot(sim_data.t, sim_data.u.y, #=marker = (:circle, 2, stroke(0)), label = \"sim\"=#)\n",
    "scatter!(\n",
    "    sel_data.t, sel_data.u.y,\n",
    "    marker = (:circle, 2, :black, stroke(0)),\n",
    "    xlabel = \"t [s]\", ylabel = \"y [m]\",\n",
    "    label = \"data\"\n",
    ")"
   ]
  },
  {
   "cell_type": "code",
   "execution_count": null,
   "metadata": {},
   "outputs": [],
   "source": [
    "@benchmark solve(SecondOrderODEProblem{true}(motion_eq!, du0, u0, timespan, params), Tsit5())"
   ]
  },
  {
   "cell_type": "markdown",
   "metadata": {},
   "source": [
    "## With Units"
   ]
  },
  {
   "cell_type": "code",
   "execution_count": null,
   "metadata": {},
   "outputs": [],
   "source": [
    "function motion_eq!(ddu, du, u, params, t)\n",
    "    a = Vec2D(ddu)\n",
    "    v = Vec2D(du)\n",
    "\n",
    "    g, C_w = params\n",
    "    \n",
    "    rho_air = 1.209u\"kg/m^3\"# at 22°C and 1024 mbar\n",
    "    d_ball = 60e-3u\"m\"\n",
    "    m_ball = 7.1e-3u\"kg\"\n",
    "\n",
    "    m = m_ball\n",
    "    A = π * (d_ball/2)^2 # cross section area\n",
    "\n",
    "    f_drag = - rho_air * A * C_w * norm(v) * v / 2\n",
    "    f_grav = m * Vec2D(zero(g), -g)\n",
    "\n",
    "    a = (f_drag + f_grav) / m\n",
    "   \n",
    "    ddu[:] = a\n",
    "end\n",
    "\n",
    "#g_local = 9.81u\"m/s^2\"\n",
    "g_local = 9.83u\"m/s^2\"\n",
    "\n",
    "#C_w = 0.47 # unitless, typical value for sphere\n",
    "C_w = 0.65\n",
    "\n",
    "params = [g_local, C_w]\n",
    "\n",
    "timespan = (first(sel_data.t)u\"s\", last(sel_data.t)u\"s\")\n",
    "\n",
    "u0 = Array(sel_data.u[1])u\"m\"\n",
    "du0 = Array((sel_data.u[2]u\"m\" - u0) / (sel_data.t[2] - sel_data.t[1])u\"s\" + Vec2D(0.0, 0.38)u\"m/s\")\n",
    "\n",
    "#r = solve(SecondOrderODEProblem{true}(motion_eq!, du0, u0, timespan, params), Midpoint(), saveat = sel_data.t * u\"s\")\n",
    "r = solve(SecondOrderODEProblem{true}(motion_eq!, du0, u0, timespan, params), Midpoint())\n",
    "\n",
    "sim_data = Table(\n",
    "    u = StructArray((u -> Vec2D(u.x[2])).(r.u)),\n",
    "    t = r.t,\n",
    "    #u = StructArray((x -> Vec2D(x.x[2])).(r.(sel_data.t * u\"s\"))),\n",
    "    #t = sel_data.t * u\"s\",\n",
    ")\n",
    "\n",
    "using UnitfulRecipes\n",
    "plot(sim_data.t, sim_data.u.y, xlabel = \"t\", ylabel = \"y\")"
   ]
  },
  {
   "cell_type": "code",
   "execution_count": null,
   "metadata": {},
   "outputs": [],
   "source": [
    "@benchmark solve(SecondOrderODEProblem{true}(motion_eq!, du0, u0, timespan, params), Midpoint())"
   ]
  }
 ],
 "metadata": {
  "@webio": {
   "lastCommId": "8160e42fcceb409788876fd667bd041c",
   "lastKernelId": "4b04c04d-cf7b-47ab-9058-60c48c9243f1"
  },
  "celltoolbar": "Slideshow",
  "hide_input": false,
  "kernelspec": {
   "display_name": "Julia 1.3.1",
   "language": "julia",
   "name": "julia-1.3"
  },
  "language_info": {
   "file_extension": ".jl",
   "mimetype": "application/julia",
   "name": "julia",
   "version": "1.3.1"
  },
  "livereveal": {
   "start_slideshow_at": "selected",
   "theme": "simple",
   "transition": "none"
  },
  "nbpresent": {
   "slides": {},
   "themes": {}
  },
  "toc": {
   "base_numbering": 1,
   "nav_menu": {},
   "number_sections": false,
   "sideBar": true,
   "skip_h1_title": false,
   "title_cell": "Table of Contents",
   "title_sidebar": "Contents",
   "toc_cell": false,
   "toc_position": {},
   "toc_section_display": true,
   "toc_window_display": false
  }
 },
 "nbformat": 4,
 "nbformat_minor": 2
}
