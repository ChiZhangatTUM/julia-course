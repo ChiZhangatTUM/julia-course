{
 "cells": [
  {
   "cell_type": "code",
   "execution_count": null,
   "metadata": {
    "slideshow": {
     "slide_type": "skip"
    }
   },
   "outputs": [],
   "source": [
    "# Check multithreading config:\n",
    "Base.Threads.nthreads()"
   ]
  },
  {
   "cell_type": "code",
   "execution_count": null,
   "metadata": {
    "slideshow": {
     "slide_type": "skip"
    }
   },
   "outputs": [],
   "source": [
    "# Check active package versions:\n",
    "using Pkg; pkg\"status\""
   ]
  },
  {
   "cell_type": "markdown",
   "metadata": {
    "collapsed": true,
    "nbpresent": {
     "id": "7b7b849a-81ae-4985-92ec-78b66da75f5f"
    },
    "slideshow": {
     "slide_type": "slide"
    }
   },
   "source": [
    "<h1 style=\"text-align: center;\">\n",
    "    <span style=\"display: block; text-align: center;\">\n",
    "        Introduction to\n",
    "    </span>\n",
    "    <span style=\"display: block; text-align: center;\">\n",
    "        <img alt=\"Julia\" src=\"images/logos/julia-logo.svg\" style=\"height: 2em; display: inline-block; margin: 1em;\"/>\n",
    "    </span>\n",
    "    <span style=\"display: block; text-align: center;\">\n",
    "        Part 1\n",
    "    </span>\n",
    "</h1>\n",
    "\n",
    "<div style=\"text-align: center;\">\n",
    "    <div style=\"text-align: center; display: inline-block; vertical-align: middle;\">\n",
    "        Ludger Pähler <br/>\n",
    "        <small>\n",
    "        TUM, Chair of Aerodynamics and Fluid mechanics <br/>\n",
    "            <a href=\"mailto:ludger.paehler@tum.de\" target=\"_blank\">ludger.paehler@tum.de</a>\n",
    "        </small>\n",
    "    </div>\n",
    "    <div style=\"text-align: center; display: inline-block;\">\n",
    "        <img src=\"images/logos/tum-logo.svg\" style=\"height: 8em; display: inline-block;  vertical-align: middle; margin: 1em;\"/>\n",
    "    </div>\n",
    "</div>\n",
    "\n",
    "<div style=\"text-align: center;\">\n",
    "    <p style=\"text-align: center; display: inline-block; vertical-align: middle;\">\n",
    "        Oliver Schulz<br>\n",
    "        <small>\n",
    "            Max Planck Institute for Physics <br/>\n",
    "            <a href=\"mailto:oschulz@mpp.mpg.de\" target=\"_blank\">oschulz@mpp.mpg.de</a>\n",
    "        </small>\n",
    "    </p>\n",
    "    <p style=\"text-align: center; display: inline-block; vertical-align: middle;\">\n",
    "        <img src=\"images/logos/mpg-logo.svg\" style=\"height: 5em; display: inline-block; vertical-align: middle; margin: 1em;\"/>\n",
    "        <img src=\"images/logos/mpp-logo.svg\" style=\"height: 5em; display: inline-block; vertical-align: middle; margin: 1em;\"/>\n",
    "    </p>\n",
    "</div>\n",
    "\n",
    "<p style=\"text-align: center;\">\n",
    "    Leibniz Supercomputing Centre - LRZ, Jan. 27th 2019\n",
    "</p>"
   ]
  },
  {
   "cell_type": "markdown",
   "metadata": {
    "slideshow": {
     "slide_type": "slide"
    }
   },
   "source": [
    "## Introduction"
   ]
  },
  {
   "cell_type": "markdown",
   "metadata": {
    "slideshow": {
     "slide_type": "slide"
    }
   },
   "source": [
    "### Science needs code - but how to write it?\n",
    "\n",
    "* Choice of programming language(s) matter!\n",
    "\n",
    "* Need to balance:\n",
    "    * Learning time\n",
    "    * Productivity\n",
    "    * Performance\n",
    "\n",
    "* Usually involves compromises"
   ]
  },
  {
   "cell_type": "markdown",
   "metadata": {
    "slideshow": {
     "slide_type": "slide"
    }
   },
   "source": [
    "### Programming Language Options\n",
    "\n",
    "* C++:\n",
    "    * Pro: Very fast (in expert hands)\n",
    "    * Con: Complex, takes long time to master\n",
    "    * Con: Straightforward tasks often result in lengthy code\n",
    "    * Con: No memory management (General protection faults)  \n",
    "    * No universal package management"
   ]
  },
  {
   "cell_type": "markdown",
   "metadata": {
    "slideshow": {
     "slide_type": "slide"
    }
   },
   "source": [
    "### Programming Language Options\n",
    "\n",
    "* Python:\n",
    "    * Pro: Broad user base, popular first programming language\n",
    "    * Pro: Easy to learn, good standard library\n",
    "    * Con: Can't write time-critical loops in Python,  \n",
    "      workarounds like Numba/Cython have many limitations\n",
    "    * Con: Language itself fairly primitive, not very expressive\n",
    "    * Con: Duck-Typing necessitates lots of test code\n",
    "    * Con: No effective multi-threading"
   ]
  },
  {
   "cell_type": "markdown",
   "metadata": {
    "slideshow": {
     "slide_type": "slide"
    }
   },
   "source": [
    "### What else is there?\n",
    "\n",
    "* Fortran:\n",
    "    * Pro: Math is really fast\n",
    "    * Con: Old language, few modern concepts, shrinking user base\n",
    "    * Do you *really* want to ...?\n",
    "\n",
    "\n",
    "* Scala, Go, Kotlin etc.:\n",
    "    * Pro: Lot's of individual strenghts\n",
    "    * Con: Math either fast *or* generic *or* or complicated\n",
    "    * Con: Calling C, Fortran or Phython code often difficult"
   ]
  },
  {
   "cell_type": "markdown",
   "metadata": {
    "slideshow": {
     "slide_type": "slide"
    }
   },
   "source": [
    "### The 97 and the 3 Percent\n",
    "\n",
    "> We should forget about small efficiencies, say about 97% of the time: *premature optimization is the root of all evil. Yet we should not pass up our opportunities in that critical 3%*.\n",
    "\n",
    "Donald E. Knuth\n",
    "\n",
    "* Some programming languages (e.g. Python) great for the 97% -  \n",
    "  but can't make the 3% fast.\n",
    "* Some other languages (e.g. C/C++, Fortran) can handle the 3% -  \n",
    "  but makes the 97% complicated."
   ]
  },
  {
   "cell_type": "markdown",
   "metadata": {
    "slideshow": {
     "slide_type": "slide"
    }
   },
   "source": [
    "### The Two-language Problem\n",
    "\n",
    "* Common approach nowadays:  \n",
    "  Write time critical code in C/C++, rest in Python\n",
    "\n",
    "* Pro: End-user can code comfortably in Python, with good performance\n",
    "\n",
    "* Con: Complexity of C/C++ **plus** complexity of Python\n",
    "\n",
    "* Con: Need proficiency in **two** languages, many users blocked  \n",
    "  from contributing to important parts of code\n",
    "\n",
    "* Con: Limits generic implementation of algorithms\n",
    "\n",
    "* Con: Severely limits metaprogramming"
   ]
  },
  {
   "cell_type": "markdown",
   "metadata": {
    "slideshow": {
     "slide_type": "slide"
    }
   },
   "source": [
    "### We were looking for a language ...\n",
    "* as fast as C/C++\n",
    "* as easy to learn and productive as Python\n",
    "* with first class math support (vectors, matrices, etc.)\n",
    "* with true functional programming\n",
    "* with great Fortran/C/C++/Python integration\n",
    "* with true metaprogramming (like Lisp or Scala)\n",
    "* good at parallel and distributed programming\n",
    "* suitable for for interactive, small and large applications"
   ]
  },
  {
   "cell_type": "markdown",
   "metadata": {
    "slideshow": {
     "slide_type": "slide"
    }
   },
   "source": [
    "### Julia\n",
    "* Designed for scientific/technical computing\n",
    "* Originated at MIT, first public version 2012\n",
    "* Covers the whole wish-list\n",
    "* Clear focus on user productivity and software quality\n",
    "* Rapid growth of user base and software packages\n",
    "* Software package management:  \n",
    "  Trivial to create and install packages\n",
    "* Excellent REPL (console)\n",
    "* Easy to call Fortran, C/C++ and Python code\n",
    "* Current version (almost): Julia v1.3(-RC4)"
   ]
  },
  {
   "cell_type": "markdown",
   "metadata": {
    "nbpresent": {
     "id": "b6763142-7446-43bf-a8a3-e7af798914d0"
    },
    "slideshow": {
     "slide_type": "slide"
    }
   },
   "source": [
    "### Julia Language Properties\n",
    "* Fast: JAOT compilation to native CPU and GPU code\n",
    "* Multiple-dispatch (more powerful than object-oriented):  \n",
    "  solves the expression problem\n",
    "* Dynamically typed, but types are fist-class\n",
    "* Functional programming and metaprogramming\n",
    "* First-class math support (like Fortran or Matlab)\n",
    "* Local and distributed code execution\n",
    "* State-of-the-art multi-threading: parallel code  \n",
    "  can call parallel code that can call parallel code, ...,  \n",
    "  without oversubscribing threads"
   ]
  },
  {
   "cell_type": "markdown",
   "metadata": {
    "slideshow": {
     "slide_type": "slide"
    }
   },
   "source": [
    "### Hello World (and more) in Julia"
   ]
  },
  {
   "cell_type": "code",
   "execution_count": null,
   "metadata": {},
   "outputs": [],
   "source": [
    "println(\"Hello, World!\")"
   ]
  },
  {
   "cell_type": "markdown",
   "metadata": {
    "slideshow": {
     "slide_type": "fragment"
    }
   },
   "source": [
    "Let's define a function"
   ]
  },
  {
   "cell_type": "code",
   "execution_count": null,
   "metadata": {},
   "outputs": [],
   "source": [
    "f(x, y) = x * y\n",
    "f(20, 2.1)"
   ]
  },
  {
   "cell_type": "markdown",
   "metadata": {},
   "source": [
    "Multiplication is also defined for vectors, so this works, too:"
   ]
  },
  {
   "cell_type": "code",
   "execution_count": null,
   "metadata": {},
   "outputs": [],
   "source": [
    "f(4.2, [1, 2, 3, 4])"
   ]
  },
  {
   "cell_type": "markdown",
   "metadata": {
    "slideshow": {
     "slide_type": "slide"
    }
   },
   "source": [
    "### Let's Look Under the Hood"
   ]
  },
  {
   "cell_type": "code",
   "execution_count": null,
   "metadata": {},
   "outputs": [],
   "source": [
    "@code_llvm debuginfo=:none f(20, 2.1)"
   ]
  },
  {
   "cell_type": "code",
   "execution_count": null,
   "metadata": {},
   "outputs": [],
   "source": [
    "@code_native debuginfo=:none f(20, 2.1)"
   ]
  },
  {
   "cell_type": "markdown",
   "metadata": {
    "slideshow": {
     "slide_type": "slide"
    }
   },
   "source": [
    "### Multiple Dispatch"
   ]
  },
  {
   "cell_type": "code",
   "execution_count": null,
   "metadata": {},
   "outputs": [],
   "source": [
    "foo(x::Integer, y::Number) = x * y\n",
    "foo(x::Integer, y::AbstractString) = join(fill(y, x))"
   ]
  },
  {
   "cell_type": "code",
   "execution_count": null,
   "metadata": {},
   "outputs": [],
   "source": [
    "foo(3, 4)"
   ]
  },
  {
   "cell_type": "code",
   "execution_count": null,
   "metadata": {},
   "outputs": [],
   "source": [
    "foo(3, \"abc\")"
   ]
  },
  {
   "cell_type": "code",
   "execution_count": null,
   "metadata": {},
   "outputs": [],
   "source": [
    "foo(4.5, 3)"
   ]
  },
  {
   "cell_type": "code",
   "execution_count": null,
   "metadata": {},
   "outputs": [],
   "source": [
    "foo(\"a\", \"b\")"
   ]
  },
  {
   "cell_type": "markdown",
   "metadata": {
    "slideshow": {
     "slide_type": "slide"
    }
   },
   "source": [
    "### Functional Programming"
   ]
  },
  {
   "cell_type": "code",
   "execution_count": null,
   "metadata": {},
   "outputs": [],
   "source": [
    "A = rand(10)\n",
    "idxs = findall(x -> 0.2 < x < 0.6, A)"
   ]
  },
  {
   "cell_type": "code",
   "execution_count": null,
   "metadata": {},
   "outputs": [],
   "source": [
    "A[idxs]"
   ]
  },
  {
   "cell_type": "markdown",
   "metadata": {
    "slideshow": {
     "slide_type": "slide"
    }
   },
   "source": [
    "Even types are first-class values:"
   ]
  },
  {
   "cell_type": "code",
   "execution_count": null,
   "metadata": {},
   "outputs": [],
   "source": [
    "mytype = Number"
   ]
  },
  {
   "cell_type": "code",
   "execution_count": null,
   "metadata": {},
   "outputs": [],
   "source": [
    "subtypes(mytype)"
   ]
  },
  {
   "cell_type": "markdown",
   "metadata": {},
   "source": [
    "Julia type hierarchy extends all the way down to primitive types:"
   ]
  },
  {
   "cell_type": "code",
   "execution_count": null,
   "metadata": {},
   "outputs": [],
   "source": [
    "Float64 <: AbstractFloat <: Real <: Number <: Any"
   ]
  },
  {
   "cell_type": "markdown",
   "metadata": {
    "slideshow": {
     "slide_type": "slide"
    }
   },
   "source": [
    "This is efficient (not runtime reflection):"
   ]
  },
  {
   "cell_type": "code",
   "execution_count": null,
   "metadata": {},
   "outputs": [],
   "source": [
    "half_dynrange(T::Type{<:Number}) = (Int(typemax(T)) - Int(typemin(T))) / 2\n",
    "half_dynrange(Int16)"
   ]
  },
  {
   "cell_type": "code",
   "execution_count": null,
   "metadata": {
    "scrolled": true
   },
   "outputs": [],
   "source": [
    "@code_llvm half_dynrange(Int16)"
   ]
  },
  {
   "cell_type": "markdown",
   "metadata": {
    "slideshow": {
     "slide_type": "slide"
    }
   },
   "source": [
    "### Broadcasting"
   ]
  },
  {
   "cell_type": "code",
   "execution_count": null,
   "metadata": {},
   "outputs": [],
   "source": [
    "A = [1.1, 2.2, 3.3]\n",
    "B = [4.4, 5.5, 6.6]\n",
    "broadcast((x, y) -> (x + y)^2, A, B)"
   ]
  },
  {
   "cell_type": "markdown",
   "metadata": {},
   "source": [
    "Shorter broadcast syntax:"
   ]
  },
  {
   "cell_type": "code",
   "execution_count": null,
   "metadata": {},
   "outputs": [],
   "source": [
    "(A .+ B) .^ 2"
   ]
  },
  {
   "cell_type": "markdown",
   "metadata": {
    "slideshow": {
     "slide_type": "slide"
    }
   },
   "source": [
    "#### Loop Fusion and SIMD Vectorization"
   ]
  },
  {
   "cell_type": "code",
   "execution_count": null,
   "metadata": {},
   "outputs": [],
   "source": [
    "foo(X, Y) = (X .+ Y) .^ 2\n",
    "@code_llvm debuginfo=:none foo(A, B)"
   ]
  },
  {
   "cell_type": "code",
   "execution_count": null,
   "metadata": {
    "slideshow": {
     "slide_type": "slide"
    }
   },
   "outputs": [],
   "source": [
    "@code_native foo(A, B)"
   ]
  },
  {
   "cell_type": "markdown",
   "metadata": {
    "slideshow": {
     "slide_type": "slide"
    }
   },
   "source": [
    "### Let's Make a Plot"
   ]
  },
  {
   "cell_type": "code",
   "execution_count": null,
   "metadata": {},
   "outputs": [],
   "source": [
    "using Plots\n",
    "range = -π:0.01:π\n",
    "plot(range, sin.(range) + rand(length(range)))"
   ]
  },
  {
   "cell_type": "markdown",
   "metadata": {
    "slideshow": {
     "slide_type": "slide"
    }
   },
   "source": [
    "### Histograms are easy, too"
   ]
  },
  {
   "cell_type": "code",
   "execution_count": null,
   "metadata": {},
   "outputs": [],
   "source": [
    "using Distributions\n",
    "dist = Normal(0.0, 5.0)"
   ]
  },
  {
   "cell_type": "code",
   "execution_count": null,
   "metadata": {},
   "outputs": [],
   "source": [
    "stephist(rand(dist, 10000))"
   ]
  },
  {
   "cell_type": "markdown",
   "metadata": {
    "slideshow": {
     "slide_type": "slide"
    }
   },
   "source": [
    "### Python integration via PyCall.jl"
   ]
  },
  {
   "cell_type": "code",
   "execution_count": null,
   "metadata": {},
   "outputs": [],
   "source": [
    "using PyCall"
   ]
  },
  {
   "cell_type": "code",
   "execution_count": null,
   "metadata": {},
   "outputs": [],
   "source": [
    "numpy = pyimport(\"numpy\")\n",
    "numpy.zeros(5)"
   ]
  },
  {
   "cell_type": "code",
   "execution_count": null,
   "metadata": {},
   "outputs": [],
   "source": [
    "A = rand(5)"
   ]
  },
  {
   "cell_type": "code",
   "execution_count": null,
   "metadata": {},
   "outputs": [],
   "source": [
    "py\"\"\"type($A)\"\"\""
   ]
  },
  {
   "cell_type": "markdown",
   "metadata": {
    "slideshow": {
     "slide_type": "slide"
    }
   },
   "source": [
    "### C++ Integration via Cxx.jl"
   ]
  },
  {
   "cell_type": "code",
   "execution_count": null,
   "metadata": {},
   "outputs": [],
   "source": [
    "using Cxx\n",
    "cxxinclude(\"iostream\")\n",
    "\n",
    "message = \"Hello, World\"\n",
    "out_stream = icxx\" std::cout << $message << std::endl; \""
   ]
  },
  {
   "cell_type": "code",
   "execution_count": null,
   "metadata": {},
   "outputs": [],
   "source": [
    "message = \"Hello, World!\"\n",
    "l = signed(icxx\"\"\" std::string($message).size(); \"\"\")"
   ]
  },
  {
   "cell_type": "code",
   "execution_count": null,
   "metadata": {},
   "outputs": [],
   "source": [
    "icxx\"\"\" $out_stream << \"Message is \" << $l << \" characters long.\" << std::endl; 0; \"\"\";"
   ]
  },
  {
   "cell_type": "markdown",
   "metadata": {
    "slideshow": {
     "slide_type": "slide"
    }
   },
   "source": [
    "### Running Julia code on GPUs"
   ]
  },
  {
   "cell_type": "code",
   "execution_count": null,
   "metadata": {},
   "outputs": [],
   "source": [
    "ENV[\"JULIA_DEBUG\"] = \"CUDAnative\"\n",
    "\n",
    "using GPUArrays, CuArrays, CUDAnative, FFTW\n",
    "\n",
    "f(a, b) = a^2 + b^2\n",
    "\n",
    "A_cpu = rand(10^6); B_cpu = rand(10^6);\n",
    "result_cpu = sum(f.(A_cpu, B_cpu))\n",
    "\n",
    "A_gpu = CuArray(A_cpu); B_gpu = CuArray(B_cpu);\n",
    "result_gpu = sum(f.(A_gpu, B_gpu))\n",
    "\n",
    "result_cpu ≈ result_gpu"
   ]
  },
  {
   "cell_type": "markdown",
   "metadata": {},
   "source": [
    "Can also write CUDA kernels in Julia by hand via [CUDAnative.jl](https://github.com/JuliaGPU/CUDAnative.jl)."
   ]
  },
  {
   "cell_type": "code",
   "execution_count": null,
   "metadata": {},
   "outputs": [],
   "source": []
  }
 ],
 "metadata": {
  "@webio": {
   "lastCommId": null,
   "lastKernelId": null
  },
  "celltoolbar": "Slideshow",
  "hide_input": false,
  "kernelspec": {
   "display_name": "Julia 1.3.0",
   "language": "julia",
   "name": "julia-1.3"
  },
  "language_info": {
   "file_extension": ".jl",
   "mimetype": "application/julia",
   "name": "julia",
   "version": "1.3.0"
  },
  "livereveal": {
   "start_slideshow_at": "selected",
   "theme": "simple",
   "transition": "none"
  },
  "nbpresent": {
   "slides": {},
   "themes": {}
  },
  "toc": {
   "base_numbering": 1,
   "nav_menu": {},
   "number_sections": false,
   "sideBar": true,
   "skip_h1_title": false,
   "title_cell": "Table of Contents",
   "title_sidebar": "Contents",
   "toc_cell": false,
   "toc_position": {},
   "toc_section_display": true,
   "toc_window_display": false
  }
 },
 "nbformat": 4,
 "nbformat_minor": 2
}
