{
 "cells": [
  {
   "cell_type": "code",
   "execution_count": null,
   "metadata": {
    "slideshow": {
     "slide_type": "skip"
    }
   },
   "outputs": [],
   "source": [
    "# Check multithreading config:\n",
    "Base.Threads.nthreads()"
   ]
  },
  {
   "cell_type": "code",
   "execution_count": null,
   "metadata": {
    "slideshow": {
     "slide_type": "skip"
    }
   },
   "outputs": [],
   "source": [
    "# Check active package versions:\n",
    "using Pkg; pkg\"status\""
   ]
  },
  {
   "cell_type": "markdown",
   "metadata": {
    "collapsed": true,
    "nbpresent": {
     "id": "7b7b849a-81ae-4985-92ec-78b66da75f5f"
    },
    "slideshow": {
     "slide_type": "slide"
    }
   },
   "source": [
    "<h1 style=\"text-align: center;\">\n",
    "    <span style=\"display: block; text-align: center;\">\n",
    "        Introduction to\n",
    "    </span>\n",
    "    <span style=\"display: block; text-align: center;\">\n",
    "        <img alt=\"Julia\" src=\"images/logos/julia-logo.svg\" style=\"height: 2em; display: inline-block; margin: 1em;\"/>\n",
    "    </span>\n",
    "    <span style=\"display: block; text-align: center;\">\n",
    "        Part 2\n",
    "    </span>\n",
    "</h1>\n",
    "\n",
    "<div style=\"text-align: center;\">\n",
    "    <div style=\"text-align: center; display: inline-block; vertical-align: middle;\">\n",
    "        Ludger Pähler <br/>\n",
    "        <small>\n",
    "        TUM, Chair of Aerodynamics and Fluid mechanics <br/>\n",
    "            <a href=\"mailto:ludger.paehler@tum.de\" target=\"_blank\">ludger.paehler@tum.de</a>\n",
    "        </small>\n",
    "    </div>\n",
    "    <div style=\"text-align: center; display: inline-block;\">\n",
    "        <img src=\"images/logos/tum-logo.svg\" style=\"height: 8em; display: inline-block;  vertical-align: middle; margin: 1em;\"/>\n",
    "    </div>\n",
    "</div>\n",
    "\n",
    "<div style=\"text-align: center;\">\n",
    "    <p style=\"text-align: center; display: inline-block; vertical-align: middle;\">\n",
    "        Oliver Schulz<br>\n",
    "        <small>\n",
    "            Max Planck Institute for Physics <br/>\n",
    "            <a href=\"mailto:oschulz@mpp.mpg.de\" target=\"_blank\">oschulz@mpp.mpg.de</a>\n",
    "        </small>\n",
    "    </p>\n",
    "    <p style=\"text-align: center; display: inline-block; vertical-align: middle;\">\n",
    "        <img src=\"images/logos/mpg-logo.svg\" style=\"height: 5em; display: inline-block; vertical-align: middle; margin: 1em;\"/>\n",
    "        <img src=\"images/logos/mpp-logo.svg\" style=\"height: 5em; display: inline-block; vertical-align: middle; margin: 1em;\"/>\n",
    "    </p>\n",
    "</div>\n",
    "\n",
    "<p style=\"text-align: center;\">\n",
    "    Leibniz Supercomputing Centre - LRZ, Jan. 28th 2019\n",
    "</p>"
   ]
  },
  {
   "cell_type": "markdown",
   "metadata": {
    "slideshow": {
     "slide_type": "slide"
    }
   },
   "source": [
    "## Section 1"
   ]
  },
  {
   "cell_type": "markdown",
   "metadata": {
    "slideshow": {
     "slide_type": "slide"
    }
   },
   "source": [
    "### Slide Title\n",
    "\n",
    "* text text text\n",
    "* ..."
   ]
  },
  {
   "cell_type": "markdown",
   "metadata": {
    "slideshow": {
     "slide_type": "slide"
    }
   },
   "source": [
    "### Hello World in Julia"
   ]
  },
  {
   "cell_type": "code",
   "execution_count": null,
   "metadata": {},
   "outputs": [],
   "source": [
    "println(\"Hello, World!\")"
   ]
  },
  {
   "cell_type": "markdown",
   "metadata": {
    "slideshow": {
     "slide_type": "slide"
    }
   },
   "source": [
    "## Section 2"
   ]
  },
  {
   "cell_type": "markdown",
   "metadata": {
    "slideshow": {
     "slide_type": "slide"
    }
   },
   "source": [
    "### Slide Title\n",
    "\n",
    "* text text text\n",
    "* ..."
   ]
  }
 ],
 "metadata": {
  "@webio": {
   "lastCommId": null,
   "lastKernelId": null
  },
  "celltoolbar": "Slideshow",
  "hide_input": false,
  "kernelspec": {
   "display_name": "Julia 1.3.0",
   "language": "julia",
   "name": "julia-1.3"
  },
  "language_info": {
   "file_extension": ".jl",
   "mimetype": "application/julia",
   "name": "julia",
   "version": "1.3.0"
  },
  "livereveal": {
   "start_slideshow_at": "selected",
   "theme": "simple",
   "transition": "none"
  },
  "nbpresent": {
   "slides": {},
   "themes": {}
  },
  "toc": {
   "base_numbering": 1,
   "nav_menu": {},
   "number_sections": false,
   "sideBar": true,
   "skip_h1_title": false,
   "title_cell": "Table of Contents",
   "title_sidebar": "Contents",
   "toc_cell": false,
   "toc_position": {},
   "toc_section_display": true,
   "toc_window_display": false
  }
 },
 "nbformat": 4,
 "nbformat_minor": 2
}
